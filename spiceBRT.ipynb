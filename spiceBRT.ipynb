{
 "metadata": {
  "language_info": {
   "codemirror_mode": {
    "name": "ipython",
    "version": 3
   },
   "file_extension": ".py",
   "mimetype": "text/x-python",
   "name": "python",
   "nbconvert_exporter": "python",
   "pygments_lexer": "ipython3",
   "version": "3.8.3-final"
  },
  "orig_nbformat": 2,
  "kernelspec": {
   "name": "python3",
   "display_name": "Python 3",
   "language": "python"
  }
 },
 "nbformat": 4,
 "nbformat_minor": 2,
 "cells": [
  {
   "source": [
    "# Laboratorio SPICE\n",
    "\n",
    "Borja Rullán Terrazas\n",
    "\n",
    "## 1. Introducción\n",
    "\n",
    "Para la realización de este ejercicio vamos a trabajar con SPICE, método estándar para la descripción de circuitos a partir de texto plano. \n",
    "\n",
    "A continuación se enumeran diferentes interpretes de SPICE, todos ellos desarrollados \n",
    "a partir del original de la Universidad de Berkeley. De hecho, desde la página oficial de la universidad encontramos algunos ejemplos.  \n",
    "\n",
    "| Intérprete | Licencia    | Fabricante         | Características                  |\n",
    "|------------|-------------|--------------------|----------------------------------|\n",
    "| Ahkab      | GPL         | Giuseppe Venturini | Basado en Python                 |\n",
    "| HSPICE     | Comercial   | Avant!             | Versión comercial, más robusta   |\n",
    "| SPICE3     | BSD license | Berkeley           | Corre sobre plataformas UNIX     |\n",
    "| ngspice    | BSD license |                    | Basado en SPICE3, Cider1 y Xspice|\n",
    "\n",
    "\n",
    "\n",
    "### 1.1 Características de SPICE\n",
    "\n",
    "A la descripción de texto plano que define el circuito se le llama netlist, algunos de los elementos básicos que lo componen son:\n",
    "\n",
    "- Comentarios, que empiezan con el símbolo *\n",
    "- Dispositivos básicos ( _V_ para fuentes de alimentacion, _R_ para resistencias, _C_ para condensadores y _L_ para bobinas)\n",
    "- Puntos de union. Se utilizan normalmente numeracion secuencial. El único criterio que hay que seguir es que en el caso de una fuente de alimentación el nodo que pongamos primero será el que se encuentre más cerca del borne positivo.\n",
    "- SPICE utiliza siempre las unidades del Sistema Internacional y no hay que hacer referencia a las mismas. Se pueden utilizar múltimplos utilizando _K_ para kilo, _m_ para mili y _u_ para micro. \n",
    "- Para las fuentes de alimentacion hay que especificar si se trata de corriente continua o alterna.\n",
    "- El final del circuito se especifica con el comando .estándar\n",
    "\n",
    "Las unidades del Sistema Internacion relacionadas con la asignatura y con los circuitos en general que conozco son: \n",
    "\n",
    "| Unidad     | Símbolo  | Descripción                             | \n",
    "| ---------- | -------- | ----------------------------------------| \n",
    "| Voltios    | _V_      |  Potencial electrico                    | \n",
    "| Amperios   | _A_      | Intensidad                              | \n",
    "| Ohmios     | _Ω_      | Resistividad                            |\n",
    "| Faradios   | _F_      | Capacidad, Unidad compuesta: A*/V       |\n",
    "| Julios     | _J_      | Energia                                 |\n",
    "| Culombios  | _C_      |  Carga electrica. 1 A * 1 s             |\n",
    "\n",
    "### 1.2 Realización de análisis con SPICE\n",
    "\n",
    "SPICE no solo permite la descripción del circuito sino también la realización de análisis sobre el mismo.  Los principales comandos de simulación son: \n",
    "\n",
    "- _.op_ :Devuelve voltaje e intensidad en cada rama y componente del circuito. \n",
    "- _.dc_ :Devuelve voltaje e intensidad en cada rama y componente del circuito pero nos permite cambiar el valor de voltaje de una fuente de alimentación en pasos consecutivos.\n",
    "- _.tran_ :Permite realizar un análisis en el tiempo de los parametros del circuito. Si no se emplea la directiva uic (use initial conditions) o esta es igual a cero. \n",
    "\n",
    "A SPICE lo catalogaría dentro de de los lenguajes de programación orientados a objetos, ya que podríamos considerar una netlist como una instancia de un objeto circuito que tiene unas caracteristicas asociadas, que a su vez está compuesto de otras entidades (elementos básicos) y que tienen unas funciones (análisis), que tienen como parámetros de entrada los valores del netlist.\n",
    "\n",
    "Por otro lado, los valores que puede tener el parámetro _uic_ son:\n",
    "\n",
    "- _uic=0_: all node voltages and currents through v/h/e/sources will be assumed to be zero at t =tstart\n",
    "- _uic_=1: la situación en ‘t = tstart es el último resultado del análisis OP.\n",
    "- _uic_=2: the status at t=tstart is the last result from a OP analysis on which are set the valuesof currents through inductors and voltages on capacitors specified in their ic. This is done very roughly, checking is recommended.\n",
    "- _uic_=3: Load a user supplied ic. This requires a .ic directive somewhere in the netlist and a ic‘s name and ic_label must match.\n"
   ],
   "cell_type": "markdown",
   "metadata": {}
  },
  {
   "source": [
    "## 2. Trabajo práctico\n",
    "\n",
    "Los primeros pasos tienen que ver con la importación de Ahkab, que es el interprete de SPICE sobre Python que vamos a utilizar. \n",
    "\n",
    "Me quedan pendientes estas dos preguntas.\n",
    "\n",
    "Pregunta: Comenta las distintas implementaciones de lenguajes y estándares que conozcas. Hazlo usando una tabla en Markdown. Aquí tienes un poco de ayuda (aunque antes ya se ha puesto el ejemplo de una tabla).\n",
    "\n",
    "Pregunta: Describe brevemente este software (creador, objetivos, versiones, licencia, características principales, dependencias, etc.).\n",
    "\n",
    "Lo único que tenemos que hacer es importar las distintas librerias:\n",
    "\n"
   ],
   "cell_type": "markdown",
   "metadata": {}
  },
  {
   "cell_type": "code",
   "execution_count": 4,
   "metadata": {},
   "outputs": [
    {
     "output_type": "stream",
     "name": "stderr",
     "text": [
      "W: Locale appears not set! please export LANG=\"en_US.UTF-8\" or equivalent, \nW: or ahkab's unicode support is broken.\n"
     ]
    }
   ],
   "source": [
    "import pylab as plt\n",
    "import ahkab\n",
    "import sympy as py"
   ]
  },
  {
   "cell_type": "code",
   "execution_count": null,
   "metadata": {},
   "outputs": [],
   "source": [
    "Pregunta: ¿Qué es y para qué sirve PyLab?\n",
    "\n"
   ]
  },
  {
   "source": [
    "\n",
    "## 2.1 Introducción Ley de Ohm\n",
    "\n",
    "La Ley de Ohm indica que el voltaje que se disipa en un tramo de circuito es equivalente  a intensidad de la corriente ( cuantos electrones circulan por unidad de tiempo) por la resistencia del material en que se está desplazando es la misma. \n",
    "\n",
    "$$V = I*R$$\n",
    "\n",
    "Como veremos a continuación la Ley de Ohm está  ajustada a nivel dimensional, es decir, la naturaleza de lo que está a ambos lados del signo igual es la misma.\n",
    "\n",
    "Cuando una pila se conecta a dos metales, provoca que las cargas comiencen a viajar desde uno al otro, hasta que la diferencia de potencial se equipara al de la batería.\n",
    "\n",
    "La transferencia de carga es proporcional al voltaje de la bateria, a la constante de proporcionalidad se le llama capacidad (_C_)\n",
    "\n",
    "$$q = C*V$$\n",
    "\n",
    "Por otro lado, la intensidad representa la tasa de cambio de la carga con el tiempo \n",
    "\n",
    "$$I=\\frac{d}{dt}*q$$\n",
    "\n",
    "Por lo tanto si volvemos a la Ley de Ohm\n",
    "\n",
    "$$V = I*R$$\n",
    "\n",
    "y sustituimos a ambos lados por los resultados obtenidos anteriormente tendremos\n",
    "\n",
    "$$\\frac{q}{C}=\\frac{d}{dt}*q*R$$\n",
    "\n",
    "Es decir, todo esta relacionado con las cargas y su viaje a traves del conductor, incorporando dos factores de proporcionalidad como son la capacidad (_C_) y la resistencia (_R_).\n",
    "\n",
    "\n",
    "\n",
    "\n",
    "## 2.2 Circuito sencillo\n",
    "\n",
    "\n",
    "Comenzamos a pintar el circuito más sencillo posible de todos a partir de la descripción obtenida en el enunciado de la actividad"
   ],
   "cell_type": "markdown",
   "metadata": {}
  },
  {
   "cell_type": "code",
   "execution_count": 5,
   "metadata": {},
   "outputs": [
    {
     "output_type": "stream",
     "name": "stdout",
     "text": [
      "Overwriting circuito sencilloBRT.sp\n"
     ]
    }
   ],
   "source": [
    "%%writefile \"circuito sencilloBRT.sp\"\n",
    "Circuito sencillo\n",
    "r1 1 0 100\n",
    "* una pila de 9 voltios en corriente continua\n",
    "v1 0 1 type=vdc vdc=9\n",
    "*empiezan los comando para realizar el análisis sobre el circuito\n",
    ".op\n",
    "*variamos el valor del voltaje desde 0 hasta 9 en pasos de 1 voltio\n",
    ".dc v1 start=0 stop=9 step=1\n",
    "* el fin de la descripción se especifica con el comando.end\n",
    ".end"
   ]
  },
  {
   "source": [
    "Ahora vamos a leer la descripción del fichero con Ahkab, para a partir de ahí interpretar y ejecutar el análisis del circuito. Los resultados los vamos a volcar en la variable _lista_de_analisis_, que es una estructura tipo _list_ en Python. "
   ],
   "cell_type": "markdown",
   "metadata": {}
  },
  {
   "source": [
    "circuito_y_analisis = ahkab.netlist_parser.parse_circuit('circuito sencilloBRT.sp')\n"
   ],
   "cell_type": "code",
   "metadata": {},
   "execution_count": 8,
   "outputs": []
  },
  {
   "cell_type": "code",
   "execution_count": 9,
   "metadata": {},
   "outputs": [
    {
     "output_type": "stream",
     "name": "stdout",
     "text": [
      "[{'type': 'op', 'guess': True, 'x0': None}, {'type': 'dc', 'source': 'v1', 'start': 0.0, 'stop': 9.0, 'step': 1.0, 'sweep_type': 'LIN'}]\n"
     ]
    }
   ],
   "source": [
    "circuito = circuito_y_analisis [0]\n",
    "analisis = circuito_y_analisis[1]\n",
    "lista_de_analisis = ahkab.netlist_parser.parse_analysis(circuito, analisis)\n",
    "print(lista_de_analisis)"
   ]
  },
  {
   "source": [
    "Las simulaciones que tendrán listas de datos, es decir, todas ellas que no son.op, necesitan de un fichero temporal donde almacenar los resultados. Con este código identificamos que listas de análisis son del tipo _.dc_ o _.tran_ y añadimos la propiedad outfile en este caso. \n",
    "\n"
   ],
   "cell_type": "markdown",
   "metadata": {}
  },
  {
   "cell_type": "code",
   "execution_count": 59,
   "metadata": {},
   "outputs": [],
   "source": [
    "\n",
    "indexdc=0\n",
    "indextran=0\n",
    "for i in lista_de_analisis:\n",
    "    if i['type']==\"dc\": \n",
    "        indexdc=lista_de_analisis.index(i)\n",
    "    if i['type']==\"tran\": \n",
    "        indextran=lista_de_analisis.index(i)   \n",
    "\n",
    "if indexdc>0:\n",
    "    lista_de_analisis[indexdc]['outfile'] = \"simulacionBRT dc.tsv\"\n",
    "\n",
    "if indextran>0:\n",
    "    lista_de_analisis[indextran]['outfile'] = \"simulacionBRT tran.tsv\"\n"
   ]
  },
  {
   "source": [
    "Comprobamos que el código anterior ha funcionado en el caso de dc, que es el que aplica en el ejericio. \n",
    "\n"
   ],
   "cell_type": "markdown",
   "metadata": {}
  },
  {
   "cell_type": "code",
   "execution_count": 61,
   "metadata": {},
   "outputs": [
    {
     "output_type": "stream",
     "name": "stdout",
     "text": [
      "simulacionBRT dc.tsv\n"
     ]
    }
   ],
   "source": [
    "print(lista_de_analisis[1]['outfile'])"
   ]
  },
  {
   "source": [
    "Ahora, se ejecutan el método _.run_ de Ahkab:"
   ],
   "cell_type": "markdown",
   "metadata": {}
  },
  {
   "cell_type": "code",
   "execution_count": 63,
   "metadata": {},
   "outputs": [
    {
     "output_type": "stream",
     "name": "stdout",
     "text": [
      "Starting op analysis:\n",
      "Calculating guess: skipped. (linear circuit)\n",
      "Solving...   done.\n",
      "Solving...   done.\n",
      "Difference check within margins.\n",
      "(Voltage: er=0.001, ea=1e-06, Current: er=0.001, ea=1e-09)\n",
      "Starting DC analysis:\n",
      "Solving...  done\n"
     ]
    }
   ],
   "source": [
    "resultados = ahkab.run ( circuito,lista_de_analisis)"
   ]
  },
  {
   "cell_type": "code",
   "execution_count": 64,
   "metadata": {},
   "outputs": [
    {
     "output_type": "stream",
     "name": "stdout",
     "text": [
      "<DC simulation results for 'circuito sencillo' (netlist circuito sencilloBRT.sp). LIN sweep of V1 from 0 to 9 V. Run on 2021-01-04 22:39:25, data file simulacionBRT dc.tsv>\n"
     ]
    }
   ],
   "source": [
    "print ( resultados ['dc'])"
   ]
  },
  {
   "cell_type": "code",
   "execution_count": 65,
   "metadata": {},
   "outputs": [
    {
     "output_type": "stream",
     "name": "stdout",
     "text": [
      "<bound method solution.keys of <ahkab.results.dc_solution object at 0x7f855548f8b0>>\n"
     ]
    }
   ],
   "source": [
    "print(resultados['dc'].keys)"
   ]
  },
  {
   "cell_type": "code",
   "execution_count": 98,
   "metadata": {},
   "outputs": [
    {
     "output_type": "execute_result",
     "data": {
      "text/plain": [
       "[<matplotlib.lines.Line2D at 0x7fc1cb5b3d60>]"
      ]
     },
     "metadata": {},
     "execution_count": 98
    },
    {
     "output_type": "display_data",
     "data": {
      "text/plain": "<Figure size 432x288 with 1 Axes>",
      "image/svg+xml": "<?xml version=\"1.0\" encoding=\"utf-8\" standalone=\"no\"?>\n<!DOCTYPE svg PUBLIC \"-//W3C//DTD SVG 1.1//EN\"\n  \"http://www.w3.org/Graphics/SVG/1.1/DTD/svg11.dtd\">\n<!-- Created with matplotlib (https://matplotlib.org/) -->\n<svg height=\"264.604062pt\" version=\"1.1\" viewBox=\"0 0 389.909844 264.604062\" width=\"389.909844pt\" xmlns=\"http://www.w3.org/2000/svg\" xmlns:xlink=\"http://www.w3.org/1999/xlink\">\n <metadata>\n  <rdf:RDF xmlns:cc=\"http://creativecommons.org/ns#\" xmlns:dc=\"http://purl.org/dc/elements/1.1/\" xmlns:rdf=\"http://www.w3.org/1999/02/22-rdf-syntax-ns#\">\n   <cc:Work>\n    <dc:type rdf:resource=\"http://purl.org/dc/dcmitype/StillImage\"/>\n    <dc:date>2020-12-31T11:59:51.145705</dc:date>\n    <dc:format>image/svg+xml</dc:format>\n    <dc:creator>\n     <cc:Agent>\n      <dc:title>Matplotlib v3.3.3, https://matplotlib.org/</dc:title>\n     </cc:Agent>\n    </dc:creator>\n   </cc:Work>\n  </rdf:RDF>\n </metadata>\n <defs>\n  <style type=\"text/css\">*{stroke-linecap:butt;stroke-linejoin:round;}</style>\n </defs>\n <g id=\"figure_1\">\n  <g id=\"patch_1\">\n   <path d=\"M 0 264.604062 \nL 389.909844 264.604062 \nL 389.909844 0 \nL 0 0 \nz\n\" style=\"fill:none;\"/>\n  </g>\n  <g id=\"axes_1\">\n   <g id=\"patch_2\">\n    <path d=\"M 47.909844 239.758125 \nL 382.709844 239.758125 \nL 382.709844 22.318125 \nL 47.909844 22.318125 \nz\n\" style=\"fill:#ffffff;\"/>\n   </g>\n   <g id=\"matplotlib.axis_1\">\n    <g id=\"xtick_1\">\n     <g id=\"line2d_1\">\n      <defs>\n       <path d=\"M 0 0 \nL 0 3.5 \n\" id=\"m9ea4405643\" style=\"stroke:#000000;stroke-width:0.8;\"/>\n      </defs>\n      <g>\n       <use style=\"stroke:#000000;stroke-width:0.8;\" x=\"63.128026\" xlink:href=\"#m9ea4405643\" y=\"239.758125\"/>\n      </g>\n     </g>\n     <g id=\"text_1\">\n      <!-- 0 -->\n      <g transform=\"translate(59.628651 255.116406)scale(0.11 -0.11)\">\n       <defs>\n        <path d=\"M 31.78125 66.40625 \nQ 24.171875 66.40625 20.328125 58.90625 \nQ 16.5 51.421875 16.5 36.375 \nQ 16.5 21.390625 20.328125 13.890625 \nQ 24.171875 6.390625 31.78125 6.390625 \nQ 39.453125 6.390625 43.28125 13.890625 \nQ 47.125 21.390625 47.125 36.375 \nQ 47.125 51.421875 43.28125 58.90625 \nQ 39.453125 66.40625 31.78125 66.40625 \nz\nM 31.78125 74.21875 \nQ 44.046875 74.21875 50.515625 64.515625 \nQ 56.984375 54.828125 56.984375 36.375 \nQ 56.984375 17.96875 50.515625 8.265625 \nQ 44.046875 -1.421875 31.78125 -1.421875 \nQ 19.53125 -1.421875 13.0625 8.265625 \nQ 6.59375 17.96875 6.59375 36.375 \nQ 6.59375 54.828125 13.0625 64.515625 \nQ 19.53125 74.21875 31.78125 74.21875 \nz\n\" id=\"DejaVuSans-48\"/>\n       </defs>\n       <use xlink:href=\"#DejaVuSans-48\"/>\n      </g>\n     </g>\n    </g>\n    <g id=\"xtick_2\">\n     <g id=\"line2d_2\">\n      <g>\n       <use style=\"stroke:#000000;stroke-width:0.8;\" x=\"130.764389\" xlink:href=\"#m9ea4405643\" y=\"239.758125\"/>\n      </g>\n     </g>\n     <g id=\"text_2\">\n      <!-- 2 -->\n      <g transform=\"translate(127.265014 255.116406)scale(0.11 -0.11)\">\n       <defs>\n        <path d=\"M 19.1875 8.296875 \nL 53.609375 8.296875 \nL 53.609375 0 \nL 7.328125 0 \nL 7.328125 8.296875 \nQ 12.9375 14.109375 22.625 23.890625 \nQ 32.328125 33.6875 34.8125 36.53125 \nQ 39.546875 41.84375 41.421875 45.53125 \nQ 43.3125 49.21875 43.3125 52.78125 \nQ 43.3125 58.59375 39.234375 62.25 \nQ 35.15625 65.921875 28.609375 65.921875 \nQ 23.96875 65.921875 18.8125 64.3125 \nQ 13.671875 62.703125 7.8125 59.421875 \nL 7.8125 69.390625 \nQ 13.765625 71.78125 18.9375 73 \nQ 24.125 74.21875 28.421875 74.21875 \nQ 39.75 74.21875 46.484375 68.546875 \nQ 53.21875 62.890625 53.21875 53.421875 \nQ 53.21875 48.921875 51.53125 44.890625 \nQ 49.859375 40.875 45.40625 35.40625 \nQ 44.1875 33.984375 37.640625 27.21875 \nQ 31.109375 20.453125 19.1875 8.296875 \nz\n\" id=\"DejaVuSans-50\"/>\n       </defs>\n       <use xlink:href=\"#DejaVuSans-50\"/>\n      </g>\n     </g>\n    </g>\n    <g id=\"xtick_3\">\n     <g id=\"line2d_3\">\n      <g>\n       <use style=\"stroke:#000000;stroke-width:0.8;\" x=\"198.400753\" xlink:href=\"#m9ea4405643\" y=\"239.758125\"/>\n      </g>\n     </g>\n     <g id=\"text_3\">\n      <!-- 4 -->\n      <g transform=\"translate(194.901378 255.116406)scale(0.11 -0.11)\">\n       <defs>\n        <path d=\"M 37.796875 64.3125 \nL 12.890625 25.390625 \nL 37.796875 25.390625 \nz\nM 35.203125 72.90625 \nL 47.609375 72.90625 \nL 47.609375 25.390625 \nL 58.015625 25.390625 \nL 58.015625 17.1875 \nL 47.609375 17.1875 \nL 47.609375 0 \nL 37.796875 0 \nL 37.796875 17.1875 \nL 4.890625 17.1875 \nL 4.890625 26.703125 \nz\n\" id=\"DejaVuSans-52\"/>\n       </defs>\n       <use xlink:href=\"#DejaVuSans-52\"/>\n      </g>\n     </g>\n    </g>\n    <g id=\"xtick_4\">\n     <g id=\"line2d_4\">\n      <g>\n       <use style=\"stroke:#000000;stroke-width:0.8;\" x=\"266.037116\" xlink:href=\"#m9ea4405643\" y=\"239.758125\"/>\n      </g>\n     </g>\n     <g id=\"text_4\">\n      <!-- 6 -->\n      <g transform=\"translate(262.537741 255.116406)scale(0.11 -0.11)\">\n       <defs>\n        <path d=\"M 33.015625 40.375 \nQ 26.375 40.375 22.484375 35.828125 \nQ 18.609375 31.296875 18.609375 23.390625 \nQ 18.609375 15.53125 22.484375 10.953125 \nQ 26.375 6.390625 33.015625 6.390625 \nQ 39.65625 6.390625 43.53125 10.953125 \nQ 47.40625 15.53125 47.40625 23.390625 \nQ 47.40625 31.296875 43.53125 35.828125 \nQ 39.65625 40.375 33.015625 40.375 \nz\nM 52.59375 71.296875 \nL 52.59375 62.3125 \nQ 48.875 64.0625 45.09375 64.984375 \nQ 41.3125 65.921875 37.59375 65.921875 \nQ 27.828125 65.921875 22.671875 59.328125 \nQ 17.53125 52.734375 16.796875 39.40625 \nQ 19.671875 43.65625 24.015625 45.921875 \nQ 28.375 48.1875 33.59375 48.1875 \nQ 44.578125 48.1875 50.953125 41.515625 \nQ 57.328125 34.859375 57.328125 23.390625 \nQ 57.328125 12.15625 50.6875 5.359375 \nQ 44.046875 -1.421875 33.015625 -1.421875 \nQ 20.359375 -1.421875 13.671875 8.265625 \nQ 6.984375 17.96875 6.984375 36.375 \nQ 6.984375 53.65625 15.1875 63.9375 \nQ 23.390625 74.21875 37.203125 74.21875 \nQ 40.921875 74.21875 44.703125 73.484375 \nQ 48.484375 72.75 52.59375 71.296875 \nz\n\" id=\"DejaVuSans-54\"/>\n       </defs>\n       <use xlink:href=\"#DejaVuSans-54\"/>\n      </g>\n     </g>\n    </g>\n    <g id=\"xtick_5\">\n     <g id=\"line2d_5\">\n      <g>\n       <use style=\"stroke:#000000;stroke-width:0.8;\" x=\"333.67348\" xlink:href=\"#m9ea4405643\" y=\"239.758125\"/>\n      </g>\n     </g>\n     <g id=\"text_5\">\n      <!-- 8 -->\n      <g transform=\"translate(330.174105 255.116406)scale(0.11 -0.11)\">\n       <defs>\n        <path d=\"M 31.78125 34.625 \nQ 24.75 34.625 20.71875 30.859375 \nQ 16.703125 27.09375 16.703125 20.515625 \nQ 16.703125 13.921875 20.71875 10.15625 \nQ 24.75 6.390625 31.78125 6.390625 \nQ 38.8125 6.390625 42.859375 10.171875 \nQ 46.921875 13.96875 46.921875 20.515625 \nQ 46.921875 27.09375 42.890625 30.859375 \nQ 38.875 34.625 31.78125 34.625 \nz\nM 21.921875 38.8125 \nQ 15.578125 40.375 12.03125 44.71875 \nQ 8.5 49.078125 8.5 55.328125 \nQ 8.5 64.0625 14.71875 69.140625 \nQ 20.953125 74.21875 31.78125 74.21875 \nQ 42.671875 74.21875 48.875 69.140625 \nQ 55.078125 64.0625 55.078125 55.328125 \nQ 55.078125 49.078125 51.53125 44.71875 \nQ 48 40.375 41.703125 38.8125 \nQ 48.828125 37.15625 52.796875 32.3125 \nQ 56.78125 27.484375 56.78125 20.515625 \nQ 56.78125 9.90625 50.3125 4.234375 \nQ 43.84375 -1.421875 31.78125 -1.421875 \nQ 19.734375 -1.421875 13.25 4.234375 \nQ 6.78125 9.90625 6.78125 20.515625 \nQ 6.78125 27.484375 10.78125 32.3125 \nQ 14.796875 37.15625 21.921875 38.8125 \nz\nM 18.3125 54.390625 \nQ 18.3125 48.734375 21.84375 45.5625 \nQ 25.390625 42.390625 31.78125 42.390625 \nQ 38.140625 42.390625 41.71875 45.5625 \nQ 45.3125 48.734375 45.3125 54.390625 \nQ 45.3125 60.0625 41.71875 63.234375 \nQ 38.140625 66.40625 31.78125 66.40625 \nQ 25.390625 66.40625 21.84375 63.234375 \nQ 18.3125 60.0625 18.3125 54.390625 \nz\n\" id=\"DejaVuSans-56\"/>\n       </defs>\n       <use xlink:href=\"#DejaVuSans-56\"/>\n      </g>\n     </g>\n    </g>\n   </g>\n   <g id=\"matplotlib.axis_2\">\n    <g id=\"ytick_1\">\n     <g id=\"line2d_6\">\n      <defs>\n       <path d=\"M 0 0 \nL -3.5 0 \n\" id=\"m34d8be9ecc\" style=\"stroke:#000000;stroke-width:0.8;\"/>\n      </defs>\n      <g>\n       <use style=\"stroke:#000000;stroke-width:0.8;\" x=\"47.909844\" xlink:href=\"#m34d8be9ecc\" y=\"207.910852\"/>\n      </g>\n     </g>\n     <g id=\"text_6\">\n      <!-- −0.08 -->\n      <g transform=\"translate(7.2 212.089993)scale(0.11 -0.11)\">\n       <defs>\n        <path d=\"M 10.59375 35.5 \nL 73.1875 35.5 \nL 73.1875 27.203125 \nL 10.59375 27.203125 \nz\n\" id=\"DejaVuSans-8722\"/>\n        <path d=\"M 10.6875 12.40625 \nL 21 12.40625 \nL 21 0 \nL 10.6875 0 \nz\n\" id=\"DejaVuSans-46\"/>\n       </defs>\n       <use xlink:href=\"#DejaVuSans-8722\"/>\n       <use x=\"83.789062\" xlink:href=\"#DejaVuSans-48\"/>\n       <use x=\"147.412109\" xlink:href=\"#DejaVuSans-46\"/>\n       <use x=\"179.199219\" xlink:href=\"#DejaVuSans-48\"/>\n       <use x=\"242.822266\" xlink:href=\"#DejaVuSans-56\"/>\n      </g>\n     </g>\n    </g>\n    <g id=\"ytick_2\">\n     <g id=\"line2d_7\">\n      <g>\n       <use style=\"stroke:#000000;stroke-width:0.8;\" x=\"47.909844\" xlink:href=\"#m34d8be9ecc\" y=\"163.98358\"/>\n      </g>\n     </g>\n     <g id=\"text_7\">\n      <!-- −0.06 -->\n      <g transform=\"translate(7.2 168.16272)scale(0.11 -0.11)\">\n       <use xlink:href=\"#DejaVuSans-8722\"/>\n       <use x=\"83.789062\" xlink:href=\"#DejaVuSans-48\"/>\n       <use x=\"147.412109\" xlink:href=\"#DejaVuSans-46\"/>\n       <use x=\"179.199219\" xlink:href=\"#DejaVuSans-48\"/>\n       <use x=\"242.822266\" xlink:href=\"#DejaVuSans-54\"/>\n      </g>\n     </g>\n    </g>\n    <g id=\"ytick_3\">\n     <g id=\"line2d_8\">\n      <g>\n       <use style=\"stroke:#000000;stroke-width:0.8;\" x=\"47.909844\" xlink:href=\"#m34d8be9ecc\" y=\"120.056307\"/>\n      </g>\n     </g>\n     <g id=\"text_8\">\n      <!-- −0.04 -->\n      <g transform=\"translate(7.2 124.235447)scale(0.11 -0.11)\">\n       <use xlink:href=\"#DejaVuSans-8722\"/>\n       <use x=\"83.789062\" xlink:href=\"#DejaVuSans-48\"/>\n       <use x=\"147.412109\" xlink:href=\"#DejaVuSans-46\"/>\n       <use x=\"179.199219\" xlink:href=\"#DejaVuSans-48\"/>\n       <use x=\"242.822266\" xlink:href=\"#DejaVuSans-52\"/>\n      </g>\n     </g>\n    </g>\n    <g id=\"ytick_4\">\n     <g id=\"line2d_9\">\n      <g>\n       <use style=\"stroke:#000000;stroke-width:0.8;\" x=\"47.909844\" xlink:href=\"#m34d8be9ecc\" y=\"76.129034\"/>\n      </g>\n     </g>\n     <g id=\"text_9\">\n      <!-- −0.02 -->\n      <g transform=\"translate(7.2 80.308175)scale(0.11 -0.11)\">\n       <use xlink:href=\"#DejaVuSans-8722\"/>\n       <use x=\"83.789062\" xlink:href=\"#DejaVuSans-48\"/>\n       <use x=\"147.412109\" xlink:href=\"#DejaVuSans-46\"/>\n       <use x=\"179.199219\" xlink:href=\"#DejaVuSans-48\"/>\n       <use x=\"242.822266\" xlink:href=\"#DejaVuSans-50\"/>\n      </g>\n     </g>\n    </g>\n    <g id=\"ytick_5\">\n     <g id=\"line2d_10\">\n      <g>\n       <use style=\"stroke:#000000;stroke-width:0.8;\" x=\"47.909844\" xlink:href=\"#m34d8be9ecc\" y=\"32.201761\"/>\n      </g>\n     </g>\n     <g id=\"text_10\">\n      <!-- 0.00 -->\n      <g transform=\"translate(16.417656 36.380902)scale(0.11 -0.11)\">\n       <use xlink:href=\"#DejaVuSans-48\"/>\n       <use x=\"63.623047\" xlink:href=\"#DejaVuSans-46\"/>\n       <use x=\"95.410156\" xlink:href=\"#DejaVuSans-48\"/>\n       <use x=\"159.033203\" xlink:href=\"#DejaVuSans-48\"/>\n      </g>\n     </g>\n    </g>\n   </g>\n   <g id=\"line2d_11\">\n    <path clip-path=\"url(#p6a63667afe)\" d=\"M 63.128026 32.201761 \nL 96.946207 54.165398 \nL 130.764389 76.129034 \nL 164.582571 98.09267 \nL 198.400753 120.056307 \nL 232.218935 142.019943 \nL 266.037116 163.98358 \nL 299.855298 185.947216 \nL 333.67348 207.910852 \nL 367.491662 229.874489 \n\" style=\"fill:none;stroke:#1f77b4;stroke-linecap:square;stroke-width:1.5;\"/>\n   </g>\n   <g id=\"patch_3\">\n    <path d=\"M 47.909844 239.758125 \nL 47.909844 22.318125 \n\" style=\"fill:none;stroke:#000000;stroke-linecap:square;stroke-linejoin:miter;stroke-width:0.8;\"/>\n   </g>\n   <g id=\"patch_4\">\n    <path d=\"M 382.709844 239.758125 \nL 382.709844 22.318125 \n\" style=\"fill:none;stroke:#000000;stroke-linecap:square;stroke-linejoin:miter;stroke-width:0.8;\"/>\n   </g>\n   <g id=\"patch_5\">\n    <path d=\"M 47.909844 239.758125 \nL 382.709844 239.758125 \n\" style=\"fill:none;stroke:#000000;stroke-linecap:square;stroke-linejoin:miter;stroke-width:0.8;\"/>\n   </g>\n   <g id=\"patch_6\">\n    <path d=\"M 47.909844 22.318125 \nL 382.709844 22.318125 \n\" style=\"fill:none;stroke:#000000;stroke-linecap:square;stroke-linejoin:miter;stroke-width:0.8;\"/>\n   </g>\n   <g id=\"text_11\">\n    <!-- Prueba DC -->\n    <g transform=\"translate(183.633594 16.318125)scale(0.12 -0.12)\">\n     <defs>\n      <path d=\"M 19.671875 64.796875 \nL 19.671875 37.40625 \nL 32.078125 37.40625 \nQ 38.96875 37.40625 42.71875 40.96875 \nQ 46.484375 44.53125 46.484375 51.125 \nQ 46.484375 57.671875 42.71875 61.234375 \nQ 38.96875 64.796875 32.078125 64.796875 \nz\nM 9.8125 72.90625 \nL 32.078125 72.90625 \nQ 44.34375 72.90625 50.609375 67.359375 \nQ 56.890625 61.8125 56.890625 51.125 \nQ 56.890625 40.328125 50.609375 34.8125 \nQ 44.34375 29.296875 32.078125 29.296875 \nL 19.671875 29.296875 \nL 19.671875 0 \nL 9.8125 0 \nz\n\" id=\"DejaVuSans-80\"/>\n      <path d=\"M 41.109375 46.296875 \nQ 39.59375 47.171875 37.8125 47.578125 \nQ 36.03125 48 33.890625 48 \nQ 26.265625 48 22.1875 43.046875 \nQ 18.109375 38.09375 18.109375 28.8125 \nL 18.109375 0 \nL 9.078125 0 \nL 9.078125 54.6875 \nL 18.109375 54.6875 \nL 18.109375 46.1875 \nQ 20.953125 51.171875 25.484375 53.578125 \nQ 30.03125 56 36.53125 56 \nQ 37.453125 56 38.578125 55.875 \nQ 39.703125 55.765625 41.0625 55.515625 \nz\n\" id=\"DejaVuSans-114\"/>\n      <path d=\"M 8.5 21.578125 \nL 8.5 54.6875 \nL 17.484375 54.6875 \nL 17.484375 21.921875 \nQ 17.484375 14.15625 20.5 10.265625 \nQ 23.53125 6.390625 29.59375 6.390625 \nQ 36.859375 6.390625 41.078125 11.03125 \nQ 45.3125 15.671875 45.3125 23.6875 \nL 45.3125 54.6875 \nL 54.296875 54.6875 \nL 54.296875 0 \nL 45.3125 0 \nL 45.3125 8.40625 \nQ 42.046875 3.421875 37.71875 1 \nQ 33.40625 -1.421875 27.6875 -1.421875 \nQ 18.265625 -1.421875 13.375 4.4375 \nQ 8.5 10.296875 8.5 21.578125 \nz\nM 31.109375 56 \nz\n\" id=\"DejaVuSans-117\"/>\n      <path d=\"M 56.203125 29.59375 \nL 56.203125 25.203125 \nL 14.890625 25.203125 \nQ 15.484375 15.921875 20.484375 11.0625 \nQ 25.484375 6.203125 34.421875 6.203125 \nQ 39.59375 6.203125 44.453125 7.46875 \nQ 49.3125 8.734375 54.109375 11.28125 \nL 54.109375 2.78125 \nQ 49.265625 0.734375 44.1875 -0.34375 \nQ 39.109375 -1.421875 33.890625 -1.421875 \nQ 20.796875 -1.421875 13.15625 6.1875 \nQ 5.515625 13.8125 5.515625 26.8125 \nQ 5.515625 40.234375 12.765625 48.109375 \nQ 20.015625 56 32.328125 56 \nQ 43.359375 56 49.78125 48.890625 \nQ 56.203125 41.796875 56.203125 29.59375 \nz\nM 47.21875 32.234375 \nQ 47.125 39.59375 43.09375 43.984375 \nQ 39.0625 48.390625 32.421875 48.390625 \nQ 24.90625 48.390625 20.390625 44.140625 \nQ 15.875 39.890625 15.1875 32.171875 \nz\n\" id=\"DejaVuSans-101\"/>\n      <path d=\"M 48.6875 27.296875 \nQ 48.6875 37.203125 44.609375 42.84375 \nQ 40.53125 48.484375 33.40625 48.484375 \nQ 26.265625 48.484375 22.1875 42.84375 \nQ 18.109375 37.203125 18.109375 27.296875 \nQ 18.109375 17.390625 22.1875 11.75 \nQ 26.265625 6.109375 33.40625 6.109375 \nQ 40.53125 6.109375 44.609375 11.75 \nQ 48.6875 17.390625 48.6875 27.296875 \nz\nM 18.109375 46.390625 \nQ 20.953125 51.265625 25.265625 53.625 \nQ 29.59375 56 35.59375 56 \nQ 45.5625 56 51.78125 48.09375 \nQ 58.015625 40.1875 58.015625 27.296875 \nQ 58.015625 14.40625 51.78125 6.484375 \nQ 45.5625 -1.421875 35.59375 -1.421875 \nQ 29.59375 -1.421875 25.265625 0.953125 \nQ 20.953125 3.328125 18.109375 8.203125 \nL 18.109375 0 \nL 9.078125 0 \nL 9.078125 75.984375 \nL 18.109375 75.984375 \nz\n\" id=\"DejaVuSans-98\"/>\n      <path d=\"M 34.28125 27.484375 \nQ 23.390625 27.484375 19.1875 25 \nQ 14.984375 22.515625 14.984375 16.5 \nQ 14.984375 11.71875 18.140625 8.90625 \nQ 21.296875 6.109375 26.703125 6.109375 \nQ 34.1875 6.109375 38.703125 11.40625 \nQ 43.21875 16.703125 43.21875 25.484375 \nL 43.21875 27.484375 \nz\nM 52.203125 31.203125 \nL 52.203125 0 \nL 43.21875 0 \nL 43.21875 8.296875 \nQ 40.140625 3.328125 35.546875 0.953125 \nQ 30.953125 -1.421875 24.3125 -1.421875 \nQ 15.921875 -1.421875 10.953125 3.296875 \nQ 6 8.015625 6 15.921875 \nQ 6 25.140625 12.171875 29.828125 \nQ 18.359375 34.515625 30.609375 34.515625 \nL 43.21875 34.515625 \nL 43.21875 35.40625 \nQ 43.21875 41.609375 39.140625 45 \nQ 35.0625 48.390625 27.6875 48.390625 \nQ 23 48.390625 18.546875 47.265625 \nQ 14.109375 46.140625 10.015625 43.890625 \nL 10.015625 52.203125 \nQ 14.9375 54.109375 19.578125 55.046875 \nQ 24.21875 56 28.609375 56 \nQ 40.484375 56 46.34375 49.84375 \nQ 52.203125 43.703125 52.203125 31.203125 \nz\n\" id=\"DejaVuSans-97\"/>\n      <path id=\"DejaVuSans-32\"/>\n      <path d=\"M 19.671875 64.796875 \nL 19.671875 8.109375 \nL 31.59375 8.109375 \nQ 46.6875 8.109375 53.6875 14.9375 \nQ 60.6875 21.78125 60.6875 36.53125 \nQ 60.6875 51.171875 53.6875 57.984375 \nQ 46.6875 64.796875 31.59375 64.796875 \nz\nM 9.8125 72.90625 \nL 30.078125 72.90625 \nQ 51.265625 72.90625 61.171875 64.09375 \nQ 71.09375 55.28125 71.09375 36.53125 \nQ 71.09375 17.671875 61.125 8.828125 \nQ 51.171875 0 30.078125 0 \nL 9.8125 0 \nz\n\" id=\"DejaVuSans-68\"/>\n      <path d=\"M 64.40625 67.28125 \nL 64.40625 56.890625 \nQ 59.421875 61.53125 53.78125 63.8125 \nQ 48.140625 66.109375 41.796875 66.109375 \nQ 29.296875 66.109375 22.65625 58.46875 \nQ 16.015625 50.828125 16.015625 36.375 \nQ 16.015625 21.96875 22.65625 14.328125 \nQ 29.296875 6.6875 41.796875 6.6875 \nQ 48.140625 6.6875 53.78125 8.984375 \nQ 59.421875 11.28125 64.40625 15.921875 \nL 64.40625 5.609375 \nQ 59.234375 2.09375 53.4375 0.328125 \nQ 47.65625 -1.421875 41.21875 -1.421875 \nQ 24.65625 -1.421875 15.125 8.703125 \nQ 5.609375 18.84375 5.609375 36.375 \nQ 5.609375 53.953125 15.125 64.078125 \nQ 24.65625 74.21875 41.21875 74.21875 \nQ 47.75 74.21875 53.53125 72.484375 \nQ 59.328125 70.75 64.40625 67.28125 \nz\n\" id=\"DejaVuSans-67\"/>\n     </defs>\n     <use xlink:href=\"#DejaVuSans-80\"/>\n     <use x=\"58.552734\" xlink:href=\"#DejaVuSans-114\"/>\n     <use x=\"99.666016\" xlink:href=\"#DejaVuSans-117\"/>\n     <use x=\"163.044922\" xlink:href=\"#DejaVuSans-101\"/>\n     <use x=\"224.568359\" xlink:href=\"#DejaVuSans-98\"/>\n     <use x=\"288.044922\" xlink:href=\"#DejaVuSans-97\"/>\n     <use x=\"349.324219\" xlink:href=\"#DejaVuSans-32\"/>\n     <use x=\"381.111328\" xlink:href=\"#DejaVuSans-68\"/>\n     <use x=\"458.113281\" xlink:href=\"#DejaVuSans-67\"/>\n    </g>\n   </g>\n  </g>\n </g>\n <defs>\n  <clipPath id=\"p6a63667afe\">\n   <rect height=\"217.44\" width=\"334.8\" x=\"47.909844\" y=\"22.318125\"/>\n  </clipPath>\n </defs>\n</svg>\n",
      "image/png": "[encoded data removed]"
     },
     "metadata": {
      "needs_background": "light"
     }
    }
   ],
   "source": [
    "figura = plt.figure()\n",
    "plt.title(\"Prueba DC\")\n",
    "plt.plot(resultados['dc']['V1'], resultados['dc']['I(V1)'], label=\"Voltaje (V1)\")"
   ]
  },
  {
   "source": [
    "Lo que estamos viendo en la gráfica es la variación de la intenisdad de corriente a medida que vamos aumentando el voltaje de la pila. \n",
    "\n",
    " I = V * R \n",
    "\n",
    " I = - 9 * r \n",
    " \n",
    " Como r se mantiene fijo la intensidad varia \n",
    "\n",
    "\n",
    " \n",
    "\n",
    "\n",
    "\n",
    "\n",
    "\n",
    "\n"
   ],
   "cell_type": "markdown",
   "metadata": {}
  },
  {
   "cell_type": "code",
   "execution_count": 101,
   "metadata": {},
   "outputs": [
    {
     "output_type": "stream",
     "name": "stdout",
     "text": [
      "-0.09\n"
     ]
    }
   ],
   "source": [
    "v = -9 \n",
    "r = 100\n",
    "i= v/ r\n",
    "print (i)\n"
   ]
  },
  {
   "cell_type": "code",
   "execution_count": null,
   "metadata": {},
   "outputs": [],
   "source": [
    "Este resultado es el mismo que tendría que salir con el análisis de op. El código anterior lo tengo que hacer con SYmpy"
   ]
  },
  {
   "cell_type": "code",
   "execution_count": 102,
   "metadata": {},
   "outputs": [
    {
     "output_type": "stream",
     "name": "stdout",
     "text": [
      "{V1: -9.0, I(V1): -0.09}\n"
     ]
    }
   ],
   "source": [
    "print(resultados['op'].results)"
   ]
  },
  {
   "source": [
    "Ahora pasamos a la resolución con LTspice siguiendo las instrucciones que vienen en el enunciado de la actividad. En mi caso aplico solo la sentencia correspondiente a Mac"
   ],
   "cell_type": "markdown",
   "metadata": {}
  },
  {
   "cell_type": "code",
   "execution_count": 89,
   "metadata": {},
   "outputs": [],
   "source": [
    "import platform\n",
    "%alias lts /Applications/LTspice.app/Contents/MacOS/LTspice -ascii -b"
   ]
  },
  {
   "cell_type": "code",
   "execution_count": 103,
   "metadata": {},
   "outputs": [
    {
     "output_type": "stream",
     "name": "stdout",
     "text": [
      "Overwriting circuito sencilloBRT.net\n"
     ]
    }
   ],
   "source": [
    "%%writefile \"circuito sencilloBRT.net\"\n",
    "* Este es un circuito sencillo adaptado para LTspice\n",
    "r1 1 0 100\n",
    "v1 0 1 9\n",
    ".op\n",
    "* Comentamos el análisis .dc para centrarnos primero en el .op\n",
    "* .dc v1 1 10 \n",
    ".end"
   ]
  },
  {
   "cell_type": "code",
   "execution_count": 104,
   "metadata": {},
   "outputs": [],
   "source": [
    "lts \"circuito sencilloBRT.net\""
   ]
  },
  {
   "source": [
    "Ejecutamos con LtSpice y el resultado es el mismo que en el anterior."
   ],
   "cell_type": "markdown",
   "metadata": {}
  },
  {
   "cell_type": "code",
   "execution_count": 39,
   "metadata": {},
   "outputs": [
    {
     "output_type": "stream",
     "text": [
      "\u001b[0mC\u001b[0m\u001b[0;31m\u0000\u001b[0m\u001b[0mi\u001b[0m\u001b[0;31m\u0000\u001b[0m\u001b[0mr\u001b[0m\u001b[0;31m\u0000\u001b[0m\u001b[0mc\u001b[0m\u001b[0;31m\u0000\u001b[0m\u001b[0mu\u001b[0m\u001b[0;31m\u0000\u001b[0m\u001b[0mi\u001b[0m\u001b[0;31m\u0000\u001b[0m\u001b[0mt\u001b[0m\u001b[0;31m\u0000\u001b[0m\u001b[0;34m:\u001b[0m\u001b[0;31m\u0000\u001b[0m\u001b[0;31m \u001b[0m\u001b[0;31m\u0000\u001b[0m\u001b[0;34m*\u001b[0m\u001b[0;31m\u0000\u001b[0m\u001b[0;31m \u001b[0m\u001b[0;31m\u0000\u001b[0m\u001b[0mE\u001b[0m\u001b[0;31m\u0000\u001b[0m\u001b[0ms\u001b[0m\u001b[0;31m\u0000\u001b[0m\u001b[0mt\u001b[0m\u001b[0;31m\u0000\u001b[0m\u001b[0me\u001b[0m\u001b[0;31m\u0000\u001b[0m\u001b[0;31m \u001b[0m\u001b[0;31m\u0000\u001b[0m\u001b[0me\u001b[0m\u001b[0;31m\u0000\u001b[0m\u001b[0ms\u001b[0m\u001b[0;31m\u0000\u001b[0m\u001b[0;31m \u001b[0m\u001b[0;31m\u0000\u001b[0m\u001b[0mu\u001b[0m\u001b[0;31m\u0000\u001b[0m\u001b[0mn\u001b[0m\u001b[0;31m\u0000\u001b[0m\u001b[0;31m \u001b[0m\u001b[0;31m\u0000\u001b[0m\u001b[0mc\u001b[0m\u001b[0;31m\u0000\u001b[0m\u001b[0mi\u001b[0m\u001b[0;31m\u0000\u001b[0m\u001b[0mr\u001b[0m\u001b[0;31m\u0000\u001b[0m\u001b[0mc\u001b[0m\u001b[0;31m\u0000\u001b[0m\u001b[0mu\u001b[0m\u001b[0;31m\u0000\u001b[0m\u001b[0mi\u001b[0m\u001b[0;31m\u0000\u001b[0m\u001b[0mt\u001b[0m\u001b[0;31m\u0000\u001b[0m\u001b[0mo\u001b[0m\u001b[0;31m\u0000\u001b[0m\u001b[0;31m \u001b[0m\u001b[0;31m\u0000\u001b[0m\u001b[0ms\u001b[0m\u001b[0;31m\u0000\u001b[0m\u001b[0me\u001b[0m\u001b[0;31m\u0000\u001b[0m\u001b[0mn\u001b[0m\u001b[0;31m\u0000\u001b[0m\u001b[0mc\u001b[0m\u001b[0;31m\u0000\u001b[0m\u001b[0mi\u001b[0m\u001b[0;31m\u0000\u001b[0m\u001b[0ml\u001b[0m\u001b[0;31m\u0000\u001b[0m\u001b[0ml\u001b[0m\u001b[0;31m\u0000\u001b[0m\u001b[0mo\u001b[0m\u001b[0;31m\u0000\u001b[0m\u001b[0;31m \u001b[0m\u001b[0;31m\u0000\u001b[0m\u001b[0ma\u001b[0m\u001b[0;31m\u0000\u001b[0m\u001b[0md\u001b[0m\u001b[0;31m\u0000\u001b[0m\u001b[0ma\u001b[0m\u001b[0;31m\u0000\u001b[0m\u001b[0mp\u001b[0m\u001b[0;31m\u0000\u001b[0m\u001b[0mt\u001b[0m\u001b[0;31m\u0000\u001b[0m\u001b[0ma\u001b[0m\u001b[0;31m\u0000\u001b[0m\u001b[0md\u001b[0m\u001b[0;31m\u0000\u001b[0m\u001b[0mo\u001b[0m\u001b[0;31m\u0000\u001b[0m\u001b[0;31m \u001b[0m\u001b[0;31m\u0000\u001b[0m\u001b[0mp\u001b[0m\u001b[0;31m\u0000\u001b[0m\u001b[0ma\u001b[0m\u001b[0;31m\u0000\u001b[0m\u001b[0mr\u001b[0m\u001b[0;31m\u0000\u001b[0m\u001b[0ma\u001b[0m\u001b[0;31m\u0000\u001b[0m\u001b[0;31m \u001b[0m\u001b[0;31m\u0000\u001b[0m\u001b[0mL\u001b[0m\u001b[0;31m\u0000\u001b[0m\u001b[0mT\u001b[0m\u001b[0;31m\u0000\u001b[0m\u001b[0ms\u001b[0m\u001b[0;31m\u0000\u001b[0m\u001b[0mp\u001b[0m\u001b[0;31m\u0000\u001b[0m\u001b[0mi\u001b[0m\u001b[0;31m\u0000\u001b[0m\u001b[0mc\u001b[0m\u001b[0;31m\u0000\u001b[0m\u001b[0me\u001b[0m\u001b[0;31m\u0000\u001b[0m\u001b[0;34m\u001b[0m\n",
      "\u001b[0;34m\u001b[0m\u001b[0;31m\u0000\u001b[0m\u001b[0;34m\u001b[0m\n",
      "\u001b[0;34m\u001b[0m\u001b[0;31m\u0000\u001b[0m\u001b[0mD\u001b[0m\u001b[0;31m\u0000\u001b[0m\u001b[0mi\u001b[0m\u001b[0;31m\u0000\u001b[0m\u001b[0mr\u001b[0m\u001b[0;31m\u0000\u001b[0m\u001b[0me\u001b[0m\u001b[0;31m\u0000\u001b[0m\u001b[0mc\u001b[0m\u001b[0;31m\u0000\u001b[0m\u001b[0mt\u001b[0m\u001b[0;31m\u0000\u001b[0m\u001b[0;31m \u001b[0m\u001b[0;31m\u0000\u001b[0m\u001b[0mN\u001b[0m\u001b[0;31m\u0000\u001b[0m\u001b[0me\u001b[0m\u001b[0;31m\u0000\u001b[0m\u001b[0mw\u001b[0m\u001b[0;31m\u0000\u001b[0m\u001b[0mt\u001b[0m\u001b[0;31m\u0000\u001b[0m\u001b[0mo\u001b[0m\u001b[0;31m\u0000\u001b[0m\u001b[0mn\u001b[0m\u001b[0;31m\u0000\u001b[0m\u001b[0;31m \u001b[0m\u001b[0;31m\u0000\u001b[0m\u001b[0mi\u001b[0m\u001b[0;31m\u0000\u001b[0m\u001b[0mt\u001b[0m\u001b[0;31m\u0000\u001b[0m\u001b[0me\u001b[0m\u001b[0;31m\u0000\u001b[0m\u001b[0mr\u001b[0m\u001b[0;31m\u0000\u001b[0m\u001b[0ma\u001b[0m\u001b[0;31m\u0000\u001b[0m\u001b[0mt\u001b[0m\u001b[0;31m\u0000\u001b[0m\u001b[0mi\u001b[0m\u001b[0;31m\u0000\u001b[0m\u001b[0mo\u001b[0m\u001b[0;31m\u0000\u001b[0m\u001b[0mn\u001b[0m\u001b[0;31m\u0000\u001b[0m\u001b[0;31m \u001b[0m\u001b[0;31m\u0000\u001b[0m\u001b[0mf\u001b[0m\u001b[0;31m\u0000\u001b[0m\u001b[0mo\u001b[0m\u001b[0;31m\u0000\u001b[0m\u001b[0mr\u001b[0m\u001b[0;31m\u0000\u001b[0m\u001b[0;31m \u001b[0m\u001b[0;31m\u0000\u001b[0m\u001b[0;34m.\u001b[0m\u001b[0;31m\u0000\u001b[0m\u001b[0mo\u001b[0m\u001b[0;31m\u0000\u001b[0m\u001b[0mp\u001b[0m\u001b[0;31m\u0000\u001b[0m\u001b[0;31m \u001b[0m\u001b[0;31m\u0000\u001b[0m\u001b[0mp\u001b[0m\u001b[0;31m\u0000\u001b[0m\u001b[0mo\u001b[0m\u001b[0;31m\u0000\u001b[0m\u001b[0mi\u001b[0m\u001b[0;31m\u0000\u001b[0m\u001b[0mn\u001b[0m\u001b[0;31m\u0000\u001b[0m\u001b[0mt\u001b[0m\u001b[0;31m\u0000\u001b[0m\u001b[0;31m \u001b[0m\u001b[0;31m\u0000\u001b[0m\u001b[0ms\u001b[0m\u001b[0;31m\u0000\u001b[0m\u001b[0mu\u001b[0m\u001b[0;31m\u0000\u001b[0m\u001b[0mc\u001b[0m\u001b[0;31m\u0000\u001b[0m\u001b[0mc\u001b[0m\u001b[0;31m\u0000\u001b[0m\u001b[0me\u001b[0m\u001b[0;31m\u0000\u001b[0m\u001b[0me\u001b[0m\u001b[0;31m\u0000\u001b[0m\u001b[0md\u001b[0m\u001b[0;31m\u0000\u001b[0m\u001b[0me\u001b[0m\u001b[0;31m\u0000\u001b[0m\u001b[0md\u001b[0m\u001b[0;31m\u0000\u001b[0m\u001b[0;34m.\u001b[0m\u001b[0;31m\u0000\u001b[0m\u001b[0;34m\u001b[0m\n",
      "\u001b[0;34m\u001b[0m\u001b[0;31m\u0000\u001b[0m\u001b[0mO\u001b[0m\u001b[0;31m\u0000\u001b[0m\u001b[0mp\u001b[0m\u001b[0;31m\u0000\u001b[0m\u001b[0me\u001b[0m\u001b[0;31m\u0000\u001b[0m\u001b[0mr\u001b[0m\u001b[0;31m\u0000\u001b[0m\u001b[0ma\u001b[0m\u001b[0;31m\u0000\u001b[0m\u001b[0mt\u001b[0m\u001b[0;31m\u0000\u001b[0m\u001b[0mi\u001b[0m\u001b[0;31m\u0000\u001b[0m\u001b[0mn\u001b[0m\u001b[0;31m\u0000\u001b[0m\u001b[0mg\u001b[0m\u001b[0;31m\u0000\u001b[0m\u001b[0;31m \u001b[0m\u001b[0;31m\u0000\u001b[0m\u001b[0mB\u001b[0m\u001b[0;31m\u0000\u001b[0m\u001b[0mi\u001b[0m\u001b[0;31m\u0000\u001b[0m\u001b[0ma\u001b[0m\u001b[0;31m\u0000\u001b[0m\u001b[0ms\u001b[0m\u001b[0;31m\u0000\u001b[0m\u001b[0;31m \u001b[0m\u001b[0;31m\u0000\u001b[0m\u001b[0mP\u001b[0m\u001b[0;31m\u0000\u001b[0m\u001b[0mo\u001b[0m\u001b[0;31m\u0000\u001b[0m\u001b[0mi\u001b[0m\u001b[0;31m\u0000\u001b[0m\u001b[0mn\u001b[0m\u001b[0;31m\u0000\u001b[0m\u001b[0mt\u001b[0m\u001b[0;31m\u0000\u001b[0m\u001b[0;31m \u001b[0m\u001b[0;31m\u0000\u001b[0m\u001b[0mS\u001b[0m\u001b[0;31m\u0000\u001b[0m\u001b[0mo\u001b[0m\u001b[0;31m\u0000\u001b[0m\u001b[0ml\u001b[0m\u001b[0;31m\u0000\u001b[0m\u001b[0mu\u001b[0m\u001b[0;31m\u0000\u001b[0m\u001b[0mt\u001b[0m\u001b[0;31m\u0000\u001b[0m\u001b[0mi\u001b[0m\u001b[0;31m\u0000\u001b[0m\u001b[0mo\u001b[0m\u001b[0;31m\u0000\u001b[0m\u001b[0mn\u001b[0m\u001b[0;31m\u0000\u001b[0m\u001b[0;34m:\u001b[0m\u001b[0;31m\u0000\u001b[0m\u001b[0;34m\u001b[0m\n",
      "\u001b[0;34m\u001b[0m\u001b[0;31m\u0000\u001b[0m\u001b[0mV\u001b[0m\u001b[0;31m\u0000\u001b[0m\u001b[0;34m(\u001b[0m\u001b[0;31m\u0000\u001b[0m\u001b[0;34m)\u001b[0m\u001b[0;31m\u0000\u001b[0m\u001b[0;31m \u001b[0m\u001b[0;31m\u0000\u001b[0m\u001b[0;31m \u001b[0m\u001b[0;31m\u0000\u001b[0m\u001b[0;31m \u001b[0m\u001b[0;31m\u0000\u001b[0m\u001b[0;31m \u001b[0m\u001b[0;31m\u0000\u001b[0m\u001b[0;31m \u001b[0m\u001b[0;31m\u0000\u001b[0m\u001b[0;31m \u001b[0m\u001b[0;31m\u0000\u001b[0m\u001b[0;31m \u001b[0m\u001b[0;31m\u0000\u001b[0m\u001b[0;31m \u001b[0m\u001b[0;31m\u0000\u001b[0m\u001b[0;31m \u001b[0m\u001b[0;31m\u0000\u001b[0m\u001b[0;31m \u001b[0m\u001b[0;31m\u0000\u001b[0m\u001b[0;31m \u001b[0m\u001b[0;31m\u0000\u001b[0m\u001b[0;31m \u001b[0m\u001b[0;31m\u0000\u001b[0m\u001b[0;31m \u001b[0m\u001b[0;31m\u0000\u001b[0m\u001b[0;31m \u001b[0m\u001b[0;31m\u0000\u001b[0m\u001b[0;31m \u001b[0m\u001b[0;31m\u0000\u001b[0m\u001b[0;31m \u001b[0m\u001b[0;31m\u0000\u001b[0m\u001b[0;31m \u001b[0m\u001b[0;31m\u0000\u001b[0m\u001b[0;34m-\u001b[0m\u001b[0;31m\u0000\u001b[0m\u001b[0;36m9\u001b[0m\u001b[0;31m\u0000\u001b[0m\u001b[0;31m \u001b[0m\u001b[0;31m\u0000\u001b[0m\u001b[0;31m \u001b[0m\u001b[0;31m\u0000\u001b[0m\u001b[0;31m \u001b[0m\u001b[0;31m\u0000\u001b[0m\u001b[0mv\u001b[0m\u001b[0;31m\u0000\u001b[0m\u001b[0mo\u001b[0m\u001b[0;31m\u0000\u001b[0m\u001b[0ml\u001b[0m\u001b[0;31m\u0000\u001b[0m\u001b[0mt\u001b[0m\u001b[0;31m\u0000\u001b[0m\u001b[0ma\u001b[0m\u001b[0;31m\u0000\u001b[0m\u001b[0mg\u001b[0m\u001b[0;31m\u0000\u001b[0m\u001b[0me\u001b[0m\u001b[0;31m\u0000\u001b[0m\u001b[0;34m\u001b[0m\n",
      "\u001b[0;34m\u001b[0m\u001b[0;31m\u0000\u001b[0m\u001b[0mI\u001b[0m\u001b[0;31m\u0000\u001b[0m\u001b[0;34m(\u001b[0m\u001b[0;31m\u0000\u001b[0m\u001b[0mR\u001b[0m\u001b[0;31m\u0000\u001b[0m\u001b[0;36m1\u001b[0m\u001b[0;31m\u0000\u001b[0m\u001b[0;34m)\u001b[0m\u001b[0;31m\u0000\u001b[0m\u001b[0;31m \u001b[0m\u001b[0;31m\u0000\u001b[0m\u001b[0;31m \u001b[0m\u001b[0;31m\u0000\u001b[0m\u001b[0;31m \u001b[0m\u001b[0;31m\u0000\u001b[0m\u001b[0;31m \u001b[0m\u001b[0;31m\u0000\u001b[0m\u001b[0;31m \u001b[0m\u001b[0;31m\u0000\u001b[0m\u001b[0;31m \u001b[0m\u001b[0;31m\u0000\u001b[0m\u001b[0;31m \u001b[0m\u001b[0;31m\u0000\u001b[0m\u001b[0;31m \u001b[0m\u001b[0;31m\u0000\u001b[0m\u001b[0;31m \u001b[0m\u001b[0;31m\u0000\u001b[0m\u001b[0;31m \u001b[0m\u001b[0;31m\u0000\u001b[0m\u001b[0;31m \u001b[0m\u001b[0;31m\u0000\u001b[0m\u001b[0;31m \u001b[0m\u001b[0;31m\u0000\u001b[0m\u001b[0;31m \u001b[0m\u001b[0;31m\u0000\u001b[0m\u001b[0;31m \u001b[0m\u001b[0;31m\u0000\u001b[0m\u001b[0;34m-\u001b[0m\u001b[0;31m\u0000\u001b[0m\u001b[0;36m0\u001b[0m\u001b[0;31m\u0000\u001b[0m\u001b[0;34m.\u001b[0m\u001b[0;31m\u0000\u001b[0m\u001b[0;36m0\u001b[0m\u001b[0;31m\u0000\u001b[0m\u001b[0;36m9\u001b[0m\u001b[0;31m\u0000\u001b[0m\u001b[0;31m \u001b[0m\u001b[0;31m\u0000\u001b[0m\u001b[0;31m \u001b[0m\u001b[0;31m\u0000\u001b[0m\u001b[0;31m \u001b[0m\u001b[0;31m\u0000\u001b[0m\u001b[0md\u001b[0m\u001b[0;31m\u0000\u001b[0m\u001b[0me\u001b[0m\u001b[0;31m\u0000\u001b[0m\u001b[0mv\u001b[0m\u001b[0;31m\u0000\u001b[0m\u001b[0mi\u001b[0m\u001b[0;31m\u0000\u001b[0m\u001b[0mc\u001b[0m\u001b[0;31m\u0000\u001b[0m\u001b[0me\u001b[0m\u001b[0;31m\u0000\u001b[0m\u001b[0m_\u001b[0m\u001b[0;31m\u0000\u001b[0m\u001b[0mc\u001b[0m\u001b[0;31m\u0000\u001b[0m\u001b[0mu\u001b[0m\u001b[0;31m\u0000\u001b[0m\u001b[0mr\u001b[0m\u001b[0;31m\u0000\u001b[0m\u001b[0mr\u001b[0m\u001b[0;31m\u0000\u001b[0m\u001b[0me\u001b[0m\u001b[0;31m\u0000\u001b[0m\u001b[0mn\u001b[0m\u001b[0;31m\u0000\u001b[0m\u001b[0mt\u001b[0m\u001b[0;31m\u0000\u001b[0m\u001b[0;34m\u001b[0m\n",
      "\u001b[0;34m\u001b[0m\u001b[0;31m\u0000\u001b[0m\u001b[0mI\u001b[0m\u001b[0;31m\u0000\u001b[0m\u001b[0;34m(\u001b[0m\u001b[0;31m\u0000\u001b[0m\u001b[0mV\u001b[0m\u001b[0;31m\u0000\u001b[0m\u001b[0;36m1\u001b[0m\u001b[0;31m\u0000\u001b[0m\u001b[0;34m)\u001b[0m\u001b[0;31m\u0000\u001b[0m\u001b[0;31m \u001b[0m\u001b[0;31m\u0000\u001b[0m\u001b[0;31m \u001b[0m\u001b[0;31m\u0000\u001b[0m\u001b[0;31m \u001b[0m\u001b[0;31m\u0000\u001b[0m\u001b[0;31m \u001b[0m\u001b[0;31m\u0000\u001b[0m\u001b[0;31m \u001b[0m\u001b[0;31m\u0000\u001b[0m\u001b[0;31m \u001b[0m\u001b[0;31m\u0000\u001b[0m\u001b[0;31m \u001b[0m\u001b[0;31m\u0000\u001b[0m\u001b[0;31m \u001b[0m\u001b[0;31m\u0000\u001b[0m\u001b[0;31m \u001b[0m\u001b[0;31m\u0000\u001b[0m\u001b[0;31m \u001b[0m\u001b[0;31m\u0000\u001b[0m\u001b[0;31m \u001b[0m\u001b[0;31m\u0000\u001b[0m\u001b[0;31m \u001b[0m\u001b[0;31m\u0000\u001b[0m\u001b[0;31m \u001b[0m\u001b[0;31m\u0000\u001b[0m\u001b[0;31m \u001b[0m\u001b[0;31m\u0000\u001b[0m\u001b[0;34m-\u001b[0m\u001b[0;31m\u0000\u001b[0m\u001b[0;36m0\u001b[0m\u001b[0;31m\u0000\u001b[0m\u001b[0;34m.\u001b[0m\u001b[0;31m\u0000\u001b[0m\u001b[0;36m0\u001b[0m\u001b[0;31m\u0000\u001b[0m\u001b[0;36m9\u001b[0m\u001b[0;31m\u0000\u001b[0m\u001b[0;31m \u001b[0m\u001b[0;31m\u0000\u001b[0m\u001b[0;31m \u001b[0m\u001b[0;31m\u0000\u001b[0m\u001b[0;31m \u001b[0m\u001b[0;31m\u0000\u001b[0m\u001b[0md\u001b[0m\u001b[0;31m\u0000\u001b[0m\u001b[0me\u001b[0m\u001b[0;31m\u0000\u001b[0m\u001b[0mv\u001b[0m\u001b[0;31m\u0000\u001b[0m\u001b[0mi\u001b[0m\u001b[0;31m\u0000\u001b[0m\u001b[0mc\u001b[0m\u001b[0;31m\u0000\u001b[0m\u001b[0me\u001b[0m\u001b[0;31m\u0000\u001b[0m\u001b[0m_\u001b[0m\u001b[0;31m\u0000\u001b[0m\u001b[0mc\u001b[0m\u001b[0;31m\u0000\u001b[0m\u001b[0mu\u001b[0m\u001b[0;31m\u0000\u001b[0m\u001b[0mr\u001b[0m\u001b[0;31m\u0000\u001b[0m\u001b[0mr\u001b[0m\u001b[0;31m\u0000\u001b[0m\u001b[0me\u001b[0m\u001b[0;31m\u0000\u001b[0m\u001b[0mn\u001b[0m\u001b[0;31m\u0000\u001b[0m\u001b[0mt\u001b[0m\u001b[0;31m\u0000\u001b[0m\u001b[0;34m\u001b[0m\n",
      "\u001b[0;34m\u001b[0m\u001b[0;31m\u0000\u001b[0m\u001b[0;34m\u001b[0m\n",
      "\u001b[0;34m\u001b[0m\u001b[0;31m\u0000\u001b[0m\u001b[0;34m\u001b[0m\n",
      "\u001b[0;34m\u001b[0m\u001b[0;31m\u0000\u001b[0m\u001b[0mD\u001b[0m\u001b[0;31m\u0000\u001b[0m\u001b[0ma\u001b[0m\u001b[0;31m\u0000\u001b[0m\u001b[0mt\u001b[0m\u001b[0;31m\u0000\u001b[0m\u001b[0me\u001b[0m\u001b[0;31m\u0000\u001b[0m\u001b[0;34m:\u001b[0m\u001b[0;31m\u0000\u001b[0m\u001b[0;31m \u001b[0m\u001b[0;31m\u0000\u001b[0m\u001b[0mT\u001b[0m\u001b[0;31m\u0000\u001b[0m\u001b[0mh\u001b[0m\u001b[0;31m\u0000\u001b[0m\u001b[0mu\u001b[0m\u001b[0;31m\u0000\u001b[0m\u001b[0;31m \u001b[0m\u001b[0;31m\u0000\u001b[0m\u001b[0mD\u001b[0m\u001b[0;31m\u0000\u001b[0m\u001b[0me\u001b[0m\u001b[0;31m\u0000\u001b[0m\u001b[0mc\u001b[0m\u001b[0;31m\u0000\u001b[0m\u001b[0;31m \u001b[0m\u001b[0;31m\u0000\u001b[0m\u001b[0;36m2\u001b[0m\u001b[0;31m\u0000\u001b[0m\u001b[0;36m4\u001b[0m\u001b[0;31m\u0000\u001b[0m\u001b[0;31m \u001b[0m\u001b[0;31m\u0000\u001b[0m\u001b[0;36m1\u001b[0m\u001b[0;31m\u0000\u001b[0m\u001b[0;36m3\u001b[0m\u001b[0;31m\u0000\u001b[0m\u001b[0;34m:\u001b[0m\u001b[0;31m\u0000\u001b[0m\u001b[0;36m1\u001b[0m\u001b[0;31m\u0000\u001b[0m\u001b[0;36m8\u001b[0m\u001b[0;31m\u0000\u001b[0m\u001b[0;34m:\u001b[0m\u001b[0;31m\u0000\u001b[0m\u001b[0;36m3\u001b[0m\u001b[0;31m\u0000\u001b[0m\u001b[0;36m8\u001b[0m\u001b[0;31m\u0000\u001b[0m\u001b[0;31m \u001b[0m\u001b[0;31m\u0000\u001b[0m\u001b[0;36m2\u001b[0m\u001b[0;31m\u0000\u001b[0m\u001b[0;36m0\u001b[0m\u001b[0;31m\u0000\u001b[0m\u001b[0;36m2\u001b[0m\u001b[0;31m\u0000\u001b[0m\u001b[0;36m0\u001b[0m\u001b[0;31m\u0000\u001b[0m\u001b[0;34m\u001b[0m\n",
      "\u001b[0;34m\u001b[0m\u001b[0;31m\u0000\u001b[0m\u001b[0mT\u001b[0m\u001b[0;31m\u0000\u001b[0m\u001b[0mo\u001b[0m\u001b[0;31m\u0000\u001b[0m\u001b[0mt\u001b[0m\u001b[0;31m\u0000\u001b[0m\u001b[0ma\u001b[0m\u001b[0;31m\u0000\u001b[0m\u001b[0ml\u001b[0m\u001b[0;31m\u0000\u001b[0m\u001b[0;31m \u001b[0m\u001b[0;31m\u0000\u001b[0m\u001b[0me\u001b[0m\u001b[0;31m\u0000\u001b[0m\u001b[0ml\u001b[0m\u001b[0;31m\u0000\u001b[0m\u001b[0ma\u001b[0m\u001b[0;31m\u0000\u001b[0m\u001b[0mp\u001b[0m\u001b[0;31m\u0000\u001b[0m\u001b[0ms\u001b[0m\u001b[0;31m\u0000\u001b[0m\u001b[0me\u001b[0m\u001b[0;31m\u0000\u001b[0m\u001b[0md\u001b[0m\u001b[0;31m\u0000\u001b[0m\u001b[0;31m \u001b[0m\u001b[0;31m\u0000\u001b[0m\u001b[0mt\u001b[0m\u001b[0;31m\u0000\u001b[0m\u001b[0mi\u001b[0m\u001b[0;31m\u0000\u001b[0m\u001b[0mm\u001b[0m\u001b[0;31m\u0000\u001b[0m\u001b[0me\u001b[0m\u001b[0;31m\u0000\u001b[0m\u001b[0;34m:\u001b[0m\u001b[0;31m\u0000\u001b[0m\u001b[0;31m \u001b[0m\u001b[0;31m\u0000\u001b[0m\u001b[0;36m0\u001b[0m\u001b[0;31m\u0000\u001b[0m\u001b[0;34m.\u001b[0m\u001b[0;31m\u0000\u001b[0m\u001b[0;36m0\u001b[0m\u001b[0;31m\u0000\u001b[0m\u001b[0;36m0\u001b[0m\u001b[0;31m\u0000\u001b[0m\u001b[0;36m2\u001b[0m\u001b[0;31m\u0000\u001b[0m\u001b[0;31m \u001b[0m\u001b[0;31m\u0000\u001b[0m\u001b[0ms\u001b[0m\u001b[0;31m\u0000\u001b[0m\u001b[0me\u001b[0m\u001b[0;31m\u0000\u001b[0m\u001b[0mc\u001b[0m\u001b[0;31m\u0000\u001b[0m\u001b[0mo\u001b[0m\u001b[0;31m\u0000\u001b[0m\u001b[0mn\u001b[0m\u001b[0;31m\u0000\u001b[0m\u001b[0md\u001b[0m\u001b[0;31m\u0000\u001b[0m\u001b[0ms\u001b[0m\u001b[0;31m\u0000\u001b[0m\u001b[0;34m.\u001b[0m\u001b[0;31m\u0000\u001b[0m\u001b[0;34m\u001b[0m\n",
      "\u001b[0;34m\u001b[0m\u001b[0;31m\u0000\u001b[0m\u001b[0;34m\u001b[0m\n",
      "\u001b[0;34m\u001b[0m\u001b[0;31m\u0000\u001b[0m\u001b[0mt\u001b[0m\u001b[0;31m\u0000\u001b[0m\u001b[0mn\u001b[0m\u001b[0;31m\u0000\u001b[0m\u001b[0mo\u001b[0m\u001b[0;31m\u0000\u001b[0m\u001b[0mm\u001b[0m\u001b[0;31m\u0000\u001b[0m\u001b[0;31m \u001b[0m\u001b[0;31m\u0000\u001b[0m\u001b[0;34m=\u001b[0m\u001b[0;31m\u0000\u001b[0m\u001b[0;31m \u001b[0m\u001b[0;31m\u0000\u001b[0m\u001b[0;36m2\u001b[0m\u001b[0;31m\u0000\u001b[0m\u001b[0;36m7\u001b[0m\u001b[0;31m\u0000\u001b[0m\u001b[0;34m\u001b[0m\n",
      "\u001b[0;34m\u001b[0m\u001b[0;31m\u0000\u001b[0m\u001b[0mt\u001b[0m\u001b[0;31m\u0000\u001b[0m\u001b[0me\u001b[0m\u001b[0;31m\u0000\u001b[0m\u001b[0mm\u001b[0m\u001b[0;31m\u0000\u001b[0m\u001b[0mp\u001b[0m\u001b[0;31m\u0000\u001b[0m\u001b[0;31m \u001b[0m\u001b[0;31m\u0000\u001b[0m\u001b[0;34m=\u001b[0m\u001b[0;31m\u0000\u001b[0m\u001b[0;31m \u001b[0m\u001b[0;31m\u0000\u001b[0m\u001b[0;36m2\u001b[0m\u001b[0;31m\u0000\u001b[0m\u001b[0;36m7\u001b[0m\u001b[0;31m\u0000\u001b[0m\u001b[0;34m\u001b[0m\n",
      "\u001b[0;34m\u001b[0m\u001b[0;31m\u0000\u001b[0m\u001b[0mm\u001b[0m\u001b[0;31m\u0000\u001b[0m\u001b[0me\u001b[0m\u001b[0;31m\u0000\u001b[0m\u001b[0mt\u001b[0m\u001b[0;31m\u0000\u001b[0m\u001b[0mh\u001b[0m\u001b[0;31m\u0000\u001b[0m\u001b[0mo\u001b[0m\u001b[0;31m\u0000\u001b[0m\u001b[0md\u001b[0m\u001b[0;31m\u0000\u001b[0m\u001b[0;31m \u001b[0m\u001b[0;31m\u0000\u001b[0m\u001b[0;34m=\u001b[0m\u001b[0;31m\u0000\u001b[0m\u001b[0;31m \u001b[0m\u001b[0;31m\u0000\u001b[0m\u001b[0mt\u001b[0m\u001b[0;31m\u0000\u001b[0m\u001b[0mr\u001b[0m\u001b[0;31m\u0000\u001b[0m\u001b[0ma\u001b[0m\u001b[0;31m\u0000\u001b[0m\u001b[0mp\u001b[0m\u001b[0;31m\u0000\u001b[0m\u001b[0;34m\u001b[0m\n",
      "\u001b[0;34m\u001b[0m\u001b[0;31m\u0000\u001b[0m\u001b[0mt\u001b[0m\u001b[0;31m\u0000\u001b[0m\u001b[0mo\u001b[0m\u001b[0;31m\u0000\u001b[0m\u001b[0mt\u001b[0m\u001b[0;31m\u0000\u001b[0m\u001b[0mi\u001b[0m\u001b[0;31m\u0000\u001b[0m\u001b[0mt\u001b[0m\u001b[0;31m\u0000\u001b[0m\u001b[0me\u001b[0m\u001b[0;31m\u0000\u001b[0m\u001b[0mr\u001b[0m\u001b[0;31m\u0000\u001b[0m\u001b[0;31m \u001b[0m\u001b[0;31m\u0000\u001b[0m\u001b[0;34m=\u001b[0m\u001b[0;31m\u0000\u001b[0m\u001b[0;31m \u001b[0m\u001b[0;31m\u0000\u001b[0m\u001b[0;36m3\u001b[0m\u001b[0;31m\u0000\u001b[0m\u001b[0;34m\u001b[0m\n",
      "\u001b[0;34m\u001b[0m\u001b[0;31m\u0000\u001b[0m\u001b[0mt\u001b[0m\u001b[0;31m\u0000\u001b[0m\u001b[0mr\u001b[0m\u001b[0;31m\u0000\u001b[0m\u001b[0ma\u001b[0m\u001b[0;31m\u0000\u001b[0m\u001b[0mn\u001b[0m\u001b[0;31m\u0000\u001b[0m\u001b[0mi\u001b[0m\u001b[0;31m\u0000\u001b[0m\u001b[0mt\u001b[0m\u001b[0;31m\u0000\u001b[0m\u001b[0me\u001b[0m\u001b[0;31m\u0000\u001b[0m\u001b[0mr\u001b[0m\u001b[0;31m\u0000\u001b[0m\u001b[0;31m \u001b[0m\u001b[0;31m\u0000\u001b[0m\u001b[0;34m=\u001b[0m\u001b[0;31m\u0000\u001b[0m\u001b[0;31m \u001b[0m\u001b[0;31m\u0000\u001b[0m\u001b[0;36m0\u001b[0m\u001b[0;31m\u0000\u001b[0m\u001b[0;34m\u001b[0m\n",
      "\u001b[0;34m\u001b[0m\u001b[0;31m\u0000\u001b[0m\u001b[0mt\u001b[0m\u001b[0;31m\u0000\u001b[0m\u001b[0mr\u001b[0m\u001b[0;31m\u0000\u001b[0m\u001b[0ma\u001b[0m\u001b[0;31m\u0000\u001b[0m\u001b[0mn\u001b[0m\u001b[0;31m\u0000\u001b[0m\u001b[0mp\u001b[0m\u001b[0;31m\u0000\u001b[0m\u001b[0mo\u001b[0m\u001b[0;31m\u0000\u001b[0m\u001b[0mi\u001b[0m\u001b[0;31m\u0000\u001b[0m\u001b[0mn\u001b[0m\u001b[0;31m\u0000\u001b[0m\u001b[0mt\u001b[0m\u001b[0;31m\u0000\u001b[0m\u001b[0ms\u001b[0m\u001b[0;31m\u0000\u001b[0m\u001b[0;31m \u001b[0m\u001b[0;31m\u0000\u001b[0m\u001b[0;34m=\u001b[0m\u001b[0;31m\u0000\u001b[0m\u001b[0;31m \u001b[0m\u001b[0;31m\u0000\u001b[0m\u001b[0;36m0\u001b[0m\u001b[0;31m\u0000\u001b[0m\u001b[0;34m\u001b[0m\n",
      "\u001b[0;34m\u001b[0m\u001b[0;31m\u0000\u001b[0m\u001b[0ma\u001b[0m\u001b[0;31m\u0000\u001b[0m\u001b[0mc\u001b[0m\u001b[0;31m\u0000\u001b[0m\u001b[0mc\u001b[0m\u001b[0;31m\u0000\u001b[0m\u001b[0me\u001b[0m\u001b[0;31m\u0000\u001b[0m\u001b[0mp\u001b[0m\u001b[0;31m\u0000\u001b[0m\u001b[0mt\u001b[0m\u001b[0;31m\u0000\u001b[0m\u001b[0;31m \u001b[0m\u001b[0;31m\u0000\u001b[0m\u001b[0;34m=\u001b[0m\u001b[0;31m\u0000\u001b[0m\u001b[0;31m \u001b[0m\u001b[0;31m\u0000\u001b[0m\u001b[0;36m0\u001b[0m\u001b[0;31m\u0000\u001b[0m\u001b[0;34m\u001b[0m\n",
      "\u001b[0;34m\u001b[0m\u001b[0;31m\u0000\u001b[0m\u001b[0mr\u001b[0m\u001b[0;31m\u0000\u001b[0m\u001b[0me\u001b[0m\u001b[0;31m\u0000\u001b[0m\u001b[0mj\u001b[0m\u001b[0;31m\u0000\u001b[0m\u001b[0me\u001b[0m\u001b[0;31m\u0000\u001b[0m\u001b[0mc\u001b[0m\u001b[0;31m\u0000\u001b[0m\u001b[0mt\u001b[0m\u001b[0;31m\u0000\u001b[0m\u001b[0me\u001b[0m\u001b[0;31m\u0000\u001b[0m\u001b[0md\u001b[0m\u001b[0;31m\u0000\u001b[0m\u001b[0;31m \u001b[0m\u001b[0;31m\u0000\u001b[0m\u001b[0;34m=\u001b[0m\u001b[0;31m\u0000\u001b[0m\u001b[0;31m \u001b[0m\u001b[0;31m\u0000\u001b[0m\u001b[0;36m0\u001b[0m\u001b[0;31m\u0000\u001b[0m\u001b[0;34m\u001b[0m\n",
      "\u001b[0;34m\u001b[0m\u001b[0;31m\u0000\u001b[0m\u001b[0mm\u001b[0m\u001b[0;31m\u0000\u001b[0m\u001b[0ma\u001b[0m\u001b[0;31m\u0000\u001b[0m\u001b[0mt\u001b[0m\u001b[0;31m\u0000\u001b[0m\u001b[0mr\u001b[0m\u001b[0;31m\u0000\u001b[0m\u001b[0mi\u001b[0m\u001b[0;31m\u0000\u001b[0m\u001b[0mx\u001b[0m\u001b[0;31m\u0000\u001b[0m\u001b[0;31m \u001b[0m\u001b[0;31m\u0000\u001b[0m\u001b[0ms\u001b[0m\u001b[0;31m\u0000\u001b[0m\u001b[0mi\u001b[0m\u001b[0;31m\u0000\u001b[0m\u001b[0mz\u001b[0m\u001b[0;31m\u0000\u001b[0m\u001b[0me\u001b[0m\u001b[0;31m\u0000\u001b[0m\u001b[0;31m \u001b[0m\u001b[0;31m\u0000\u001b[0m\u001b[0;34m=\u001b[0m\u001b[0;31m\u0000\u001b[0m\u001b[0;31m \u001b[0m\u001b[0;31m\u0000\u001b[0m\u001b[0;36m2\u001b[0m\u001b[0;31m\u0000\u001b[0m\u001b[0;34m\u001b[0m\n",
      "\u001b[0;34m\u001b[0m\u001b[0;31m\u0000\u001b[0m\u001b[0mf\u001b[0m\u001b[0;31m\u0000\u001b[0m\u001b[0mi\u001b[0m\u001b[0;31m\u0000\u001b[0m\u001b[0ml\u001b[0m\u001b[0;31m\u0000\u001b[0m\u001b[0ml\u001b[0m\u001b[0;31m\u0000\u001b[0m\u001b[0mi\u001b[0m\u001b[0;31m\u0000\u001b[0m\u001b[0mn\u001b[0m\u001b[0;31m\u0000\u001b[0m\u001b[0ms\u001b[0m\u001b[0;31m\u0000\u001b[0m\u001b[0;31m \u001b[0m\u001b[0;31m\u0000\u001b[0m\u001b[0;34m=\u001b[0m\u001b[0;31m\u0000\u001b[0m\u001b[0;31m \u001b[0m\u001b[0;31m\u0000\u001b[0m\u001b[0;36m0\u001b[0m\u001b[0;31m\u0000\u001b[0m\u001b[0;34m\u001b[0m\n",
      "\u001b[0;34m\u001b[0m\u001b[0;31m\u0000\u001b[0m\u001b[0ms\u001b[0m\u001b[0;31m\u0000\u001b[0m\u001b[0mo\u001b[0m\u001b[0;31m\u0000\u001b[0m\u001b[0ml\u001b[0m\u001b[0;31m\u0000\u001b[0m\u001b[0mv\u001b[0m\u001b[0;31m\u0000\u001b[0m\u001b[0me\u001b[0m\u001b[0;31m\u0000\u001b[0m\u001b[0mr\u001b[0m\u001b[0;31m\u0000\u001b[0m\u001b[0;31m \u001b[0m\u001b[0;31m\u0000\u001b[0m\u001b[0;34m=\u001b[0m\u001b[0;31m\u0000\u001b[0m\u001b[0;31m \u001b[0m\u001b[0;31m\u0000\u001b[0m\u001b[0mN\u001b[0m\u001b[0;31m\u0000\u001b[0m\u001b[0mo\u001b[0m\u001b[0;31m\u0000\u001b[0m\u001b[0mr\u001b[0m\u001b[0;31m\u0000\u001b[0m\u001b[0mm\u001b[0m\u001b[0;31m\u0000\u001b[0m\u001b[0ma\u001b[0m\u001b[0;31m\u0000\u001b[0m\u001b[0ml\u001b[0m\u001b[0;31m\u0000\u001b[0m\u001b[0;34m\u001b[0m\n",
      "\u001b[0;34m\u001b[0m\u001b[0;31m\u0000\u001b[0m\u001b[0mM\u001b[0m\u001b[0;31m\u0000\u001b[0m\u001b[0ma\u001b[0m\u001b[0;31m\u0000\u001b[0m\u001b[0mt\u001b[0m\u001b[0;31m\u0000\u001b[0m\u001b[0mr\u001b[0m\u001b[0;31m\u0000\u001b[0m\u001b[0mi\u001b[0m\u001b[0;31m\u0000\u001b[0m\u001b[0mx\u001b[0m\u001b[0;31m\u0000\u001b[0m\u001b[0;31m \u001b[0m\u001b[0;31m\u0000\u001b[0m\u001b[0mC\u001b[0m\u001b[0;31m\u0000\u001b[0m\u001b[0mo\u001b[0m\u001b[0;31m\u0000\u001b[0m\u001b[0mm\u001b[0m\u001b[0;31m\u0000\u001b[0m\u001b[0mp\u001b[0m\u001b[0;31m\u0000\u001b[0m\u001b[0mi\u001b[0m\u001b[0;31m\u0000\u001b[0m\u001b[0ml\u001b[0m\u001b[0;31m\u0000\u001b[0m\u001b[0me\u001b[0m\u001b[0;31m\u0000\u001b[0m\u001b[0mr\u001b[0m\u001b[0;31m\u0000\u001b[0m\u001b[0;36m1\u001b[0m\u001b[0;31m\u0000\u001b[0m\u001b[0;34m:\u001b[0m\u001b[0;31m\u0000\u001b[0m\u001b[0;31m \u001b[0m\u001b[0;31m\u0000\u001b[0m\u001b[0;31m \u001b[0m\u001b[0;31m\u0000\u001b[0m\u001b[0;31m \u001b[0m\u001b[0;31m\u0000\u001b[0m\u001b[0;31m \u001b[0m\u001b[0;31m\u0000\u001b[0m\u001b[0;31m \u001b[0m\u001b[0;31m\u0000\u001b[0m\u001b[0;31m \u001b[0m\u001b[0;31m\u0000\u001b[0m\u001b[0;31m \u001b[0m\u001b[0;31m\u0000\u001b[0m\u001b[0;36m2\u001b[0m\u001b[0;31m\u0000\u001b[0m\u001b[0;31m \u001b[0m\u001b[0;31m\u0000\u001b[0m\u001b[0mo\u001b[0m\u001b[0;31m\u0000\u001b[0m\u001b[0mp\u001b[0m\u001b[0;31m\u0000\u001b[0m\u001b[0mc\u001b[0m\u001b[0;31m\u0000\u001b[0m\u001b[0mo\u001b[0m\u001b[0;31m\u0000\u001b[0m\u001b[0md\u001b[0m\u001b[0;31m\u0000\u001b[0m\u001b[0me\u001b[0m\u001b[0;31m\u0000\u001b[0m\u001b[0ms\u001b[0m\u001b[0;31m\u0000\u001b[0m\u001b[0;34m\u001b[0m\n",
      "\u001b[0;34m\u001b[0m\u001b[0;31m\u0000\u001b[0m\u001b[0mM\u001b[0m\u001b[0;31m\u0000\u001b[0m\u001b[0ma\u001b[0m\u001b[0;31m\u0000\u001b[0m\u001b[0mt\u001b[0m\u001b[0;31m\u0000\u001b[0m\u001b[0mr\u001b[0m\u001b[0;31m\u0000\u001b[0m\u001b[0mi\u001b[0m\u001b[0;31m\u0000\u001b[0m\u001b[0mx\u001b[0m\u001b[0;31m\u0000\u001b[0m\u001b[0;31m \u001b[0m\u001b[0;31m\u0000\u001b[0m\u001b[0mC\u001b[0m\u001b[0;31m\u0000\u001b[0m\u001b[0mo\u001b[0m\u001b[0;31m\u0000\u001b[0m\u001b[0mm\u001b[0m\u001b[0;31m\u0000\u001b[0m\u001b[0mp\u001b[0m\u001b[0;31m\u0000\u001b[0m\u001b[0mi\u001b[0m\u001b[0;31m\u0000\u001b[0m\u001b[0ml\u001b[0m\u001b[0;31m\u0000\u001b[0m\u001b[0me\u001b[0m\u001b[0;31m\u0000\u001b[0m\u001b[0mr\u001b[0m\u001b[0;31m\u0000\u001b[0m\u001b[0;36m2\u001b[0m\u001b[0;31m\u0000\u001b[0m\u001b[0;34m:\u001b[0m\u001b[0;31m\u0000\u001b[0m\u001b[0;31m \u001b[0m\u001b[0;31m\u0000\u001b[0m\u001b[0;31m \u001b[0m\u001b[0;31m\u0000\u001b[0m\u001b[0;31m \u001b[0m\u001b[0;31m\u0000\u001b[0m\u001b[0;31m \u001b[0m\u001b[0;31m\u0000\u001b[0m\u001b[0;31m \u001b[0m\u001b[0;31m\u0000\u001b[0m\u001b[0;31m \u001b[0m\u001b[0;31m\u0000\u001b[0m\u001b[0;31m \u001b[0m\u001b[0;31m\u0000\u001b[0m\u001b[0;36m9\u001b[0m\u001b[0;31m\u0000\u001b[0m\u001b[0;31m \u001b[0m\u001b[0;31m\u0000\u001b[0m\u001b[0mo\u001b[0m\u001b[0;31m\u0000\u001b[0m\u001b[0mp\u001b[0m\u001b[0;31m\u0000\u001b[0m\u001b[0mc\u001b[0m\u001b[0;31m\u0000\u001b[0m\u001b[0mo\u001b[0m\u001b[0;31m\u0000\u001b[0m\u001b[0md\u001b[0m\u001b[0;31m\u0000\u001b[0m\u001b[0me\u001b[0m\u001b[0;31m\u0000\u001b[0m\u001b[0ms\u001b[0m\u001b[0;31m\u0000\u001b[0m\u001b[0;34m\u001b[0m\n",
      "\u001b[0;34m\u001b[0m\u001b[0;31m\u0000\u001b[0m\u001b[0;34m\u001b[0m\u001b[0;34m\u001b[0m\u001b[0m\n"
     ],
     "name": "stdout"
    }
   ],
   "source": [
    "%pycat circuito sencilloBRT.log"
   ]
  },
  {
   "source": [
    "Ahora ejecutamos el analisis .dc, he modificado un poco los parametros que venían en el enunciado de la actividad para dejarlos entre 0 y 9, tal y como habíamos realizado con el análisis en ahkab."
   ],
   "cell_type": "markdown",
   "metadata": {}
  },
  {
   "cell_type": "code",
   "execution_count": 123,
   "metadata": {},
   "outputs": [
    {
     "output_type": "stream",
     "name": "stdout",
     "text": [
      "Overwriting circuito sencilloBRT2.net\n"
     ]
    }
   ],
   "source": [
    "%%writefile \"circuito sencilloBRT2.net\"\n",
    "* Este es un circuito sencillo adaptado para LTspice\n",
    "r1 1 0 10\n",
    "v1 0 1 9\n",
    "* Ahora obviamos el análisis .op\n",
    "* .op\n",
    ".dc v1 0 9 \n",
    ".end"
   ]
  },
  {
   "cell_type": "code",
   "execution_count": 124,
   "metadata": {},
   "outputs": [],
   "source": [
    "lts \"circuito sencilloBRT2.net\"\n"
   ]
  },
  {
   "cell_type": "code",
   "execution_count": 121,
   "metadata": {},
   "outputs": [
    {
     "output_type": "stream",
     "name": "stdout",
     "text": [
      "Requirement already satisfied: ltspice in /usr/local/Caskroom/miniconda/base/lib/python3.8/site-packages (1.0.0)\n",
      "Requirement already satisfied: numpy in /usr/local/Caskroom/miniconda/base/lib/python3.8/site-packages (from ltspice) (1.19.2)\n",
      "Note: you may need to restart the kernel to use updated packages.\n"
     ]
    }
   ],
   "source": [
    "pip install ltspice\n"
   ]
  },
  {
   "cell_type": "code",
   "execution_count": 125,
   "metadata": {},
   "outputs": [
    {
     "output_type": "execute_result",
     "data": {
      "text/plain": [
       "[<matplotlib.lines.Line2D at 0x7fc1ca7d4e80>]"
      ]
     },
     "metadata": {},
     "execution_count": 125
    },
    {
     "output_type": "display_data",
     "data": {
      "text/plain": "<Figure size 432x288 with 1 Axes>",
      "image/svg+xml": "<?xml version=\"1.0\" encoding=\"utf-8\" standalone=\"no\"?>\n<!DOCTYPE svg PUBLIC \"-//W3C//DTD SVG 1.1//EN\"\n  \"http://www.w3.org/Graphics/SVG/1.1/DTD/svg11.dtd\">\n<!-- Created with matplotlib (https://matplotlib.org/) -->\n<svg height=\"249.485937pt\" version=\"1.1\" viewBox=\"0 0 372.416406 249.485937\" width=\"372.416406pt\" xmlns=\"http://www.w3.org/2000/svg\" xmlns:xlink=\"http://www.w3.org/1999/xlink\">\n <metadata>\n  <rdf:RDF xmlns:cc=\"http://creativecommons.org/ns#\" xmlns:dc=\"http://purl.org/dc/elements/1.1/\" xmlns:rdf=\"http://www.w3.org/1999/02/22-rdf-syntax-ns#\">\n   <cc:Work>\n    <dc:type rdf:resource=\"http://purl.org/dc/dcmitype/StillImage\"/>\n    <dc:date>2020-12-31T12:08:16.870633</dc:date>\n    <dc:format>image/svg+xml</dc:format>\n    <dc:creator>\n     <cc:Agent>\n      <dc:title>Matplotlib v3.3.3, https://matplotlib.org/</dc:title>\n     </cc:Agent>\n    </dc:creator>\n   </cc:Work>\n  </rdf:RDF>\n </metadata>\n <defs>\n  <style type=\"text/css\">*{stroke-linecap:butt;stroke-linejoin:round;}</style>\n </defs>\n <g id=\"figure_1\">\n  <g id=\"patch_1\">\n   <path d=\"M 0 249.485937 \nL 372.416406 249.485937 \nL 372.416406 0 \nL 0 0 \nz\n\" style=\"fill:none;\"/>\n  </g>\n  <g id=\"axes_1\">\n   <g id=\"patch_2\">\n    <path d=\"M 30.416406 224.64 \nL 365.216406 224.64 \nL 365.216406 7.2 \nL 30.416406 7.2 \nz\n\" style=\"fill:#ffffff;\"/>\n   </g>\n   <g id=\"matplotlib.axis_1\">\n    <g id=\"xtick_1\">\n     <g id=\"line2d_1\">\n      <defs>\n       <path d=\"M 0 0 \nL 0 3.5 \n\" id=\"mad12fee8b3\" style=\"stroke:#000000;stroke-width:0.8;\"/>\n      </defs>\n      <g>\n       <use style=\"stroke:#000000;stroke-width:0.8;\" x=\"45.634588\" xlink:href=\"#mad12fee8b3\" y=\"224.64\"/>\n      </g>\n     </g>\n     <g id=\"text_1\">\n      <!-- 0 -->\n      <g transform=\"translate(42.135213 239.998281)scale(0.11 -0.11)\">\n       <defs>\n        <path d=\"M 31.78125 66.40625 \nQ 24.171875 66.40625 20.328125 58.90625 \nQ 16.5 51.421875 16.5 36.375 \nQ 16.5 21.390625 20.328125 13.890625 \nQ 24.171875 6.390625 31.78125 6.390625 \nQ 39.453125 6.390625 43.28125 13.890625 \nQ 47.125 21.390625 47.125 36.375 \nQ 47.125 51.421875 43.28125 58.90625 \nQ 39.453125 66.40625 31.78125 66.40625 \nz\nM 31.78125 74.21875 \nQ 44.046875 74.21875 50.515625 64.515625 \nQ 56.984375 54.828125 56.984375 36.375 \nQ 56.984375 17.96875 50.515625 8.265625 \nQ 44.046875 -1.421875 31.78125 -1.421875 \nQ 19.53125 -1.421875 13.0625 8.265625 \nQ 6.59375 17.96875 6.59375 36.375 \nQ 6.59375 54.828125 13.0625 64.515625 \nQ 19.53125 74.21875 31.78125 74.21875 \nz\n\" id=\"DejaVuSans-48\"/>\n       </defs>\n       <use xlink:href=\"#DejaVuSans-48\"/>\n      </g>\n     </g>\n    </g>\n    <g id=\"xtick_2\">\n     <g id=\"line2d_2\">\n      <g>\n       <use style=\"stroke:#000000;stroke-width:0.8;\" x=\"113.270952\" xlink:href=\"#mad12fee8b3\" y=\"224.64\"/>\n      </g>\n     </g>\n     <g id=\"text_2\">\n      <!-- 2 -->\n      <g transform=\"translate(109.771577 239.998281)scale(0.11 -0.11)\">\n       <defs>\n        <path d=\"M 19.1875 8.296875 \nL 53.609375 8.296875 \nL 53.609375 0 \nL 7.328125 0 \nL 7.328125 8.296875 \nQ 12.9375 14.109375 22.625 23.890625 \nQ 32.328125 33.6875 34.8125 36.53125 \nQ 39.546875 41.84375 41.421875 45.53125 \nQ 43.3125 49.21875 43.3125 52.78125 \nQ 43.3125 58.59375 39.234375 62.25 \nQ 35.15625 65.921875 28.609375 65.921875 \nQ 23.96875 65.921875 18.8125 64.3125 \nQ 13.671875 62.703125 7.8125 59.421875 \nL 7.8125 69.390625 \nQ 13.765625 71.78125 18.9375 73 \nQ 24.125 74.21875 28.421875 74.21875 \nQ 39.75 74.21875 46.484375 68.546875 \nQ 53.21875 62.890625 53.21875 53.421875 \nQ 53.21875 48.921875 51.53125 44.890625 \nQ 49.859375 40.875 45.40625 35.40625 \nQ 44.1875 33.984375 37.640625 27.21875 \nQ 31.109375 20.453125 19.1875 8.296875 \nz\n\" id=\"DejaVuSans-50\"/>\n       </defs>\n       <use xlink:href=\"#DejaVuSans-50\"/>\n      </g>\n     </g>\n    </g>\n    <g id=\"xtick_3\">\n     <g id=\"line2d_3\">\n      <g>\n       <use style=\"stroke:#000000;stroke-width:0.8;\" x=\"180.907315\" xlink:href=\"#mad12fee8b3\" y=\"224.64\"/>\n      </g>\n     </g>\n     <g id=\"text_3\">\n      <!-- 4 -->\n      <g transform=\"translate(177.40794 239.998281)scale(0.11 -0.11)\">\n       <defs>\n        <path d=\"M 37.796875 64.3125 \nL 12.890625 25.390625 \nL 37.796875 25.390625 \nz\nM 35.203125 72.90625 \nL 47.609375 72.90625 \nL 47.609375 25.390625 \nL 58.015625 25.390625 \nL 58.015625 17.1875 \nL 47.609375 17.1875 \nL 47.609375 0 \nL 37.796875 0 \nL 37.796875 17.1875 \nL 4.890625 17.1875 \nL 4.890625 26.703125 \nz\n\" id=\"DejaVuSans-52\"/>\n       </defs>\n       <use xlink:href=\"#DejaVuSans-52\"/>\n      </g>\n     </g>\n    </g>\n    <g id=\"xtick_4\">\n     <g id=\"line2d_4\">\n      <g>\n       <use style=\"stroke:#000000;stroke-width:0.8;\" x=\"248.543679\" xlink:href=\"#mad12fee8b3\" y=\"224.64\"/>\n      </g>\n     </g>\n     <g id=\"text_4\">\n      <!-- 6 -->\n      <g transform=\"translate(245.044304 239.998281)scale(0.11 -0.11)\">\n       <defs>\n        <path d=\"M 33.015625 40.375 \nQ 26.375 40.375 22.484375 35.828125 \nQ 18.609375 31.296875 18.609375 23.390625 \nQ 18.609375 15.53125 22.484375 10.953125 \nQ 26.375 6.390625 33.015625 6.390625 \nQ 39.65625 6.390625 43.53125 10.953125 \nQ 47.40625 15.53125 47.40625 23.390625 \nQ 47.40625 31.296875 43.53125 35.828125 \nQ 39.65625 40.375 33.015625 40.375 \nz\nM 52.59375 71.296875 \nL 52.59375 62.3125 \nQ 48.875 64.0625 45.09375 64.984375 \nQ 41.3125 65.921875 37.59375 65.921875 \nQ 27.828125 65.921875 22.671875 59.328125 \nQ 17.53125 52.734375 16.796875 39.40625 \nQ 19.671875 43.65625 24.015625 45.921875 \nQ 28.375 48.1875 33.59375 48.1875 \nQ 44.578125 48.1875 50.953125 41.515625 \nQ 57.328125 34.859375 57.328125 23.390625 \nQ 57.328125 12.15625 50.6875 5.359375 \nQ 44.046875 -1.421875 33.015625 -1.421875 \nQ 20.359375 -1.421875 13.671875 8.265625 \nQ 6.984375 17.96875 6.984375 36.375 \nQ 6.984375 53.65625 15.1875 63.9375 \nQ 23.390625 74.21875 37.203125 74.21875 \nQ 40.921875 74.21875 44.703125 73.484375 \nQ 48.484375 72.75 52.59375 71.296875 \nz\n\" id=\"DejaVuSans-54\"/>\n       </defs>\n       <use xlink:href=\"#DejaVuSans-54\"/>\n      </g>\n     </g>\n    </g>\n    <g id=\"xtick_5\">\n     <g id=\"line2d_5\">\n      <g>\n       <use style=\"stroke:#000000;stroke-width:0.8;\" x=\"316.180043\" xlink:href=\"#mad12fee8b3\" y=\"224.64\"/>\n      </g>\n     </g>\n     <g id=\"text_5\">\n      <!-- 8 -->\n      <g transform=\"translate(312.680668 239.998281)scale(0.11 -0.11)\">\n       <defs>\n        <path d=\"M 31.78125 34.625 \nQ 24.75 34.625 20.71875 30.859375 \nQ 16.703125 27.09375 16.703125 20.515625 \nQ 16.703125 13.921875 20.71875 10.15625 \nQ 24.75 6.390625 31.78125 6.390625 \nQ 38.8125 6.390625 42.859375 10.171875 \nQ 46.921875 13.96875 46.921875 20.515625 \nQ 46.921875 27.09375 42.890625 30.859375 \nQ 38.875 34.625 31.78125 34.625 \nz\nM 21.921875 38.8125 \nQ 15.578125 40.375 12.03125 44.71875 \nQ 8.5 49.078125 8.5 55.328125 \nQ 8.5 64.0625 14.71875 69.140625 \nQ 20.953125 74.21875 31.78125 74.21875 \nQ 42.671875 74.21875 48.875 69.140625 \nQ 55.078125 64.0625 55.078125 55.328125 \nQ 55.078125 49.078125 51.53125 44.71875 \nQ 48 40.375 41.703125 38.8125 \nQ 48.828125 37.15625 52.796875 32.3125 \nQ 56.78125 27.484375 56.78125 20.515625 \nQ 56.78125 9.90625 50.3125 4.234375 \nQ 43.84375 -1.421875 31.78125 -1.421875 \nQ 19.734375 -1.421875 13.25 4.234375 \nQ 6.78125 9.90625 6.78125 20.515625 \nQ 6.78125 27.484375 10.78125 32.3125 \nQ 14.796875 37.15625 21.921875 38.8125 \nz\nM 18.3125 54.390625 \nQ 18.3125 48.734375 21.84375 45.5625 \nQ 25.390625 42.390625 31.78125 42.390625 \nQ 38.140625 42.390625 41.71875 45.5625 \nQ 45.3125 48.734375 45.3125 54.390625 \nQ 45.3125 60.0625 41.71875 63.234375 \nQ 38.140625 66.40625 31.78125 66.40625 \nQ 25.390625 66.40625 21.84375 63.234375 \nQ 18.3125 60.0625 18.3125 54.390625 \nz\n\" id=\"DejaVuSans-56\"/>\n       </defs>\n       <use xlink:href=\"#DejaVuSans-56\"/>\n      </g>\n     </g>\n    </g>\n   </g>\n   <g id=\"matplotlib.axis_2\">\n    <g id=\"ytick_1\">\n     <g id=\"line2d_6\">\n      <defs>\n       <path d=\"M 0 0 \nL -3.5 0 \n\" id=\"mdff616d232\" style=\"stroke:#000000;stroke-width:0.8;\"/>\n      </defs>\n      <g>\n       <use style=\"stroke:#000000;stroke-width:0.8;\" x=\"30.416406\" xlink:href=\"#mdff616d232\" y=\"192.792727\"/>\n      </g>\n     </g>\n     <g id=\"text_6\">\n      <!-- −8 -->\n      <g transform=\"translate(7.2 196.971868)scale(0.11 -0.11)\">\n       <defs>\n        <path d=\"M 10.59375 35.5 \nL 73.1875 35.5 \nL 73.1875 27.203125 \nL 10.59375 27.203125 \nz\n\" id=\"DejaVuSans-8722\"/>\n       </defs>\n       <use xlink:href=\"#DejaVuSans-8722\"/>\n       <use x=\"83.789062\" xlink:href=\"#DejaVuSans-56\"/>\n      </g>\n     </g>\n    </g>\n    <g id=\"ytick_2\">\n     <g id=\"line2d_7\">\n      <g>\n       <use style=\"stroke:#000000;stroke-width:0.8;\" x=\"30.416406\" xlink:href=\"#mdff616d232\" y=\"148.865455\"/>\n      </g>\n     </g>\n     <g id=\"text_7\">\n      <!-- −6 -->\n      <g transform=\"translate(7.2 153.044595)scale(0.11 -0.11)\">\n       <use xlink:href=\"#DejaVuSans-8722\"/>\n       <use x=\"83.789062\" xlink:href=\"#DejaVuSans-54\"/>\n      </g>\n     </g>\n    </g>\n    <g id=\"ytick_3\">\n     <g id=\"line2d_8\">\n      <g>\n       <use style=\"stroke:#000000;stroke-width:0.8;\" x=\"30.416406\" xlink:href=\"#mdff616d232\" y=\"104.938182\"/>\n      </g>\n     </g>\n     <g id=\"text_8\">\n      <!-- −4 -->\n      <g transform=\"translate(7.2 109.117322)scale(0.11 -0.11)\">\n       <use xlink:href=\"#DejaVuSans-8722\"/>\n       <use x=\"83.789062\" xlink:href=\"#DejaVuSans-52\"/>\n      </g>\n     </g>\n    </g>\n    <g id=\"ytick_4\">\n     <g id=\"line2d_9\">\n      <g>\n       <use style=\"stroke:#000000;stroke-width:0.8;\" x=\"30.416406\" xlink:href=\"#mdff616d232\" y=\"61.010909\"/>\n      </g>\n     </g>\n     <g id=\"text_9\">\n      <!-- −2 -->\n      <g transform=\"translate(7.2 65.19005)scale(0.11 -0.11)\">\n       <use xlink:href=\"#DejaVuSans-8722\"/>\n       <use x=\"83.789062\" xlink:href=\"#DejaVuSans-50\"/>\n      </g>\n     </g>\n    </g>\n    <g id=\"ytick_5\">\n     <g id=\"line2d_10\">\n      <g>\n       <use style=\"stroke:#000000;stroke-width:0.8;\" x=\"30.416406\" xlink:href=\"#mdff616d232\" y=\"17.083636\"/>\n      </g>\n     </g>\n     <g id=\"text_10\">\n      <!-- 0 -->\n      <g transform=\"translate(16.417656 21.262777)scale(0.11 -0.11)\">\n       <use xlink:href=\"#DejaVuSans-48\"/>\n      </g>\n     </g>\n    </g>\n   </g>\n   <g id=\"line2d_11\">\n    <path clip-path=\"url(#pbafc36459a)\" d=\"M 45.634588 17.083636 \nL 349.998224 214.756364 \nL 349.998224 214.756364 \n\" style=\"fill:none;stroke:#1f77b4;stroke-linecap:square;stroke-width:1.5;\"/>\n   </g>\n   <g id=\"patch_3\">\n    <path d=\"M 30.416406 224.64 \nL 30.416406 7.2 \n\" style=\"fill:none;stroke:#000000;stroke-linecap:square;stroke-linejoin:miter;stroke-width:0.8;\"/>\n   </g>\n   <g id=\"patch_4\">\n    <path d=\"M 365.216406 224.64 \nL 365.216406 7.2 \n\" style=\"fill:none;stroke:#000000;stroke-linecap:square;stroke-linejoin:miter;stroke-width:0.8;\"/>\n   </g>\n   <g id=\"patch_5\">\n    <path d=\"M 30.416406 224.64 \nL 365.216406 224.64 \n\" style=\"fill:none;stroke:#000000;stroke-linecap:square;stroke-linejoin:miter;stroke-width:0.8;\"/>\n   </g>\n   <g id=\"patch_6\">\n    <path d=\"M 30.416406 7.2 \nL 365.216406 7.2 \n\" style=\"fill:none;stroke:#000000;stroke-linecap:square;stroke-linejoin:miter;stroke-width:0.8;\"/>\n   </g>\n  </g>\n </g>\n <defs>\n  <clipPath id=\"pbafc36459a\">\n   <rect height=\"217.44\" width=\"334.8\" x=\"30.416406\" y=\"7.2\"/>\n  </clipPath>\n </defs>\n</svg>\n",
      "image/png": "[encoded data removed]"
     },
     "metadata": {
      "needs_background": "light"
     }
    }
   ],
   "source": [
    "import ltspice\n",
    "l = ltspice.Ltspice(\"circuito sencilloBRT2.raw\")\n",
    "l.parse()\n",
    "tiempo = l.get_time()\n",
    "voltaje = l.get_data('V(1)')\n",
    "corriente = l.get_data('I(V1)')\n",
    "# Podemos pintar la corrente en función del tiempo\n",
    "# plt.plot(tiempo, corriente)\n",
    "# O el voltaje\n",
    "plt.plot(tiempo, voltaje)"
   ]
  },
  {
   "source": [
    "Al terminar el ejercicio la gráfica de arriba ojo que el eje Y no lo está numerando con los valores con decimales no se por que.\n",
    "\n",
    "## 2.1 Análisis de circuito con resistencias en serie\n"
   ],
   "cell_type": "markdown",
   "metadata": {}
  },
  {
   "cell_type": "code",
   "execution_count": 68,
   "metadata": {},
   "outputs": [
    {
     "output_type": "stream",
     "name": "stdout",
     "text": [
      "Overwriting resistencias en serieBRT.net\n"
     ]
    }
   ],
   "source": [
    "%%writefile \"resistencias en serieBRT.net\"\n",
    "* circuito con tres resistencias en serie\n",
    "v1 0 1 type=vdc vdc=9\n",
    "R1 0 2 3k\n",
    "R2 2 3 10k  \n",
    "R3 3 1 5k\n",
    "* análisis del circuito\n",
    ".op\n",
    ".end"
   ]
  },
  {
   "cell_type": "code",
   "execution_count": 69,
   "metadata": {},
   "outputs": [],
   "source": [
    "circuito_y_analisis2 = ahkab.netlist_parser.parse_circuit('resistencias en serieBRT.net')"
   ]
  },
  {
   "cell_type": "code",
   "execution_count": 70,
   "metadata": {},
   "outputs": [
    {
     "output_type": "stream",
     "name": "stdout",
     "text": [
      "Starting op analysis:\n",
      "Calculating guess: skipped. (linear circuit)\n",
      "Solving...   done.\n",
      "Solving...   done.\n",
      "Difference check within margins.\n",
      "(Voltage: er=0.001, ea=1e-06, Current: er=0.001, ea=1e-09)\n",
      "OP simulation results for '* circuito con tres resistencias en serie'(netlist resistencias en serieBRT.net).\n",
      "Run on 2021-01-04 22:47:30, data file None.\n",
      "Variable    Units      Value    Error    %\n",
      "----------  -------  -------  -------  ---\n",
      "V1          V        -9       9e-12      0\n",
      "V2          V        -1.5     1.5e-12    0\n",
      "V3          V        -6.5     6.5e-12    0\n",
      "I(V1)       A        -0.0005  0          0\n"
     ]
    }
   ],
   "source": [
    "circuito2 = circuito_y_analisis2[0]\n",
    "analisis2 = circuito_y_analisis2[1]\n",
    "lista_de_analisis2 = ahkab.netlist_parser.parse_analysis(circuito2, analisis2)\n",
    "resultados2 = ahkab.run(circuito2, lista_de_analisis2)\n",
    "print(resultados2['op'])\n"
   ]
  },
  {
   "source": [
    "Vamos a realizar los cálculos con Sympy"
   ],
   "cell_type": "markdown",
   "metadata": {}
  },
  {
   "cell_type": "code",
   "execution_count": 88,
   "metadata": {},
   "outputs": [
    {
     "output_type": "execute_result",
     "data": {
      "text/plain": [
       "-1.5*volt"
      ],
      "text/latex": "$\\displaystyle - 1.5 \\text{V}$"
     },
     "metadata": {},
     "execution_count": 88
    }
   ],
   "source": [
    "from sympy.physics.units import ohms, amperes, volts\n",
    "from sympy.physics.units import convert_to\n",
    "\n",
    "v1 = resultados2['op']['V1'][0][0] * volts\n",
    "r1 = 3*kilo*ohms\n",
    "r2 = 10*kilo*ohms\n",
    "r3 = 5*kilo*ohms\n",
    "r_total = r1 + r2 + r3\n",
    "intensidad = symbols('i')\n",
    "ley_ohm = Eq(v1, intensidad*r_total)\n",
    "solucion_para_intensidad = solve(ley_ohm, intensidad)\n",
    "intensidad = convert_to(solucion_para_intensidad[0], [amperes]).n(2)\n",
    "intensidad\n",
    "\n",
    "v2 = symbols('i')\n",
    "ley_ohm = Eq(v2,intensidad*r1)\n",
    "solucion_v2 = solve(ley_ohm,v2)\n",
    "v2 = convert_to(solucion_v2[0], [volts]).n(2)\n",
    "v2\n"
   ]
  },
  {
   "cell_type": "code",
   "execution_count": 86,
   "metadata": {},
   "outputs": [
    {
     "output_type": "stream",
     "name": "stdout",
     "text": [
      "-0.0005\n-1.5\n-6.5\n-9.0\n"
     ]
    }
   ],
   "source": [
    "\n",
    "\n",
    "\n",
    "intensidad = -9 / ( 3000 + 10000 + 5000) \n",
    "print ( intensidad)\n",
    "voltaje_consumido_V2 = intensidad * 3000\n",
    "print(voltaje_consumido_V2)\n",
    "\n",
    "voltaje_consumido_V3 = voltaje_consumido_V2 + intensidad * 10000\n",
    "print(voltaje_consumido_V3)\n",
    "\n",
    "voltaje_consumido_V1 = voltaje_consumido_V3 + intensidad * 5000\n",
    "print(voltaje_consumido_V1)\n",
    "\n"
   ]
  },
  {
   "cell_type": "code",
   "execution_count": 63,
   "metadata": {},
   "outputs": [
    {
     "output_type": "stream",
     "name": "stdout",
     "text": [
      "-1.5\n"
     ]
    }
   ],
   "source": [
    "i = -0.0005\n",
    "i = i*3000\n",
    "print(i)"
   ]
  },
  {
   "cell_type": "code",
   "execution_count": null,
   "metadata": {},
   "outputs": [],
   "source": []
  },
  {
   "source": [
    "Ahora pasamos a realizar los calculos en Sympy"
   ],
   "cell_type": "markdown",
   "metadata": {}
  },
  {
   "source": [
    "from sympy.physics.units import ohms, amperes, volts\n",
    "from sympy.physics.units import convert_to"
   ],
   "cell_type": "code",
   "metadata": {},
   "execution_count": 25,
   "outputs": []
  },
  {
   "source": [
    "r1 = 3E3*ohms\n",
    "intensidad_ahkab = resultados['op']['I(V1)'][0][0]*amperes\n",
    "print(intensidad_ahkab)\n",
    "v2 = convert_to(intensidad_ahkab*r1, [volts])\n",
    "v2"
   ],
   "cell_type": "code",
   "metadata": {},
   "execution_count": 77,
   "outputs": [
    {
     "output_type": "stream",
     "name": "stdout",
     "text": [
      "-0.09*ampere\n"
     ]
    },
    {
     "output_type": "execute_result",
     "data": {
      "text/plain": [
       "-270.0*volt"
      ],
      "text/latex": "$\\displaystyle - 270.0 \\text{V}$"
     },
     "metadata": {},
     "execution_count": 77
    }
   ]
  },
  {
   "cell_type": "code",
   "execution_count": 78,
   "metadata": {},
   "outputs": [
    {
     "output_type": "execute_result",
     "data": {
      "text/plain": [
       "0.0005*ampere"
      ],
      "text/latex": "$\\displaystyle 0.0005 \\text{A}$"
     },
     "metadata": {},
     "execution_count": 78
    }
   ],
   "source": [
    "from sympy.physics.units import kilo\n",
    "from sympy import solve, symbols, Eq\n",
    "v1 = 9*volts\n",
    "r1 = 3*kilo*ohms\n",
    "r2 = 10*kilo*ohms\n",
    "r3 = 5*kilo*ohms\n",
    "r_total = r1 + r2 + r3\n",
    "intensidad = symbols('i')\n",
    "ley_ohm = Eq(v1, intensidad*r_total)\n",
    "solucion_para_intensidad = solve(ley_ohm, intensidad)\n",
    "convert_to(solucion_para_intensidad[0], [amperes]).n(2)"
   ]
  },
  {
   "cell_type": "code",
   "execution_count": 37,
   "metadata": {},
   "outputs": [
    {
     "output_type": "execute_result",
     "data": {
      "text/plain": [
       "5.0*volt"
      ],
      "text/latex": "$\\displaystyle 5.0 \\text{V}$"
     },
     "metadata": {},
     "execution_count": 37
    }
   ],
   "source": [
    "\n",
    "intensidad = convert_to(solucion_para_intensidad[0], [amperes]).n(2)\n",
    "v3= symbols('i')\n",
    "ley_ohm = Eq(v3, intensidad*r2)\n",
    "solucion_v3 = solve(ley_ohm, v3)\n",
    "convert_to(solucion_v3[0], [volts]).n(2)\n"
   ]
  },
  {
   "cell_type": "code",
   "execution_count": 34,
   "metadata": {},
   "outputs": [
    {
     "output_type": "stream",
     "name": "stdout",
     "text": [
      "0.0005*ampere\n"
     ]
    },
    {
     "output_type": "execute_result",
     "data": {
      "text/plain": [
       "1.5*volt"
      ],
      "text/latex": "$\\displaystyle 1.5 \\text{V}$"
     },
     "metadata": {},
     "execution_count": 34
    }
   ],
   "source": [
    "V2= symbols('i')\n",
    "ley_ohm = Eq(v2, intensidad*r1)\n",
    "solucion_v2 = solve(ley_ohm, v2)\n",
    "convert_to(solucion_v2[0], [volts]).n(2)"
   ]
  },
  {
   "cell_type": "code",
   "execution_count": 38,
   "metadata": {},
   "outputs": [
    {
     "output_type": "execute_result",
     "data": {
      "text/plain": [
       "2.5*volt"
      ],
      "text/latex": "$\\displaystyle 2.5 \\text{V}$"
     },
     "metadata": {},
     "execution_count": 38
    }
   ],
   "source": [
    "intensidad = convert_to(solucion_para_intensidad[0], [amperes]).n(2)\n",
    "v3= symbols('i')\n",
    "ley_ohm = Eq(v3, intensidad*r3)\n",
    "solucion_v3 = solve(ley_ohm, v3)\n",
    "convert_to(solucion_v3[0], [volts]).n(2)"
   ]
  },
  {
   "source": [
    "Se cumple la ley de kirchok ya que 9 = 1 + 1,5 + 2,5\n",
    "\n",
    "### 2.3 ANALISIS .OP DE CIRCUITOS CON RESISTENCIAS EN PARALELO\n",
    "\n"
   ],
   "cell_type": "markdown",
   "metadata": {}
  },
  {
   "cell_type": "code",
   "execution_count": 61,
   "metadata": {},
   "outputs": [
    {
     "output_type": "stream",
     "name": "stdout",
     "text": [
      "Overwriting resistencias en paralelo 1BRT.cir\n"
     ]
    }
   ],
   "source": [
    "%%writefile \"resistencias en paralelo 1BRT.cir\"\n",
    "* resistencias en paralelo\n",
    "vdd 0 1 vdc=12 type=vdc\n",
    "r2 1 2 1k\n",
    "r3 2 3 220\n",
    "r4 3 0 1.5k\n",
    "r5 2 0 470\n",
    ".op\n",
    ".end\n",
    "\n",
    "\n"
   ]
  },
  {
   "cell_type": "code",
   "execution_count": 63,
   "metadata": {},
   "outputs": [
    {
     "output_type": "stream",
     "name": "stdout",
     "text": [
      "Starting op analysis:\n",
      "Calculating guess: skipped. (linear circuit)\n",
      "Solving...   done.\n",
      "Solving...   done.\n",
      "Difference check within margins.\n",
      "(Voltage: er=0.001, ea=1e-06, Current: er=0.001, ea=1e-09)\n",
      "OP simulation results for '* resistencias en paralelo'(netlist resistencias en paralelo 1BRT.cir).\n",
      "Run on 2020-12-28 22:30:27, data file None.\n",
      "Variable    Units           Value        Error    %\n",
      "----------  -------  ------------  -----------  ---\n",
      "V1          V        -12           1.2e-11        0\n",
      "V2          V         -3.23533     3.23532e-12    0\n",
      "V3          V         -2.8215      2.82151e-12    0\n",
      "I(VDD)      A         -0.00876467  0              0\n"
     ]
    }
   ],
   "source": [
    "circuito_y_análisis = ahkab.netlist_parser.parse_circuit('resistencias en paralelo 1BRT.cir')\n",
    "circuito = circuito_y_análisis[0]       \n",
    "análisis_en_netlist = circuito_y_análisis[1]\n",
    "lista_de_análisis = ahkab.netlist_parser.parse_analysis(circuito, análisis_en_netlist)\n",
    "resultados = ahkab.run(circuito, lista_de_análisis)\n",
    "\n",
    "print(resultados['op'])"
   ]
  },
  {
   "source": [
    "\n",
    "Analizamos los resultados, lo primero es calcular los mismos y comprobar. Si calculamos la resistencia es equivalente. \n",
    "\n",
    "\n",
    "\n",
    "\n"
   ],
   "cell_type": "markdown",
   "metadata": {}
  },
  {
   "cell_type": "code",
   "execution_count": 156,
   "metadata": {},
   "outputs": [
    {
     "output_type": "stream",
     "name": "stdout",
     "text": [
      "1369.132420091324\n-0.008764674493062967\n-3.2353255069370324\n-0.006883671291355388\n-0.0018810032017075769\n-0.008764674493062966\n-2.8215048025613654\n"
     ]
    }
   ],
   "source": [
    "rtotal = 1000 + 1 / (( 1 / (220 + 1500)) + ( 1/470))\n",
    "print(rtotal)\n",
    "intensidad = -12 / rtotal\n",
    "print(intensidad)\n",
    "\n",
    "v2 = -12 - (intensidad * 1000)\n",
    "print( v2)\n",
    "\n",
    "intensidadr1 = v2 / 470\n",
    "intensidadr2 = v2 / (220+1500)\n",
    "\n",
    "print (intensidadr1)\n",
    "print (intensidadr2)\n",
    "\n",
    "print (intensidadr1 + intensidadr2)\n",
    "\n",
    "v3 = v2 - (intensidadr2* 220)\n",
    "\n",
    "print (v3)\n"
   ]
  },
  {
   "cell_type": "code",
   "execution_count": 171,
   "metadata": {},
   "outputs": [
    {
     "output_type": "stream",
     "name": "stdout",
     "text": [
      "Overwriting resistencias en paralelo 1BRTDummy.cir\n"
     ]
    }
   ],
   "source": [
    "%%writefile \"resistencias en paralelo 1BRTDummy.cir\"\n",
    "* resistencias en paralelo\n",
    "vdd 0 1 vdc=12 type=vdc\n",
    "r2 1 2 1k\n",
    "r3 31 3 220\n",
    "r4 3 0 1.5k\n",
    "r5 21 0 470\n",
    "v1d 21 2 vdc=0 type=vdc\n",
    "v2d 31 2 vdc=0 type=vdc\n",
    ".op\n",
    ".end"
   ]
  },
  {
   "cell_type": "code",
   "execution_count": 170,
   "metadata": {},
   "outputs": [
    {
     "output_type": "stream",
     "name": "stdout",
     "text": [
      "Starting op analysis:\n",
      "Calculating guess: skipped. (linear circuit)\n",
      "Solving...   done.\n",
      "Solving...   done.\n",
      "Difference check within margins.\n",
      "(Voltage: er=0.001, ea=1e-06, Current: er=0.001, ea=1e-09)\n",
      "OP simulation results for '* resistencias en paralelo'(netlist resistencias en paralelo 1BRTdummy.cir).\n",
      "Run on 2020-12-31 14:50:36, data file None.\n",
      "Variable    Units           Value        Error    %\n",
      "----------  -------  ------------  -----------  ---\n",
      "V1          V        -12           1.2e-11        0\n",
      "V2          V         -3.23533     3.23533e-12    0\n",
      "V31         V         -3.23533     3.23533e-12    0\n",
      "V3          V         -2.8215      2.82151e-12    0\n",
      "V21         V         -3.23533     3.23533e-12    0\n",
      "I(VDD)      A         -0.00876467  0              0\n",
      "I(V1D)      A          0.00688367  0              0\n",
      "I(V2D)      A          0.001881    0              0\n"
     ]
    }
   ],
   "source": [
    "circuito_y_análisis = ahkab.netlist_parser.parse_circuit('resistencias en paralelo 1BRTdummy.cir')\n",
    "circuito = circuito_y_análisis[0]       \n",
    "análisis_en_netlist = circuito_y_análisis[1]\n",
    "lista_de_análisis = ahkab.netlist_parser.parse_analysis(circuito, análisis_en_netlist)\n",
    "resultados = ahkab.run(circuito, lista_de_análisis)\n",
    "\n",
    "print(resultados['op'])"
   ]
  },
  {
   "source": [
    "Los resultados son los mismos que los que había calculado y se cumple la ley de kirchoff para las corrientes."
   ],
   "cell_type": "markdown",
   "metadata": {}
  },
  {
   "cell_type": "code",
   "execution_count": null,
   "metadata": {},
   "outputs": [],
   "source": [
    "representamos el segundo circuito"
   ]
  },
  {
   "cell_type": "code",
   "execution_count": 248,
   "metadata": {},
   "outputs": [
    {
     "output_type": "stream",
     "name": "stdout",
     "text": [
      "Overwriting resistencias en paralelo 2BRT.cir\n"
     ]
    }
   ],
   "source": [
    "%%writefile \"resistencias en paralelo 2BRT.cir\"\n",
    "* resistencias en paralelo\n",
    "v1 0 1 type=vdc vdc=9\n",
    "r1 1 2 47\n",
    "v3d 2 21 type=vdc vdc=0\n",
    "r2 21 3 220\n",
    "r4 3 4 1000\n",
    "r5 4 0 560\n",
    "r3 2 5 180\n",
    "v2 0 5 type=vdc vdc=1.5\n",
    ".op\n",
    ".end\n",
    "\n"
   ]
  },
  {
   "cell_type": "code",
   "execution_count": 249,
   "metadata": {},
   "outputs": [
    {
     "output_type": "stream",
     "name": "stdout",
     "text": [
      "Starting op analysis:\n",
      "Calculating guess: skipped. (linear circuit)\n",
      "Solving...   done.\n",
      "Solving...   done.\n",
      "Difference check within margins.\n",
      "(Voltage: er=0.001, ea=1e-06, Current: er=0.001, ea=1e-09)\n",
      "OP simulation results for '* resistencias en paralelo'(netlist resistencias en paralelo 2BRT.cir).\n",
      "Run on 2020-12-31 16:10:50, data file None.\n",
      "Variable    Units          Value        Error    %\n",
      "----------  -------  -----------  -----------  ---\n",
      "V1          V        -9           8.99998e-12    0\n",
      "V2          V        -7.29441     7.29442e-12    0\n",
      "V21         V        -7.29441     7.29441e-12    0\n",
      "V3          V        -6.39285     6.39287e-12    0\n",
      "V4          V        -2.29487     2.29487e-12    0\n",
      "V5          V        -1.5         1.5e-12        0\n",
      "I(V1)       A        -0.0362891   0              0\n",
      "I(V3D)      A        -0.00409798  0              0\n",
      "I(V2)       A         0.0321912   0              0\n"
     ]
    }
   ],
   "source": [
    "circuito_y_análisis = ahkab.netlist_parser.parse_circuit('resistencias en paralelo 2BRT.cir')\n",
    "circuito = circuito_y_análisis[0]       \n",
    "análisis_en_netlist = circuito_y_análisis[1]\n",
    "lista_de_análisis = ahkab.netlist_parser.parse_analysis(circuito, análisis_en_netlist)\n",
    "resultados = ahkab.run(circuito, lista_de_análisis)\n",
    "\n",
    "print(resultados['op'])\n"
   ]
  },
  {
   "source": [
    "Analizamos el segundo circuito hay que calcular los voltajes a partir de las intensidades que si que nos da el circuito, los calculos deberían ser con sympi y con todas las unidades\n",
    "\n"
   ],
   "cell_type": "markdown",
   "metadata": {}
  },
  {
   "source": [
    "v1 = 9 - (0.0362891 * 47)\n",
    "print (v1)\n",
    "v3 = v1 - (0.00409798 * 220)\n",
    "print ( v3)\n",
    "v4 =  v3 -(0.00409798 * 1000)\n",
    "print (v4)\n",
    "\n",
    "\n",
    "\n",
    "\n",
    "\n",
    "\n",
    "\n",
    "\n",
    "\n",
    "\n",
    "\n"
   ],
   "cell_type": "code",
   "metadata": {},
   "execution_count": 271,
   "outputs": [
    {
     "output_type": "stream",
     "name": "stdout",
     "text": [
      "7.2944123\n6.3928567\n2.2948766999999997\n"
     ]
    }
   ]
  },
  {
   "cell_type": "code",
   "execution_count": 272,
   "metadata": {},
   "outputs": [
    {
     "output_type": "stream",
     "name": "stdout",
     "text": [
      "Overwriting resistencias en paralelo 3BRT.cir\n"
     ]
    }
   ],
   "source": [
    "%%writefile \"resistencias en paralelo 3BRT.cir\"\n",
    "* resistencias en paralelo\n",
    "v0 0 1 type=vdc vdc=9\n",
    "v1 1 2 type=vdc vdc=0\n",
    "r1 2 0 10k\n",
    "v2 1 3 type=vdc vdc=0\n",
    "r2 3 0 2k\n",
    "v3 1 4 type=vdc vdc=0\n",
    "r2 4 0 1k\n",
    ".op\n",
    ".end"
   ]
  },
  {
   "cell_type": "code",
   "execution_count": 273,
   "metadata": {},
   "outputs": [
    {
     "output_type": "stream",
     "name": "stdout",
     "text": [
      "Starting op analysis:\n",
      "Calculating guess: skipped. (linear circuit)\n",
      "Solving...   done.\n",
      "Solving...   done.\n",
      "Difference check within margins.\n",
      "(Voltage: er=0.001, ea=1e-06, Current: er=0.001, ea=1e-09)\n",
      "OP simulation results for '* resistencias en paralelo'(netlist resistencias en paralelo 3BRT.cir).\n",
      "Run on 2020-12-31 16:37:39, data file None.\n",
      "Variable    Units      Value    Error    %\n",
      "----------  -------  -------  -------  ---\n",
      "V1          V        -9         9e-12    0\n",
      "V2          V        -9         9e-12    0\n",
      "V3          V        -9         9e-12    0\n",
      "V4          V        -9         9e-12    0\n",
      "I(V0)       A        -0.0144    0        0\n",
      "I(V1)       A        -0.0009    0        0\n",
      "I(V2)       A        -0.0045    0        0\n",
      "I(V3)       A        -0.009     0        0\n"
     ]
    }
   ],
   "source": [
    "circuito_y_análisis = ahkab.netlist_parser.parse_circuit('resistencias en paralelo 3BRT.cir')\n",
    "circuito = circuito_y_análisis[0]       \n",
    "análisis_en_netlist = circuito_y_análisis[1]\n",
    "lista_de_análisis = ahkab.netlist_parser.parse_analysis(circuito, análisis_en_netlist)\n",
    "resultados = ahkab.run(circuito, lista_de_análisis)\n",
    "print(resultados['op'])\n"
   ]
  },
  {
   "cell_type": "code",
   "execution_count": 275,
   "metadata": {},
   "outputs": [
    {
     "output_type": "stream",
     "name": "stdout",
     "text": [
      "0.0144\n"
     ]
    }
   ],
   "source": [
    "\n",
    "rtotal =  1 / (( 1 / (10000)) + ( 1/2000)+ ( 1/1000))\n",
    "intensidad = 9 / rtotal \n",
    "print (intensidad)\n"
   ]
  },
  {
   "source": [
    "### 2.3 CIRCUITOS EN CORRIENTE CONTINUA QUE EVOLUCIONAN CON EL TIEMPO\n",
    "\n"
   ],
   "cell_type": "markdown",
   "metadata": {}
  },
  {
   "cell_type": "code",
   "execution_count": 277,
   "metadata": {},
   "outputs": [
    {
     "output_type": "stream",
     "name": "stdout",
     "text": [
      "Writing condensador en continuaBRT.ckt\n"
     ]
    }
   ],
   "source": [
    "%%writefile \"condensador en continuaBRT.ckt\"\n",
    "* Carga condensador\n",
    "v1 0 1 type=vdc vdc=6\n",
    "r1 1 2 1k\n",
    "c1 2 0 1m ic=0\n",
    ".op\n",
    ".tran tstep=0.1 tstop=8 uic=0\n",
    ".end"
   ]
  },
  {
   "source": [
    "OJO QUE ESTE TEXTO ESTA COPIADO TAL CUAL\n",
    "\n",
    "EL comando .tran realiza un análisis en el tiempo de los parámetros del circuito. Si no se emplea la directiva uic (use initial conditions) o esta es igual a cero, este análisis se realiza desde el punto estable de funcionamiento del circuito hasta un tiempo tfinal. y en intervalos tstep. Si empleamos un varlor distinto para parámetro uic, entonces se hará uso de las condiciones iniciales definidas para cada componente (típicamente ic=X en el caso de los condensadores, que da cuenta de la carga incial que estos pudieran tener).\n",
    "\n",
    "ic = 0 es la carga inicial del condensador?\n",
    "\n"
   ],
   "cell_type": "markdown",
   "metadata": {}
  },
  {
   "cell_type": "code",
   "execution_count": 283,
   "metadata": {},
   "outputs": [],
   "source": [
    "circuito_y_análisis = ahkab.netlist_parser.parse_circuit(\"condensador en continuaBRT.ckt\")\n",
    "circuito = circuito_y_análisis[0]\n",
    "análisis_en_netlist = circuito_y_análisis[1]\n",
    "lista_de_análisis = ahkab.netlist_parser.parse_analysis(circuito, análisis_en_netlist)\n",
    "lista_de_análisis[1]['outfile'] = \"simulación tran.tsv\"\n",
    "\n"
   ]
  },
  {
   "cell_type": "code",
   "execution_count": 284,
   "metadata": {},
   "outputs": [
    {
     "output_type": "stream",
     "name": "stdout",
     "text": [
      "Starting op analysis:\n",
      "Calculating guess: skipped. (linear circuit)\n",
      "Solving...   done.\n",
      "Solving...   done.\n",
      "Difference check within margins.\n",
      "(Voltage: er=0.001, ea=1e-06, Current: er=0.001, ea=1e-09)\n",
      "Starting transient analysis: \n",
      "Selected method: TRAP\n",
      "Solving...  done.\n",
      "Average time step: 0.0869565\n",
      "OP simulation results for '* carga condensador'(netlist condensador en continuaBRT.ckt).\n",
      "Run on 2020-12-31 16:49:46, data file None.\n",
      "Variable    Units      Value    Error    %\n",
      "----------  -------  -------  -------  ---\n",
      "V1          V             -6    6e-12    0\n",
      "V2          V             -6    6e-12    0\n",
      "I(V1)       A              0    0        0\n",
      "['T', 'V1', 'V2', 'I(V1)']\n"
     ]
    }
   ],
   "source": [
    "resultados = ahkab.run(circuito, lista_de_análisis)\n",
    "print(resultados['op'])\n",
    "print(resultados['tran'].keys())\n"
   ]
  },
  {
   "cell_type": "code",
   "execution_count": 286,
   "metadata": {},
   "outputs": [
    {
     "output_type": "execute_result",
     "data": {
      "text/plain": [
       "[<matplotlib.lines.Line2D at 0x7fc1ca343ca0>]"
      ]
     },
     "metadata": {},
     "execution_count": 286
    },
    {
     "output_type": "display_data",
     "data": {
      "text/plain": "<Figure size 432x288 with 1 Axes>",
      "image/svg+xml": "<?xml version=\"1.0\" encoding=\"utf-8\" standalone=\"no\"?>\n<!DOCTYPE svg PUBLIC \"-//W3C//DTD SVG 1.1//EN\"\n  \"http://www.w3.org/Graphics/SVG/1.1/DTD/svg11.dtd\">\n<!-- Created with matplotlib (https://matplotlib.org/) -->\n<svg height=\"264.604062pt\" version=\"1.1\" viewBox=\"0 0 396.908594 264.604062\" width=\"396.908594pt\" xmlns=\"http://www.w3.org/2000/svg\" xmlns:xlink=\"http://www.w3.org/1999/xlink\">\n <metadata>\n  <rdf:RDF xmlns:cc=\"http://creativecommons.org/ns#\" xmlns:dc=\"http://purl.org/dc/elements/1.1/\" xmlns:rdf=\"http://www.w3.org/1999/02/22-rdf-syntax-ns#\">\n   <cc:Work>\n    <dc:type rdf:resource=\"http://purl.org/dc/dcmitype/StillImage\"/>\n    <dc:date>2020-12-31T17:50:58.546664</dc:date>\n    <dc:format>image/svg+xml</dc:format>\n    <dc:creator>\n     <cc:Agent>\n      <dc:title>Matplotlib v3.3.3, https://matplotlib.org/</dc:title>\n     </cc:Agent>\n    </dc:creator>\n   </cc:Work>\n  </rdf:RDF>\n </metadata>\n <defs>\n  <style type=\"text/css\">*{stroke-linecap:butt;stroke-linejoin:round;}</style>\n </defs>\n <g id=\"figure_1\">\n  <g id=\"patch_1\">\n   <path d=\"M -0 264.604062 \nL 396.908594 264.604062 \nL 396.908594 0 \nL -0 0 \nz\n\" style=\"fill:none;\"/>\n  </g>\n  <g id=\"axes_1\">\n   <g id=\"patch_2\">\n    <path d=\"M 54.908594 239.758125 \nL 389.708594 239.758125 \nL 389.708594 22.318125 \nL 54.908594 22.318125 \nz\n\" style=\"fill:#ffffff;\"/>\n   </g>\n   <g id=\"matplotlib.axis_1\">\n    <g id=\"xtick_1\">\n     <g id=\"line2d_1\">\n      <defs>\n       <path d=\"M 0 0 \nL 0 3.5 \n\" id=\"m132a3decb7\" style=\"stroke:#000000;stroke-width:0.8;\"/>\n      </defs>\n      <g>\n       <use style=\"stroke:#000000;stroke-width:0.8;\" x=\"70.096601\" xlink:href=\"#m132a3decb7\" y=\"239.758125\"/>\n      </g>\n     </g>\n     <g id=\"text_1\">\n      <!-- 0 -->\n      <g transform=\"translate(66.597226 255.116406)scale(0.11 -0.11)\">\n       <defs>\n        <path d=\"M 31.78125 66.40625 \nQ 24.171875 66.40625 20.328125 58.90625 \nQ 16.5 51.421875 16.5 36.375 \nQ 16.5 21.390625 20.328125 13.890625 \nQ 24.171875 6.390625 31.78125 6.390625 \nQ 39.453125 6.390625 43.28125 13.890625 \nQ 47.125 21.390625 47.125 36.375 \nQ 47.125 51.421875 43.28125 58.90625 \nQ 39.453125 66.40625 31.78125 66.40625 \nz\nM 31.78125 74.21875 \nQ 44.046875 74.21875 50.515625 64.515625 \nQ 56.984375 54.828125 56.984375 36.375 \nQ 56.984375 17.96875 50.515625 8.265625 \nQ 44.046875 -1.421875 31.78125 -1.421875 \nQ 19.53125 -1.421875 13.0625 8.265625 \nQ 6.59375 17.96875 6.59375 36.375 \nQ 6.59375 54.828125 13.0625 64.515625 \nQ 19.53125 74.21875 31.78125 74.21875 \nz\n\" id=\"DejaVuSans-48\"/>\n       </defs>\n       <use xlink:href=\"#DejaVuSans-48\"/>\n      </g>\n     </g>\n    </g>\n    <g id=\"xtick_2\">\n     <g id=\"line2d_2\">\n      <g>\n       <use style=\"stroke:#000000;stroke-width:0.8;\" x=\"107.810492\" xlink:href=\"#m132a3decb7\" y=\"239.758125\"/>\n      </g>\n     </g>\n     <g id=\"text_2\">\n      <!-- 1 -->\n      <g transform=\"translate(104.311117 255.116406)scale(0.11 -0.11)\">\n       <defs>\n        <path d=\"M 12.40625 8.296875 \nL 28.515625 8.296875 \nL 28.515625 63.921875 \nL 10.984375 60.40625 \nL 10.984375 69.390625 \nL 28.421875 72.90625 \nL 38.28125 72.90625 \nL 38.28125 8.296875 \nL 54.390625 8.296875 \nL 54.390625 0 \nL 12.40625 0 \nz\n\" id=\"DejaVuSans-49\"/>\n       </defs>\n       <use xlink:href=\"#DejaVuSans-49\"/>\n      </g>\n     </g>\n    </g>\n    <g id=\"xtick_3\">\n     <g id=\"line2d_3\">\n      <g>\n       <use style=\"stroke:#000000;stroke-width:0.8;\" x=\"145.524383\" xlink:href=\"#m132a3decb7\" y=\"239.758125\"/>\n      </g>\n     </g>\n     <g id=\"text_3\">\n      <!-- 2 -->\n      <g transform=\"translate(142.025008 255.116406)scale(0.11 -0.11)\">\n       <defs>\n        <path d=\"M 19.1875 8.296875 \nL 53.609375 8.296875 \nL 53.609375 0 \nL 7.328125 0 \nL 7.328125 8.296875 \nQ 12.9375 14.109375 22.625 23.890625 \nQ 32.328125 33.6875 34.8125 36.53125 \nQ 39.546875 41.84375 41.421875 45.53125 \nQ 43.3125 49.21875 43.3125 52.78125 \nQ 43.3125 58.59375 39.234375 62.25 \nQ 35.15625 65.921875 28.609375 65.921875 \nQ 23.96875 65.921875 18.8125 64.3125 \nQ 13.671875 62.703125 7.8125 59.421875 \nL 7.8125 69.390625 \nQ 13.765625 71.78125 18.9375 73 \nQ 24.125 74.21875 28.421875 74.21875 \nQ 39.75 74.21875 46.484375 68.546875 \nQ 53.21875 62.890625 53.21875 53.421875 \nQ 53.21875 48.921875 51.53125 44.890625 \nQ 49.859375 40.875 45.40625 35.40625 \nQ 44.1875 33.984375 37.640625 27.21875 \nQ 31.109375 20.453125 19.1875 8.296875 \nz\n\" id=\"DejaVuSans-50\"/>\n       </defs>\n       <use xlink:href=\"#DejaVuSans-50\"/>\n      </g>\n     </g>\n    </g>\n    <g id=\"xtick_4\">\n     <g id=\"line2d_4\">\n      <g>\n       <use style=\"stroke:#000000;stroke-width:0.8;\" x=\"183.238273\" xlink:href=\"#m132a3decb7\" y=\"239.758125\"/>\n      </g>\n     </g>\n     <g id=\"text_4\">\n      <!-- 3 -->\n      <g transform=\"translate(179.738898 255.116406)scale(0.11 -0.11)\">\n       <defs>\n        <path d=\"M 40.578125 39.3125 \nQ 47.65625 37.796875 51.625 33 \nQ 55.609375 28.21875 55.609375 21.1875 \nQ 55.609375 10.40625 48.1875 4.484375 \nQ 40.765625 -1.421875 27.09375 -1.421875 \nQ 22.515625 -1.421875 17.65625 -0.515625 \nQ 12.796875 0.390625 7.625 2.203125 \nL 7.625 11.71875 \nQ 11.71875 9.328125 16.59375 8.109375 \nQ 21.484375 6.890625 26.8125 6.890625 \nQ 36.078125 6.890625 40.9375 10.546875 \nQ 45.796875 14.203125 45.796875 21.1875 \nQ 45.796875 27.640625 41.28125 31.265625 \nQ 36.765625 34.90625 28.71875 34.90625 \nL 20.21875 34.90625 \nL 20.21875 43.015625 \nL 29.109375 43.015625 \nQ 36.375 43.015625 40.234375 45.921875 \nQ 44.09375 48.828125 44.09375 54.296875 \nQ 44.09375 59.90625 40.109375 62.90625 \nQ 36.140625 65.921875 28.71875 65.921875 \nQ 24.65625 65.921875 20.015625 65.03125 \nQ 15.375 64.15625 9.8125 62.3125 \nL 9.8125 71.09375 \nQ 15.4375 72.65625 20.34375 73.4375 \nQ 25.25 74.21875 29.59375 74.21875 \nQ 40.828125 74.21875 47.359375 69.109375 \nQ 53.90625 64.015625 53.90625 55.328125 \nQ 53.90625 49.265625 50.4375 45.09375 \nQ 46.96875 40.921875 40.578125 39.3125 \nz\n\" id=\"DejaVuSans-51\"/>\n       </defs>\n       <use xlink:href=\"#DejaVuSans-51\"/>\n      </g>\n     </g>\n    </g>\n    <g id=\"xtick_5\">\n     <g id=\"line2d_5\">\n      <g>\n       <use style=\"stroke:#000000;stroke-width:0.8;\" x=\"220.952164\" xlink:href=\"#m132a3decb7\" y=\"239.758125\"/>\n      </g>\n     </g>\n     <g id=\"text_5\">\n      <!-- 4 -->\n      <g transform=\"translate(217.452789 255.116406)scale(0.11 -0.11)\">\n       <defs>\n        <path d=\"M 37.796875 64.3125 \nL 12.890625 25.390625 \nL 37.796875 25.390625 \nz\nM 35.203125 72.90625 \nL 47.609375 72.90625 \nL 47.609375 25.390625 \nL 58.015625 25.390625 \nL 58.015625 17.1875 \nL 47.609375 17.1875 \nL 47.609375 0 \nL 37.796875 0 \nL 37.796875 17.1875 \nL 4.890625 17.1875 \nL 4.890625 26.703125 \nz\n\" id=\"DejaVuSans-52\"/>\n       </defs>\n       <use xlink:href=\"#DejaVuSans-52\"/>\n      </g>\n     </g>\n    </g>\n    <g id=\"xtick_6\">\n     <g id=\"line2d_6\">\n      <g>\n       <use style=\"stroke:#000000;stroke-width:0.8;\" x=\"258.666054\" xlink:href=\"#m132a3decb7\" y=\"239.758125\"/>\n      </g>\n     </g>\n     <g id=\"text_6\">\n      <!-- 5 -->\n      <g transform=\"translate(255.166679 255.116406)scale(0.11 -0.11)\">\n       <defs>\n        <path d=\"M 10.796875 72.90625 \nL 49.515625 72.90625 \nL 49.515625 64.59375 \nL 19.828125 64.59375 \nL 19.828125 46.734375 \nQ 21.96875 47.46875 24.109375 47.828125 \nQ 26.265625 48.1875 28.421875 48.1875 \nQ 40.625 48.1875 47.75 41.5 \nQ 54.890625 34.8125 54.890625 23.390625 \nQ 54.890625 11.625 47.5625 5.09375 \nQ 40.234375 -1.421875 26.90625 -1.421875 \nQ 22.3125 -1.421875 17.546875 -0.640625 \nQ 12.796875 0.140625 7.71875 1.703125 \nL 7.71875 11.625 \nQ 12.109375 9.234375 16.796875 8.0625 \nQ 21.484375 6.890625 26.703125 6.890625 \nQ 35.15625 6.890625 40.078125 11.328125 \nQ 45.015625 15.765625 45.015625 23.390625 \nQ 45.015625 31 40.078125 35.4375 \nQ 35.15625 39.890625 26.703125 39.890625 \nQ 22.75 39.890625 18.8125 39.015625 \nQ 14.890625 38.140625 10.796875 36.28125 \nz\n\" id=\"DejaVuSans-53\"/>\n       </defs>\n       <use xlink:href=\"#DejaVuSans-53\"/>\n      </g>\n     </g>\n    </g>\n    <g id=\"xtick_7\">\n     <g id=\"line2d_7\">\n      <g>\n       <use style=\"stroke:#000000;stroke-width:0.8;\" x=\"296.379945\" xlink:href=\"#m132a3decb7\" y=\"239.758125\"/>\n      </g>\n     </g>\n     <g id=\"text_7\">\n      <!-- 6 -->\n      <g transform=\"translate(292.88057 255.116406)scale(0.11 -0.11)\">\n       <defs>\n        <path d=\"M 33.015625 40.375 \nQ 26.375 40.375 22.484375 35.828125 \nQ 18.609375 31.296875 18.609375 23.390625 \nQ 18.609375 15.53125 22.484375 10.953125 \nQ 26.375 6.390625 33.015625 6.390625 \nQ 39.65625 6.390625 43.53125 10.953125 \nQ 47.40625 15.53125 47.40625 23.390625 \nQ 47.40625 31.296875 43.53125 35.828125 \nQ 39.65625 40.375 33.015625 40.375 \nz\nM 52.59375 71.296875 \nL 52.59375 62.3125 \nQ 48.875 64.0625 45.09375 64.984375 \nQ 41.3125 65.921875 37.59375 65.921875 \nQ 27.828125 65.921875 22.671875 59.328125 \nQ 17.53125 52.734375 16.796875 39.40625 \nQ 19.671875 43.65625 24.015625 45.921875 \nQ 28.375 48.1875 33.59375 48.1875 \nQ 44.578125 48.1875 50.953125 41.515625 \nQ 57.328125 34.859375 57.328125 23.390625 \nQ 57.328125 12.15625 50.6875 5.359375 \nQ 44.046875 -1.421875 33.015625 -1.421875 \nQ 20.359375 -1.421875 13.671875 8.265625 \nQ 6.984375 17.96875 6.984375 36.375 \nQ 6.984375 53.65625 15.1875 63.9375 \nQ 23.390625 74.21875 37.203125 74.21875 \nQ 40.921875 74.21875 44.703125 73.484375 \nQ 48.484375 72.75 52.59375 71.296875 \nz\n\" id=\"DejaVuSans-54\"/>\n       </defs>\n       <use xlink:href=\"#DejaVuSans-54\"/>\n      </g>\n     </g>\n    </g>\n    <g id=\"xtick_8\">\n     <g id=\"line2d_8\">\n      <g>\n       <use style=\"stroke:#000000;stroke-width:0.8;\" x=\"334.093835\" xlink:href=\"#m132a3decb7\" y=\"239.758125\"/>\n      </g>\n     </g>\n     <g id=\"text_8\">\n      <!-- 7 -->\n      <g transform=\"translate(330.59446 255.116406)scale(0.11 -0.11)\">\n       <defs>\n        <path d=\"M 8.203125 72.90625 \nL 55.078125 72.90625 \nL 55.078125 68.703125 \nL 28.609375 0 \nL 18.3125 0 \nL 43.21875 64.59375 \nL 8.203125 64.59375 \nz\n\" id=\"DejaVuSans-55\"/>\n       </defs>\n       <use xlink:href=\"#DejaVuSans-55\"/>\n      </g>\n     </g>\n    </g>\n    <g id=\"xtick_9\">\n     <g id=\"line2d_9\">\n      <g>\n       <use style=\"stroke:#000000;stroke-width:0.8;\" x=\"371.807726\" xlink:href=\"#m132a3decb7\" y=\"239.758125\"/>\n      </g>\n     </g>\n     <g id=\"text_9\">\n      <!-- 8 -->\n      <g transform=\"translate(368.308351 255.116406)scale(0.11 -0.11)\">\n       <defs>\n        <path d=\"M 31.78125 34.625 \nQ 24.75 34.625 20.71875 30.859375 \nQ 16.703125 27.09375 16.703125 20.515625 \nQ 16.703125 13.921875 20.71875 10.15625 \nQ 24.75 6.390625 31.78125 6.390625 \nQ 38.8125 6.390625 42.859375 10.171875 \nQ 46.921875 13.96875 46.921875 20.515625 \nQ 46.921875 27.09375 42.890625 30.859375 \nQ 38.875 34.625 31.78125 34.625 \nz\nM 21.921875 38.8125 \nQ 15.578125 40.375 12.03125 44.71875 \nQ 8.5 49.078125 8.5 55.328125 \nQ 8.5 64.0625 14.71875 69.140625 \nQ 20.953125 74.21875 31.78125 74.21875 \nQ 42.671875 74.21875 48.875 69.140625 \nQ 55.078125 64.0625 55.078125 55.328125 \nQ 55.078125 49.078125 51.53125 44.71875 \nQ 48 40.375 41.703125 38.8125 \nQ 48.828125 37.15625 52.796875 32.3125 \nQ 56.78125 27.484375 56.78125 20.515625 \nQ 56.78125 9.90625 50.3125 4.234375 \nQ 43.84375 -1.421875 31.78125 -1.421875 \nQ 19.734375 -1.421875 13.25 4.234375 \nQ 6.78125 9.90625 6.78125 20.515625 \nQ 6.78125 27.484375 10.78125 32.3125 \nQ 14.796875 37.15625 21.921875 38.8125 \nz\nM 18.3125 54.390625 \nQ 18.3125 48.734375 21.84375 45.5625 \nQ 25.390625 42.390625 31.78125 42.390625 \nQ 38.140625 42.390625 41.71875 45.5625 \nQ 45.3125 48.734375 45.3125 54.390625 \nQ 45.3125 60.0625 41.71875 63.234375 \nQ 38.140625 66.40625 31.78125 66.40625 \nQ 25.390625 66.40625 21.84375 63.234375 \nQ 18.3125 60.0625 18.3125 54.390625 \nz\n\" id=\"DejaVuSans-56\"/>\n       </defs>\n       <use xlink:href=\"#DejaVuSans-56\"/>\n      </g>\n     </g>\n    </g>\n   </g>\n   <g id=\"matplotlib.axis_2\">\n    <g id=\"ytick_1\">\n     <g id=\"line2d_10\">\n      <defs>\n       <path d=\"M 0 0 \nL -3.5 0 \n\" id=\"mebbd10563e\" style=\"stroke:#000000;stroke-width:0.8;\"/>\n      </defs>\n      <g>\n       <use style=\"stroke:#000000;stroke-width:0.8;\" x=\"54.908594\" xlink:href=\"#mebbd10563e\" y=\"230.032692\"/>\n      </g>\n     </g>\n     <g id=\"text_10\">\n      <!-- −0.006 -->\n      <g transform=\"translate(7.2 234.211832)scale(0.11 -0.11)\">\n       <defs>\n        <path d=\"M 10.59375 35.5 \nL 73.1875 35.5 \nL 73.1875 27.203125 \nL 10.59375 27.203125 \nz\n\" id=\"DejaVuSans-8722\"/>\n        <path d=\"M 10.6875 12.40625 \nL 21 12.40625 \nL 21 0 \nL 10.6875 0 \nz\n\" id=\"DejaVuSans-46\"/>\n       </defs>\n       <use xlink:href=\"#DejaVuSans-8722\"/>\n       <use x=\"83.789062\" xlink:href=\"#DejaVuSans-48\"/>\n       <use x=\"147.412109\" xlink:href=\"#DejaVuSans-46\"/>\n       <use x=\"179.199219\" xlink:href=\"#DejaVuSans-48\"/>\n       <use x=\"242.822266\" xlink:href=\"#DejaVuSans-48\"/>\n       <use x=\"306.445312\" xlink:href=\"#DejaVuSans-54\"/>\n      </g>\n     </g>\n    </g>\n    <g id=\"ytick_2\">\n     <g id=\"line2d_11\">\n      <g>\n       <use style=\"stroke:#000000;stroke-width:0.8;\" x=\"54.908594\" xlink:href=\"#mebbd10563e\" y=\"197.050634\"/>\n      </g>\n     </g>\n     <g id=\"text_11\">\n      <!-- −0.005 -->\n      <g transform=\"translate(7.2 201.229774)scale(0.11 -0.11)\">\n       <use xlink:href=\"#DejaVuSans-8722\"/>\n       <use x=\"83.789062\" xlink:href=\"#DejaVuSans-48\"/>\n       <use x=\"147.412109\" xlink:href=\"#DejaVuSans-46\"/>\n       <use x=\"179.199219\" xlink:href=\"#DejaVuSans-48\"/>\n       <use x=\"242.822266\" xlink:href=\"#DejaVuSans-48\"/>\n       <use x=\"306.445312\" xlink:href=\"#DejaVuSans-53\"/>\n      </g>\n     </g>\n    </g>\n    <g id=\"ytick_3\">\n     <g id=\"line2d_12\">\n      <g>\n       <use style=\"stroke:#000000;stroke-width:0.8;\" x=\"54.908594\" xlink:href=\"#mebbd10563e\" y=\"164.068576\"/>\n      </g>\n     </g>\n     <g id=\"text_12\">\n      <!-- −0.004 -->\n      <g transform=\"translate(7.2 168.247716)scale(0.11 -0.11)\">\n       <use xlink:href=\"#DejaVuSans-8722\"/>\n       <use x=\"83.789062\" xlink:href=\"#DejaVuSans-48\"/>\n       <use x=\"147.412109\" xlink:href=\"#DejaVuSans-46\"/>\n       <use x=\"179.199219\" xlink:href=\"#DejaVuSans-48\"/>\n       <use x=\"242.822266\" xlink:href=\"#DejaVuSans-48\"/>\n       <use x=\"306.445312\" xlink:href=\"#DejaVuSans-52\"/>\n      </g>\n     </g>\n    </g>\n    <g id=\"ytick_4\">\n     <g id=\"line2d_13\">\n      <g>\n       <use style=\"stroke:#000000;stroke-width:0.8;\" x=\"54.908594\" xlink:href=\"#mebbd10563e\" y=\"131.086518\"/>\n      </g>\n     </g>\n     <g id=\"text_13\">\n      <!-- −0.003 -->\n      <g transform=\"translate(7.2 135.265658)scale(0.11 -0.11)\">\n       <use xlink:href=\"#DejaVuSans-8722\"/>\n       <use x=\"83.789062\" xlink:href=\"#DejaVuSans-48\"/>\n       <use x=\"147.412109\" xlink:href=\"#DejaVuSans-46\"/>\n       <use x=\"179.199219\" xlink:href=\"#DejaVuSans-48\"/>\n       <use x=\"242.822266\" xlink:href=\"#DejaVuSans-48\"/>\n       <use x=\"306.445312\" xlink:href=\"#DejaVuSans-51\"/>\n      </g>\n     </g>\n    </g>\n    <g id=\"ytick_5\">\n     <g id=\"line2d_14\">\n      <g>\n       <use style=\"stroke:#000000;stroke-width:0.8;\" x=\"54.908594\" xlink:href=\"#mebbd10563e\" y=\"98.104459\"/>\n      </g>\n     </g>\n     <g id=\"text_14\">\n      <!-- −0.002 -->\n      <g transform=\"translate(7.2 102.2836)scale(0.11 -0.11)\">\n       <use xlink:href=\"#DejaVuSans-8722\"/>\n       <use x=\"83.789062\" xlink:href=\"#DejaVuSans-48\"/>\n       <use x=\"147.412109\" xlink:href=\"#DejaVuSans-46\"/>\n       <use x=\"179.199219\" xlink:href=\"#DejaVuSans-48\"/>\n       <use x=\"242.822266\" xlink:href=\"#DejaVuSans-48\"/>\n       <use x=\"306.445312\" xlink:href=\"#DejaVuSans-50\"/>\n      </g>\n     </g>\n    </g>\n    <g id=\"ytick_6\">\n     <g id=\"line2d_15\">\n      <g>\n       <use style=\"stroke:#000000;stroke-width:0.8;\" x=\"54.908594\" xlink:href=\"#mebbd10563e\" y=\"65.122401\"/>\n      </g>\n     </g>\n     <g id=\"text_15\">\n      <!-- −0.001 -->\n      <g transform=\"translate(7.2 69.301542)scale(0.11 -0.11)\">\n       <use xlink:href=\"#DejaVuSans-8722\"/>\n       <use x=\"83.789062\" xlink:href=\"#DejaVuSans-48\"/>\n       <use x=\"147.412109\" xlink:href=\"#DejaVuSans-46\"/>\n       <use x=\"179.199219\" xlink:href=\"#DejaVuSans-48\"/>\n       <use x=\"242.822266\" xlink:href=\"#DejaVuSans-48\"/>\n       <use x=\"306.445312\" xlink:href=\"#DejaVuSans-49\"/>\n      </g>\n     </g>\n    </g>\n    <g id=\"ytick_7\">\n     <g id=\"line2d_16\">\n      <g>\n       <use style=\"stroke:#000000;stroke-width:0.8;\" x=\"54.908594\" xlink:href=\"#mebbd10563e\" y=\"32.140343\"/>\n      </g>\n     </g>\n     <g id=\"text_16\">\n      <!-- 0.000 -->\n      <g transform=\"translate(16.417656 36.319484)scale(0.11 -0.11)\">\n       <use xlink:href=\"#DejaVuSans-48\"/>\n       <use x=\"63.623047\" xlink:href=\"#DejaVuSans-46\"/>\n       <use x=\"95.410156\" xlink:href=\"#DejaVuSans-48\"/>\n       <use x=\"159.033203\" xlink:href=\"#DejaVuSans-48\"/>\n       <use x=\"222.65625\" xlink:href=\"#DejaVuSans-48\"/>\n      </g>\n     </g>\n    </g>\n   </g>\n   <g id=\"line2d_17\">\n    <path clip-path=\"url(#pd9e3ca303a)\" d=\"M 70.126776 229.874489 \nL 70.15695 229.716349 \nL 70.163234 229.683432 \nL 70.169488 229.650673 \nL 70.181997 229.585172 \nL 70.207016 229.454236 \nL 70.257053 229.192623 \nL 70.357126 228.670438 \nL 70.557274 227.630214 \nL 70.957569 225.566239 \nL 71.758159 221.503321 \nL 73.359339 213.630848 \nL 76.550677 198.896582 \nL 80.322066 183.015035 \nL 84.093455 168.646017 \nL 87.864844 155.645477 \nL 91.636233 143.883083 \nL 95.407622 133.240917 \nL 99.179011 123.612291 \nL 102.9504 114.900677 \nL 106.721789 107.018741 \nL 110.493178 99.887465 \nL 114.264567 93.435358 \nL 118.035956 87.597738 \nL 121.807345 82.316081 \nL 125.578734 77.537439 \nL 129.350123 73.213907 \nL 133.121512 69.302139 \nL 136.892902 65.76292 \nL 140.664291 62.56077 \nL 144.43568 59.663587 \nL 148.207069 57.042325 \nL 151.978458 54.670708 \nL 155.749847 52.524959 \nL 159.521236 50.583567 \nL 163.292625 48.82707 \nL 167.064014 47.237858 \nL 170.835403 45.799999 \nL 174.606792 44.49908 \nL 178.378181 43.322057 \nL 182.14957 42.257132 \nL 185.920959 41.293628 \nL 189.692348 40.421887 \nL 193.463737 39.633169 \nL 197.235126 38.919566 \nL 201.006515 38.273926 \nL 204.777905 37.689775 \nL 208.549294 37.161258 \nL 212.320683 36.683076 \nL 216.092072 36.250435 \nL 219.863461 35.858997 \nL 223.63485 35.50484 \nL 227.406239 35.184412 \nL 231.177628 34.894501 \nL 234.949017 34.6322 \nL 238.720406 34.39488 \nL 242.491795 34.180163 \nL 246.263184 33.985894 \nL 250.034573 33.810127 \nL 253.805962 33.6511 \nL 257.577351 33.507219 \nL 261.34874 33.37704 \nL 265.120129 33.25926 \nL 268.891518 33.152696 \nL 272.662907 33.056282 \nL 276.434297 32.96905 \nL 280.205686 32.890125 \nL 283.977075 32.818717 \nL 287.748464 32.75411 \nL 291.519853 32.695656 \nL 295.291242 32.64277 \nL 299.062631 32.594919 \nL 302.83402 32.551627 \nL 306.605409 32.512457 \nL 310.376798 32.477017 \nL 314.148187 32.444953 \nL 317.919576 32.415943 \nL 321.690965 32.389695 \nL 325.462354 32.365948 \nL 329.233743 32.344462 \nL 333.005132 32.325022 \nL 336.776521 32.307433 \nL 340.54791 32.29152 \nL 344.3193 32.277122 \nL 348.090689 32.264096 \nL 351.862078 32.25231 \nL 355.633467 32.241646 \nL 359.404856 32.231999 \nL 363.176245 32.22327 \nL 366.947634 32.215372 \nL 370.719023 32.208226 \nL 374.490412 32.201761 \n\" style=\"fill:none;stroke:#1f77b4;stroke-linecap:square;stroke-width:1.5;\"/>\n   </g>\n   <g id=\"patch_3\">\n    <path d=\"M 54.908594 239.758125 \nL 54.908594 22.318125 \n\" style=\"fill:none;stroke:#000000;stroke-linecap:square;stroke-linejoin:miter;stroke-width:0.8;\"/>\n   </g>\n   <g id=\"patch_4\">\n    <path d=\"M 389.708594 239.758125 \nL 389.708594 22.318125 \n\" style=\"fill:none;stroke:#000000;stroke-linecap:square;stroke-linejoin:miter;stroke-width:0.8;\"/>\n   </g>\n   <g id=\"patch_5\">\n    <path d=\"M 54.908594 239.758125 \nL 389.708594 239.758125 \n\" style=\"fill:none;stroke:#000000;stroke-linecap:square;stroke-linejoin:miter;stroke-width:0.8;\"/>\n   </g>\n   <g id=\"patch_6\">\n    <path d=\"M 54.908594 22.318125 \nL 389.708594 22.318125 \n\" style=\"fill:none;stroke:#000000;stroke-linecap:square;stroke-linejoin:miter;stroke-width:0.8;\"/>\n   </g>\n   <g id=\"text_17\">\n    <!-- Carga de un condensador -->\n    <g transform=\"translate(144.942344 16.318125)scale(0.12 -0.12)\">\n     <defs>\n      <path d=\"M 64.40625 67.28125 \nL 64.40625 56.890625 \nQ 59.421875 61.53125 53.78125 63.8125 \nQ 48.140625 66.109375 41.796875 66.109375 \nQ 29.296875 66.109375 22.65625 58.46875 \nQ 16.015625 50.828125 16.015625 36.375 \nQ 16.015625 21.96875 22.65625 14.328125 \nQ 29.296875 6.6875 41.796875 6.6875 \nQ 48.140625 6.6875 53.78125 8.984375 \nQ 59.421875 11.28125 64.40625 15.921875 \nL 64.40625 5.609375 \nQ 59.234375 2.09375 53.4375 0.328125 \nQ 47.65625 -1.421875 41.21875 -1.421875 \nQ 24.65625 -1.421875 15.125 8.703125 \nQ 5.609375 18.84375 5.609375 36.375 \nQ 5.609375 53.953125 15.125 64.078125 \nQ 24.65625 74.21875 41.21875 74.21875 \nQ 47.75 74.21875 53.53125 72.484375 \nQ 59.328125 70.75 64.40625 67.28125 \nz\n\" id=\"DejaVuSans-67\"/>\n      <path d=\"M 34.28125 27.484375 \nQ 23.390625 27.484375 19.1875 25 \nQ 14.984375 22.515625 14.984375 16.5 \nQ 14.984375 11.71875 18.140625 8.90625 \nQ 21.296875 6.109375 26.703125 6.109375 \nQ 34.1875 6.109375 38.703125 11.40625 \nQ 43.21875 16.703125 43.21875 25.484375 \nL 43.21875 27.484375 \nz\nM 52.203125 31.203125 \nL 52.203125 0 \nL 43.21875 0 \nL 43.21875 8.296875 \nQ 40.140625 3.328125 35.546875 0.953125 \nQ 30.953125 -1.421875 24.3125 -1.421875 \nQ 15.921875 -1.421875 10.953125 3.296875 \nQ 6 8.015625 6 15.921875 \nQ 6 25.140625 12.171875 29.828125 \nQ 18.359375 34.515625 30.609375 34.515625 \nL 43.21875 34.515625 \nL 43.21875 35.40625 \nQ 43.21875 41.609375 39.140625 45 \nQ 35.0625 48.390625 27.6875 48.390625 \nQ 23 48.390625 18.546875 47.265625 \nQ 14.109375 46.140625 10.015625 43.890625 \nL 10.015625 52.203125 \nQ 14.9375 54.109375 19.578125 55.046875 \nQ 24.21875 56 28.609375 56 \nQ 40.484375 56 46.34375 49.84375 \nQ 52.203125 43.703125 52.203125 31.203125 \nz\n\" id=\"DejaVuSans-97\"/>\n      <path d=\"M 41.109375 46.296875 \nQ 39.59375 47.171875 37.8125 47.578125 \nQ 36.03125 48 33.890625 48 \nQ 26.265625 48 22.1875 43.046875 \nQ 18.109375 38.09375 18.109375 28.8125 \nL 18.109375 0 \nL 9.078125 0 \nL 9.078125 54.6875 \nL 18.109375 54.6875 \nL 18.109375 46.1875 \nQ 20.953125 51.171875 25.484375 53.578125 \nQ 30.03125 56 36.53125 56 \nQ 37.453125 56 38.578125 55.875 \nQ 39.703125 55.765625 41.0625 55.515625 \nz\n\" id=\"DejaVuSans-114\"/>\n      <path d=\"M 45.40625 27.984375 \nQ 45.40625 37.75 41.375 43.109375 \nQ 37.359375 48.484375 30.078125 48.484375 \nQ 22.859375 48.484375 18.828125 43.109375 \nQ 14.796875 37.75 14.796875 27.984375 \nQ 14.796875 18.265625 18.828125 12.890625 \nQ 22.859375 7.515625 30.078125 7.515625 \nQ 37.359375 7.515625 41.375 12.890625 \nQ 45.40625 18.265625 45.40625 27.984375 \nz\nM 54.390625 6.78125 \nQ 54.390625 -7.171875 48.1875 -13.984375 \nQ 42 -20.796875 29.203125 -20.796875 \nQ 24.46875 -20.796875 20.265625 -20.09375 \nQ 16.0625 -19.390625 12.109375 -17.921875 \nL 12.109375 -9.1875 \nQ 16.0625 -11.328125 19.921875 -12.34375 \nQ 23.78125 -13.375 27.78125 -13.375 \nQ 36.625 -13.375 41.015625 -8.765625 \nQ 45.40625 -4.15625 45.40625 5.171875 \nL 45.40625 9.625 \nQ 42.625 4.78125 38.28125 2.390625 \nQ 33.9375 0 27.875 0 \nQ 17.828125 0 11.671875 7.65625 \nQ 5.515625 15.328125 5.515625 27.984375 \nQ 5.515625 40.671875 11.671875 48.328125 \nQ 17.828125 56 27.875 56 \nQ 33.9375 56 38.28125 53.609375 \nQ 42.625 51.21875 45.40625 46.390625 \nL 45.40625 54.6875 \nL 54.390625 54.6875 \nz\n\" id=\"DejaVuSans-103\"/>\n      <path id=\"DejaVuSans-32\"/>\n      <path d=\"M 45.40625 46.390625 \nL 45.40625 75.984375 \nL 54.390625 75.984375 \nL 54.390625 0 \nL 45.40625 0 \nL 45.40625 8.203125 \nQ 42.578125 3.328125 38.25 0.953125 \nQ 33.9375 -1.421875 27.875 -1.421875 \nQ 17.96875 -1.421875 11.734375 6.484375 \nQ 5.515625 14.40625 5.515625 27.296875 \nQ 5.515625 40.1875 11.734375 48.09375 \nQ 17.96875 56 27.875 56 \nQ 33.9375 56 38.25 53.625 \nQ 42.578125 51.265625 45.40625 46.390625 \nz\nM 14.796875 27.296875 \nQ 14.796875 17.390625 18.875 11.75 \nQ 22.953125 6.109375 30.078125 6.109375 \nQ 37.203125 6.109375 41.296875 11.75 \nQ 45.40625 17.390625 45.40625 27.296875 \nQ 45.40625 37.203125 41.296875 42.84375 \nQ 37.203125 48.484375 30.078125 48.484375 \nQ 22.953125 48.484375 18.875 42.84375 \nQ 14.796875 37.203125 14.796875 27.296875 \nz\n\" id=\"DejaVuSans-100\"/>\n      <path d=\"M 56.203125 29.59375 \nL 56.203125 25.203125 \nL 14.890625 25.203125 \nQ 15.484375 15.921875 20.484375 11.0625 \nQ 25.484375 6.203125 34.421875 6.203125 \nQ 39.59375 6.203125 44.453125 7.46875 \nQ 49.3125 8.734375 54.109375 11.28125 \nL 54.109375 2.78125 \nQ 49.265625 0.734375 44.1875 -0.34375 \nQ 39.109375 -1.421875 33.890625 -1.421875 \nQ 20.796875 -1.421875 13.15625 6.1875 \nQ 5.515625 13.8125 5.515625 26.8125 \nQ 5.515625 40.234375 12.765625 48.109375 \nQ 20.015625 56 32.328125 56 \nQ 43.359375 56 49.78125 48.890625 \nQ 56.203125 41.796875 56.203125 29.59375 \nz\nM 47.21875 32.234375 \nQ 47.125 39.59375 43.09375 43.984375 \nQ 39.0625 48.390625 32.421875 48.390625 \nQ 24.90625 48.390625 20.390625 44.140625 \nQ 15.875 39.890625 15.1875 32.171875 \nz\n\" id=\"DejaVuSans-101\"/>\n      <path d=\"M 8.5 21.578125 \nL 8.5 54.6875 \nL 17.484375 54.6875 \nL 17.484375 21.921875 \nQ 17.484375 14.15625 20.5 10.265625 \nQ 23.53125 6.390625 29.59375 6.390625 \nQ 36.859375 6.390625 41.078125 11.03125 \nQ 45.3125 15.671875 45.3125 23.6875 \nL 45.3125 54.6875 \nL 54.296875 54.6875 \nL 54.296875 0 \nL 45.3125 0 \nL 45.3125 8.40625 \nQ 42.046875 3.421875 37.71875 1 \nQ 33.40625 -1.421875 27.6875 -1.421875 \nQ 18.265625 -1.421875 13.375 4.4375 \nQ 8.5 10.296875 8.5 21.578125 \nz\nM 31.109375 56 \nz\n\" id=\"DejaVuSans-117\"/>\n      <path d=\"M 54.890625 33.015625 \nL 54.890625 0 \nL 45.90625 0 \nL 45.90625 32.71875 \nQ 45.90625 40.484375 42.875 44.328125 \nQ 39.84375 48.1875 33.796875 48.1875 \nQ 26.515625 48.1875 22.3125 43.546875 \nQ 18.109375 38.921875 18.109375 30.90625 \nL 18.109375 0 \nL 9.078125 0 \nL 9.078125 54.6875 \nL 18.109375 54.6875 \nL 18.109375 46.1875 \nQ 21.34375 51.125 25.703125 53.5625 \nQ 30.078125 56 35.796875 56 \nQ 45.21875 56 50.046875 50.171875 \nQ 54.890625 44.34375 54.890625 33.015625 \nz\n\" id=\"DejaVuSans-110\"/>\n      <path d=\"M 48.78125 52.59375 \nL 48.78125 44.1875 \nQ 44.96875 46.296875 41.140625 47.34375 \nQ 37.3125 48.390625 33.40625 48.390625 \nQ 24.65625 48.390625 19.8125 42.84375 \nQ 14.984375 37.3125 14.984375 27.296875 \nQ 14.984375 17.28125 19.8125 11.734375 \nQ 24.65625 6.203125 33.40625 6.203125 \nQ 37.3125 6.203125 41.140625 7.25 \nQ 44.96875 8.296875 48.78125 10.40625 \nL 48.78125 2.09375 \nQ 45.015625 0.34375 40.984375 -0.53125 \nQ 36.96875 -1.421875 32.421875 -1.421875 \nQ 20.0625 -1.421875 12.78125 6.34375 \nQ 5.515625 14.109375 5.515625 27.296875 \nQ 5.515625 40.671875 12.859375 48.328125 \nQ 20.21875 56 33.015625 56 \nQ 37.15625 56 41.109375 55.140625 \nQ 45.0625 54.296875 48.78125 52.59375 \nz\n\" id=\"DejaVuSans-99\"/>\n      <path d=\"M 30.609375 48.390625 \nQ 23.390625 48.390625 19.1875 42.75 \nQ 14.984375 37.109375 14.984375 27.296875 \nQ 14.984375 17.484375 19.15625 11.84375 \nQ 23.34375 6.203125 30.609375 6.203125 \nQ 37.796875 6.203125 41.984375 11.859375 \nQ 46.1875 17.53125 46.1875 27.296875 \nQ 46.1875 37.015625 41.984375 42.703125 \nQ 37.796875 48.390625 30.609375 48.390625 \nz\nM 30.609375 56 \nQ 42.328125 56 49.015625 48.375 \nQ 55.71875 40.765625 55.71875 27.296875 \nQ 55.71875 13.875 49.015625 6.21875 \nQ 42.328125 -1.421875 30.609375 -1.421875 \nQ 18.84375 -1.421875 12.171875 6.21875 \nQ 5.515625 13.875 5.515625 27.296875 \nQ 5.515625 40.765625 12.171875 48.375 \nQ 18.84375 56 30.609375 56 \nz\n\" id=\"DejaVuSans-111\"/>\n      <path d=\"M 44.28125 53.078125 \nL 44.28125 44.578125 \nQ 40.484375 46.53125 36.375 47.5 \nQ 32.28125 48.484375 27.875 48.484375 \nQ 21.1875 48.484375 17.84375 46.4375 \nQ 14.5 44.390625 14.5 40.28125 \nQ 14.5 37.15625 16.890625 35.375 \nQ 19.28125 33.59375 26.515625 31.984375 \nL 29.59375 31.296875 \nQ 39.15625 29.25 43.1875 25.515625 \nQ 47.21875 21.78125 47.21875 15.09375 \nQ 47.21875 7.46875 41.1875 3.015625 \nQ 35.15625 -1.421875 24.609375 -1.421875 \nQ 20.21875 -1.421875 15.453125 -0.5625 \nQ 10.6875 0.296875 5.421875 2 \nL 5.421875 11.28125 \nQ 10.40625 8.6875 15.234375 7.390625 \nQ 20.0625 6.109375 24.8125 6.109375 \nQ 31.15625 6.109375 34.5625 8.28125 \nQ 37.984375 10.453125 37.984375 14.40625 \nQ 37.984375 18.0625 35.515625 20.015625 \nQ 33.0625 21.96875 24.703125 23.78125 \nL 21.578125 24.515625 \nQ 13.234375 26.265625 9.515625 29.90625 \nQ 5.8125 33.546875 5.8125 39.890625 \nQ 5.8125 47.609375 11.28125 51.796875 \nQ 16.75 56 26.8125 56 \nQ 31.78125 56 36.171875 55.265625 \nQ 40.578125 54.546875 44.28125 53.078125 \nz\n\" id=\"DejaVuSans-115\"/>\n     </defs>\n     <use xlink:href=\"#DejaVuSans-67\"/>\n     <use x=\"69.824219\" xlink:href=\"#DejaVuSans-97\"/>\n     <use x=\"131.103516\" xlink:href=\"#DejaVuSans-114\"/>\n     <use x=\"170.466797\" xlink:href=\"#DejaVuSans-103\"/>\n     <use x=\"233.943359\" xlink:href=\"#DejaVuSans-97\"/>\n     <use x=\"295.222656\" xlink:href=\"#DejaVuSans-32\"/>\n     <use x=\"327.009766\" xlink:href=\"#DejaVuSans-100\"/>\n     <use x=\"390.486328\" xlink:href=\"#DejaVuSans-101\"/>\n     <use x=\"452.009766\" xlink:href=\"#DejaVuSans-32\"/>\n     <use x=\"483.796875\" xlink:href=\"#DejaVuSans-117\"/>\n     <use x=\"547.175781\" xlink:href=\"#DejaVuSans-110\"/>\n     <use x=\"610.554688\" xlink:href=\"#DejaVuSans-32\"/>\n     <use x=\"642.341797\" xlink:href=\"#DejaVuSans-99\"/>\n     <use x=\"697.322266\" xlink:href=\"#DejaVuSans-111\"/>\n     <use x=\"758.503906\" xlink:href=\"#DejaVuSans-110\"/>\n     <use x=\"821.882812\" xlink:href=\"#DejaVuSans-100\"/>\n     <use x=\"885.359375\" xlink:href=\"#DejaVuSans-101\"/>\n     <use x=\"946.882812\" xlink:href=\"#DejaVuSans-110\"/>\n     <use x=\"1010.261719\" xlink:href=\"#DejaVuSans-115\"/>\n     <use x=\"1062.361328\" xlink:href=\"#DejaVuSans-97\"/>\n     <use x=\"1123.640625\" xlink:href=\"#DejaVuSans-100\"/>\n     <use x=\"1187.117188\" xlink:href=\"#DejaVuSans-111\"/>\n     <use x=\"1248.298828\" xlink:href=\"#DejaVuSans-114\"/>\n    </g>\n   </g>\n  </g>\n </g>\n <defs>\n  <clipPath id=\"pd9e3ca303a\">\n   <rect height=\"217.44\" width=\"334.8\" x=\"54.908594\" y=\"22.318125\"/>\n  </clipPath>\n </defs>\n</svg>\n",
      "image/png": "[encoded data removed]"
     },
     "metadata": {
      "needs_background": "light"
     }
    }
   ],
   "source": [
    "figura = plt.figure()\n",
    "plt.title(\"Carga de un condensador\")\n",
    "plt.plot(resultados['tran']['T'], resultados['tran']['I(V1)'], label=\"Una etiqueta\")"
   ]
  },
  {
   "source": [
    "la intensidad va bajando hasta que el condensador queda totalmente cargado. El voltaje a medida que evoluciona el circuito en el tiempo tiende a 0. \n",
    "\n",
    "\n",
    "\n"
   ],
   "cell_type": "markdown",
   "metadata": {}
  },
  {
   "cell_type": "code",
   "execution_count": 287,
   "metadata": {},
   "outputs": [
    {
     "output_type": "stream",
     "name": "stdout",
     "text": [
      "0.006\n"
     ]
    }
   ],
   "source": [
    "intensidad = 6/1000\n",
    "print (intensidad)\n"
   ]
  },
  {
   "cell_type": "code",
   "execution_count": null,
   "metadata": {},
   "outputs": [],
   "source": []
  }
 ]
}