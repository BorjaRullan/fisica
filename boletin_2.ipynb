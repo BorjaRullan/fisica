{
  "cells": [
    {
      "cell_type": "markdown",
      "source": [
        "# BOLETÍN EFECTO FOTOELÉCTRICO\n",
        "\n",
        "Grupo 9. Borja Rullán Terrazas, Mikel Najera Lorenzo, Ismael Madani Ramirez, Marc Cladellas Martí."
      ],
      "metadata": {
        "nteract": {
          "transient": {
            "deleting": false
          }
        }
      }
    },
    {
      "cell_type": "markdown",
      "source": [
        "## Historia en torno al efecto fotoelectrico\n",
        "\n",
        "**Heinrich Herzt** descubrió de forma accidental el efecto fotoeléctrico al detectar de que objeto cargado perdía su carga más fácilmente cuando era iluminado por luz ultravioleta.\n",
        "En 1887, observo el efecto fotoeléctrico a través de la producción y recepción de ondas electromagnéticas. Utilizó una bobina con un espacio de chispa como receptor, de tal manera que se viera una chispa al detectar ondas electromagnéticas. Colocó el receptor en una caja oscura para ver mejor la chispa,pero observó que la longitud máxima de la chispa disminuía.\n",
        "Publicó un artículo con los resultados obtenidos sin poder explicar el fenómeno observado.\n",
        "En 1902,**Philipp Lenard** observó que la energía de los electrones emitidos aumentaba con la frecuencia de la luz. Lo cual parecía contradecir la teoría ondulatoria de la luz de Maxwell, que predijo que la energía de los electrones sería proporcional a la intensidad de la radiación.\n",
        "Encontró la energía del electrón relacionándola con el potencial o voltaje de parada máximo en un fototubo. \n",
        "Antes de 1905,además del fenómeno ya reseñado de que la energía de los fotoelectrones aumenta con la frecuencia de la luz incidente, se habían observado otros dos fenómenos que entraban en contradición con la teoría ondulatoria de la luz:\n",
        "\n",
        "**1.** *La existencia de una frecuencia umbral de la luz incidente, por debajo de la cual no se observa la emisión de fotoelectrones, independientemente de la intensidad de la luz y el tiempo.\n",
        "**2.** *La ausencia de tiempo de retardo en la emisión de fotoelectrones con independencia del valor de la intensidad de la luz incidente\n",
        "\n",
        "En 1905,**Albert Einstein** publicó un artículo con la hipótesis de que la energía de la luz se transportaba en paquetes discretos para explicar los datos experimentales del efecto fotoeléctrico.\n",
        "Einstein teorizó que la energía de cada paquete era igual a la frecuencia de la luz por una constante,posteriormente llamada constante de **PLank**, **E=hV**.\n",
        "Y que un fotón por encima de una frecuencia umbral tiene la energía necesaria para expulsar un sólo electrón,creando el efecto observado.\n",
        "**Robert A. Millikan**, otro físico convencido de que la luz era una onda, se propuso demostrar que la teoría de Einstein era errónea.Pero sus resultados confirmaron la naturaleza crepuscular de la luz.\n",
        "En palabras de **Millikan** :\"Emplee diez años de mi vida comprobando la teoría de Einstein de 1905 y, en contra de mis expectativas,me vi forzado a afirmar su verificación sin ambages a pesar de lo irrazonable que era\". \n",
        "En 1922 se le concedió a Einstein el premio Nobel de física, no por introducir la idea de los cuantos,sino por la formulación de la ley del efecto fotoeléctrico.\n",
        "Como nota final, **Lenard** , durante el régimen nazi, fue defensor de la idea de una \"física aria\" en contraposición de una \"física judía\", la cual consideraba engañosa, en la que incluía las teorías de Albert Einstein y el \"fraude judío\" de la relatividad."
      ],
      "metadata": {
        "nteract": {
          "transient": {
            "deleting": false
          }
        }
      }
    },
    {
      "cell_type": "markdown",
      "source": [
        "## Toma de contacto con el laboratorio virtual\n",
        "\n",
        "\n",
        "\n",
        "Para hacer este ejercicio hemos trabajado con PhET, el proyecto de simulaciones interactivas de la Universidad del Colorado, y que nos proporciona un entorno en linea desde donde poder tomar mediciones en un entorno virtual.\n",
        "\n",
        "En nuestro caso hemos accedido al laboratorio virtual desde el navegador, y es que, si bien PhEt funciona sobre Java, dispone de una versión web gracias a la solución CheerpJ, un compilador que convierte un aplicativo Java en código HTML5 o JavaScript. \n",
        "\n",
        "Como toma de contacto para familiarizarnos con el simulador vamos a obtener la longitud de onda para cada color del arcoiris. \n",
        "\n",
        "En estas primeras mediciones nos hemos limitado a mover el selector de color e identificar la longitud de onda para cada color, siendo el resultado el siguiente: \n",
        "\n",
        "| Color | Longitud de onda (nm)  |\n",
        "|--|--|\n",
        "|Rojo  | 690 |\n",
        "|Naranja  | 600 |\n",
        "|Amarillo  | 579 |\n",
        "|Verde  | 535 |\n",
        "|Azul  | 483 |\n",
        "|Añil  | 450 |\n",
        "|Violeta  | 403 |\n",
        "\n",
        "\n",
        "\n",
        "\n",
        "\n"
      ],
      "metadata": {
        "nteract": {
          "transient": {
            "deleting": false
          }
        }
      }
    },
    {
      "cell_type": "markdown",
      "source": [
        "## Toma de medidas para cuatro metales\n",
        "\n",
        "Llamamos $\\Phi$  a la energía mínima necesaria para que un electrón escape del metal (energía de arranque, extracción, o también llamada función de trabajo ó W). Si la energía de la luz *E* que proporcionamos al metal en el entorno de pruebas es inferior a $\\Phi$ , no hay extracción de electrones, ahora bien, si la energía *E* es superior a $\\Phi$ el electrón sale despedido del metal con una energía cinética $E_{K}$ igual a:\n",
        "\n",
        "\n",
        "\n",
        "$$E_{K} = E-\\Phi$$\n",
        "\n",
        "\n",
        "Si proporcionamos suficiente Energia E, la energía cinética  $E_{K}$ permitirá al electrón llegar a la otra placa del metal, y como ambas están conectadas por un cable en el entorno de pruebas, generaremos corriente.\n",
        "\n",
        "El entorno de pruebas nos permite generar un diferencia de potencial  en sentido contrario al movimiento de los electrones, de forma que lleguemos a frenar los electrones y por lo tanto la corrriente que estamos midiendo. \n",
        "\n",
        "Es decir, vamos a medir el momento en que la energía potencial (en contra) de cada electrón ($e*V$) se hace igual a la energía cinética:\n",
        "\n",
        "$$e*V= E_{K} = E-\\Phi$$\n",
        "\n",
        "\n",
        "**Para ello mediremos en que voltajes  detenemos la emisión de electrones que se han producido al proporcionar energia de luz al metal con diferentes longitudes de onda.** Vamos a repetir el experimento con cinco longitudes de onda para cuatro metales diferentes.\n",
        "\n",
        "En las siguientes capturas de pantalla se puede observar como con metales diferentes, se ha ajustado el voltaje V y la longitud de onda $\\lambda$ en el punto exacto en que **llegan electrones al otro extremo de la placa pero no los suficientes para genrar corriente**:\n",
        "\n",
        "**Calcium**\n",
        "[![calcium.png](https://i.postimg.cc/RF9jt8hN/calcium.png)](https://postimg.cc/t1SSQBhj)\n",
        "\n",
        "**Platinum**\n",
        "[![platinum.png](https://i.postimg.cc/XJ8tk8Bx/platinum.png)](https://postimg.cc/Kk19ZtNg)\n",
        "\n",
        "**Sodium**\n",
        "[![sodium.png](https://i.postimg.cc/N0R35Yg3/sodium.png)](https://postimg.cc/wtTfGCR2)"
      ],
      "metadata": {
        "nteract": {
          "transient": {
            "deleting": false
          }
        }
      }
    },
    {
      "cell_type": "markdown",
      "source": [
        "## Cálculo de la constante de Planck y la función de trabajo.\n",
        "\n",
        "Para proceder al cáculo de la constante de Planck y la función de trabajo el primer paso es volcar los resultados experimentarles en variables para poder tratar con los mismos. Para cada metal hemos tomado cinco medidas de longitud de onda en nanometros y el voltaje de frenado correspondiente en Voltios.\n"
      ],
      "metadata": {
        "nteract": {
          "transient": {
            "deleting": false
          }
        }
      }
    },
    {
      "cell_type": "code",
      "source": [
        "var longitudes_de_onda_nm_sodio = [399, 444, 469, 248, 168];\n",
        "var longitudes_de_onda_metros_sodio = longitudes_de_onda_nm_sodio.map(x => x*1e-9);\n",
        "var voltajes_medidos_sodio = [-0.73, -0.37, -0.18, -2.66,-5.04];  \n",
        "\n",
        "\n",
        "var longitudes_de_onda_nm_platino = [188, 182, 177, 171, 168];\n",
        "var longitudes_de_onda_metros_platino = longitudes_de_onda_nm_platino.map(x => x*1e-9);\n",
        "var voltajes_medidos_platino = [-0.2, -0.4, -0.6, -0.8,-1];  \n",
        "// en voltios (voltaje de frenado)\n",
        "\n",
        "\n",
        "var longitudes_de_onda_nm_calcio = [381, 361, 345, 328, 315];\n",
        "var longitudes_de_onda_metros_calcio = longitudes_de_onda_nm_calcio.map(x => x*1e-9);\n",
        "var voltajes_medidos_calcio = [-0.2, -0.4, -0.6, -0.8,-1];  \n",
        "// en voltios (voltaje de frenado)\n",
        "\n",
        "var longitudes_de_onda_nm_calcio = [381, 361, 345, 328, 315];\n",
        "var longitudes_de_onda_metros_calcio = longitudes_de_onda_nm_calcio.map(x => x*1e-9);\n",
        "var voltajes_medidos_calcio = [-0.2, -0.4, -0.6, -0.8,-1];  \n",
        "// en voltios (voltaje de frenado)\n",
        "\n",
        "var longitudes_de_onda_nm_zinc = [144, 251, 108, 196, 160];\n",
        "var longitudes_de_onda_metros_zinc = longitudes_de_onda_nm_zinc.map(x => x*1e-9);\n",
        "var voltajes_medidos_zinc = [-4.27, -0.47, -7.12, -1.96,-3.4];  \n",
        "// en voltios (voltaje de frenado)\n",
        "\n"
      ],
      "outputs": [],
      "execution_count": 1,
      "metadata": {
        "collapsed": true,
        "jupyter": {
          "source_hidden": false,
          "outputs_hidden": false
        },
        "nteract": {
          "transient": {
            "deleting": false
          }
        },
        "execution": {
          "shell.execute_reply": "2020-12-01T22:27:26.768Z",
          "iopub.status.busy": "2020-12-01T22:27:26.781Z",
          "iopub.execute_input": "2020-12-01T22:27:26.786Z",
          "iopub.status.idle": "2020-12-01T22:27:26.790Z"
        }
      }
    },
    {
      "cell_type": "markdown",
      "source": [
        "Dado que los cálculos posteriores se llevarán a cabo con la frecuencia y no con la longitud de onda vamos a pasar a generar una nueva variable para almacenar el inverso de la longitud de onda, teniendo en cuenta que la relación entre ambas es la siguiente: \n",
        "\n",
        "$$ \\lambda = \\frac {c}{f} $$"
      ],
      "metadata": {
        "nteract": {
          "transient": {
            "deleting": false
          }
        }
      }
    },
    {
      "cell_type": "code",
      "source": [
        "var inversa_de_longitudes_de_onda_sodio = longitudes_de_onda_metros_sodio.map(lambda => 1/lambda );  \n",
        "var inversa_de_longitudes_de_onda_platino = longitudes_de_onda_metros_platino.map(lambda => 1/lambda );  \n",
        "var inversa_de_longitudes_de_onda_calcio = longitudes_de_onda_metros_calcio.map(lambda => 1/lambda );  \n",
        "var inversa_de_longitudes_de_onda_zinc = longitudes_de_onda_metros_zinc.map(lambda => 1/lambda ); \n"
      ],
      "outputs": [],
      "execution_count": 2,
      "metadata": {
        "collapsed": true,
        "jupyter": {
          "source_hidden": false,
          "outputs_hidden": false
        },
        "nteract": {
          "transient": {
            "deleting": false
          }
        },
        "execution": {
          "shell.execute_reply": "2020-12-01T22:27:29.509Z",
          "iopub.status.busy": "2020-12-01T22:27:29.494Z",
          "iopub.execute_input": "2020-12-01T22:27:29.498Z",
          "iopub.status.idle": "2020-12-01T22:27:29.506Z"
        }
      }
    },
    {
      "cell_type": "markdown",
      "source": [
        "A continuación seguiremos preparando los datos para su tratamiento posterior, en este caso aprovecharemos la función .reduce para generar tuplas de datos para cada metal con la relación $\\{{\\frac {1}{\\lambda},V}\\}$"
      ],
      "metadata": {
        "nteract": {
          "transient": {
            "deleting": false
          }
        }
      }
    },
    {
      "cell_type": "code",
      "source": [
        "var datos_a_ajustar_sodio = voltajes_medidos_sodio.reduce((tuplas_longitud_onda_voltaje, b, i) => {\n",
        "    tuplas_longitud_onda_voltaje.push([inversa_de_longitudes_de_onda_sodio[i], b]);\n",
        "  return tuplas_longitud_onda_voltaje;\n",
        "}, []);\n",
        "console.log(datos_a_ajustar_sodio);\n",
        "\n",
        "var datos_a_ajustar_platino = voltajes_medidos_platino.reduce((tuplas_longitud_onda_voltaje, b, i) => {\n",
        "    tuplas_longitud_onda_voltaje.push([inversa_de_longitudes_de_onda_platino[i], b]);\n",
        "  return tuplas_longitud_onda_voltaje;\n",
        "}, []);\n",
        "console.log(datos_a_ajustar_platino);\n",
        "\n",
        "var datos_a_ajustar_calcio = voltajes_medidos_calcio.reduce((tuplas_longitud_onda_voltaje, b, i) => {\n",
        "    tuplas_longitud_onda_voltaje.push([inversa_de_longitudes_de_onda_calcio[i], b]);\n",
        "  return tuplas_longitud_onda_voltaje;\n",
        "}, []);\n",
        "console.log(datos_a_ajustar_calcio);\n",
        "    \n",
        "var datos_a_ajustar_zinc = voltajes_medidos_zinc.reduce((tuplas_longitud_onda_voltaje, b, i) => {\n",
        "    tuplas_longitud_onda_voltaje.push([inversa_de_longitudes_de_onda_zinc[i], b]);\n",
        "  return tuplas_longitud_onda_voltaje;\n",
        "}, []);\n",
        "console.log(datos_a_ajustar_zinc);\n",
        "\n"
      ],
      "outputs": [
        {
          "output_type": "stream",
          "name": "stdout",
          "text": [
            "[\n",
            "  [ 2506265.664160401, -0.73 ],\n",
            "  [ 2252252.2522522523, -0.37 ],\n",
            "  [ 2132196.1620469084, -0.18 ],\n",
            "  [ 4032258.064516129, -2.66 ],\n",
            "  [ 5952380.9523809515, -5.04 ]\n",
            "]\n",
            "[\n",
            "  [ 5319148.936170212, -0.2 ],\n",
            "  [ 5494505.494505494, -0.4 ],\n",
            "  [ 5649717.514124294, -0.6 ],\n",
            "  [ 5847953.216374269, -0.8 ],\n",
            "  [ 5952380.9523809515, -1 ]\n",
            "]\n",
            "[\n",
            "  [ 2624671.9160104985, -0.2 ],\n",
            "  [ 2770083.1024930747, -0.4 ],\n",
            "  [ 2898550.7246376807, -0.6 ],\n",
            "  [ 3048780.487804878, -0.8 ],\n",
            "  [ 3174603.1746031744, -1 ]\n",
            "]\n",
            "[\n",
            "  [ 6944444.444444443, -4.27 ],\n",
            "  [ 3984063.74501992, -0.47 ],\n",
            "  [ 9259259.25925926, -7.12 ],\n",
            "  [ 5102040.816326531, -1.96 ],\n",
            "  [ 6250000, -3.4 ]\n",
            "]\n"
          ]
        }
      ],
      "execution_count": 4,
      "metadata": {
        "collapsed": true,
        "jupyter": {
          "source_hidden": false,
          "outputs_hidden": false
        },
        "nteract": {
          "transient": {
            "deleting": false
          }
        },
        "execution": {
          "iopub.status.busy": "2020-12-01T22:29:04.905Z",
          "iopub.execute_input": "2020-12-01T22:29:04.909Z",
          "iopub.status.idle": "2020-12-01T22:29:04.928Z",
          "shell.execute_reply": "2020-12-01T22:29:04.932Z"
        }
      }
    },
    {
      "cell_type": "markdown",
      "source": [
        "\n",
        "Como hemos visto en el apartado inicial Einstein teorizó que la energía de cada paquete de luz (foton) era igual a la frecuencia de la luz por una constante,posteriormente llamada constante de Planck $ E=h*f$\n",
        "\n",
        "Y que un fotón tiene la energía necesaria para expulsar un sólo electrón,lo que podría asimilarse a un uno-contra-uno de particulas de luz (fotones) con cada electrón. \n",
        "\n",
        "En este sentido, si recordamos como en los medidas tomadas en el laboratorio virtual correspondían con la siguiente fórmula:\n",
        "\n",
        "$$e*V= E_{K} = E-\\phi$$\n",
        "\n",
        "Que a partir de los postulados de Einsten correspondería con:\n",
        "\n",
        "$$e*V = (h*f) -\\phi$$\n",
        "\n",
        "A su vez está formula podríamos reescribirla de la siguiente manera: \n",
        "\n",
        "$$V=\\frac{c*h}{e}*\\frac{1}{\\lambda}-\\frac{\\phi}{e}$$\n",
        "\n",
        "Teniendo en cuenta que conocemos V, e y $\\frac{1}{\\lambda}$ podemos asumir que V dependerá de la frecuencia de la luz multiplicada esta por una constante ( ó pendiente) y sumada (o restada) a otra constante ( u ordenada en origen).\n",
        "\n",
        "Para calcular la pendiente m y la ordenada en origen b a partir de los datos experimentales de cada metal utilizaremos la función regresion a partir de las tuplas generadas anteriormente.\n"
      ],
      "metadata": {
        "nteract": {
          "transient": {
            "deleting": false
          }
        }
      }
    },
    {
      "cell_type": "code",
      "source": [
        "var regression_sodio = require('./regression.js');\n",
        "var result_sodio = regression_sodio.linear(datos_a_ajustar_sodio, { precision: 15 });\n",
        "var m_sodio = result_sodio.equation[0];  // pendiente\n",
        "var b_sodio = result_sodio.equation[1];  // ordenada en origen\n",
        "console.log('Sodio: la pendiente es = ' + m_sodio + ' y la ordenada es = ' + b_sodio);\n",
        "\n",
        "var regression_calcio = require('./regression.js');\n",
        "var result_calcio = regression_calcio.linear(datos_a_ajustar_calcio, { precision: 15 });\n",
        "var m_calcio = result_calcio.equation[0];  // pendiente\n",
        "var b_calcio = result_calcio.equation[1];  // ordenada en origen\n",
        "console.log('Calcio: la pendiente es = ' + m_calcio + ' y la ordenada es = ' + b_calcio);\n",
        "\n",
        "var regression_platino = require('./regression.js');\n",
        "var result_platino = regression_platino.linear(datos_a_ajustar_platino, { precision: 15 });\n",
        "var m_platino = result_platino.equation[0];  // pendiente\n",
        "var b_platino = result_platino.equation[1];  // ordenada en origen\n",
        "console.log('Platino: la pendiente es = ' + m_platino + ' y la ordenada es = ' + b_platino);\n",
        "\n",
        "var regression_zinc = require('./regression.js');\n",
        "var result_zinc = regression_zinc.linear(datos_a_ajustar_zinc, { precision: 15 });\n",
        "var m_zinc = result_zinc.equation[0];  // pendiente\n",
        "var b_zinc = result_zinc.equation[1];  // ordenada en origen\n",
        "console.log('Zinc: la pendiente es = ' + m_zinc + ' y la ordenada es = ' + b_zinc);\n",
        "\n"
      ],
      "outputs": [
        {
          "output_type": "stream",
          "name": "stdout",
          "text": [
            "Sodio: la pendiente es = -0.000001266078956 y la ordenada es = 2.477105885820101\n",
            "Calcio: la pendiente es = -0.000001449796492 y la ordenada es = 3.609249075123791\n",
            "Platino: la pendiente es = -0.00000122616924 y la ordenada es = 6.331217408968271\n",
            "Zinc: la pendiente es = -0.000001256973886 y la ordenada es = 4.484943071723001\n"
          ]
        }
      ],
      "execution_count": 5,
      "metadata": {
        "collapsed": true,
        "jupyter": {
          "source_hidden": false,
          "outputs_hidden": false
        },
        "nteract": {
          "transient": {
            "deleting": false
          }
        },
        "execution": {
          "shell.execute_reply": "2020-12-01T22:29:52.326Z",
          "iopub.status.busy": "2020-12-01T22:29:52.291Z",
          "iopub.execute_input": "2020-12-01T22:29:52.295Z",
          "iopub.status.idle": "2020-12-01T22:29:52.315Z"
        }
      }
    },
    {
      "cell_type": "markdown",
      "source": [
        "Una vez calculados los valores de pendiente y coordenada en origen a partir de los resultados experimentales y teniendo en cuenta la fórmula anteriormente descrita: \n",
        "\n",
        "$$V=\\frac{c*h}{e}*\\frac{1}{\\lambda}-\\frac{\\phi}{e}$$\n",
        "\n",
        "Derivamos que la pendiente corresponde a:\n",
        "\n",
        "$$ m = \\frac {c*h}{e}$$\n",
        "\n",
        "es decir, que la constante de Planck es\n",
        "\n",
        "$$ f = \\frac {m*e}{c}$$\n",
        "\n",
        "siendo c la velocidad de la luz expresada en $\\frac{m}{s}$  y $e$ la carga del electron expresada en culombios.\n",
        "\n"
      ],
      "metadata": {
        "nteract": {
          "transient": {
            "deleting": false
          }
        }
      }
    },
    {
      "cell_type": "code",
      "source": [
        "var c = 299792458;\n",
        "var e = -1.6*1e-19;\n",
        "\n",
        "var plank_sodio = ( m_sodio  * e) / (c) ;\n",
        "console.log (plank_sodio)\n",
        "\n",
        "var plank_platino = ( m_platino  * e) / (c) ;\n",
        "console.log (plank_platino)\n",
        "\n",
        "var plank_calcio = ( m_calcio  * e) / (c) ;\n",
        "console.log (plank_calcio)\n",
        "\n",
        "var plank_zinc = ( m_zinc  * e) / (c) ;\n",
        "console.log (plank_zinc)\n",
        "\n",
        "\n",
        "var fuerza_sodio = e*b_sodio;\n",
        "var fuerza_platino = e*b_platino;\n",
        "var fuerza_calcio = e*b_calcio;\n",
        "console.log (fuerza_sodio);\n",
        "console.log (fuerza_platino);\n",
        "console.log (fuerza_calcio);\n"
      ],
      "outputs": [
        {
          "output_type": "stream",
          "name": "stdout",
          "text": [
            "6.757095702520976e-34\n",
            "6.544096529606493e-34\n",
            "7.737600881206959e-34\n",
            "6.708501711540722e-34\n",
            "-3.963369417312162e-19\n",
            "-1.0129947854349235e-18\n",
            "-5.774798520198066e-19\n"
          ]
        }
      ],
      "execution_count": 6,
      "metadata": {
        "collapsed": true,
        "jupyter": {
          "source_hidden": false,
          "outputs_hidden": false
        },
        "nteract": {
          "transient": {
            "deleting": false
          }
        },
        "execution": {
          "iopub.status.busy": "2020-12-01T22:30:15.563Z",
          "iopub.execute_input": "2020-12-01T22:30:15.567Z",
          "iopub.status.idle": "2020-12-01T22:30:15.592Z",
          "shell.execute_reply": "2020-12-01T22:30:15.596Z"
        }
      }
    },
    {
      "cell_type": "code",
      "source": [
        "Cómo podemos observar los resultados tomados para el Calcio no coinciden con el resto y han generado un valor erroneo. Una forma de analizar los resultados de forma gráfica es pintar los mismos en una gráfica como hacemos a continuación:"
      ],
      "outputs": [],
      "execution_count": null,
      "metadata": {
        "collapsed": true,
        "jupyter": {
          "source_hidden": false,
          "outputs_hidden": false
        },
        "nteract": {
          "transient": {
            "deleting": false
          }
        }
      }
    },
    {
      "cell_type": "code",
      "source": [
        "function Plotly(data, layout, $$) {\n",
        "    $$ = $$ || global.$$;\n",
        "    $$.mime({ \"application/vnd.plotly.v1+json\": { data: data, layout: layout } });\n",
        "}\n",
        "\n",
        "//voltajes_de_frenado_calculados = inversa_de_longitudes_de_onda.map(inversa_lambda => inversa_lambda * m + b);\n",
        "\n",
        "datos = [\n",
        "  { x: inversa_de_longitudes_de_onda_sodio, y: voltajes_medidos_sodio, name: 'Datos experimentales SODIO' }, \n",
        "  { x: inversa_de_longitudes_de_onda_platino, y: voltajes_medidos_platino, name: 'Datos experimentales PLATINO' },\n",
        "    { x: inversa_de_longitudes_de_onda_calcio, y: voltajes_medidos_calcio, name: 'Datos experimentales CALCIO' },\n",
        "     { x: inversa_de_longitudes_de_onda_zinc, y: voltajes_medidos_zinc, name: 'Datos experimentales ZINC' }\n",
        "  \n",
        "  \n",
        "];\n",
        "\n",
        "\n",
        "var layout = {\n",
        "  title: 'Representación gráfica',\n",
        "  xaxis: { title: 'Inversa longitud de onda (1 / nanometros) ',\n",
        "    titlefont: { family: 'Courier New, monospace', size: 18, color: '#7f7f7f' }\n",
        "  },\n",
        "  yaxis: {\n",
        "    title: 'Voltajes ( Voltios) ', titlefont: {\n",
        "      family: 'Courier New, monospace', size: 18, color: '#7f7f7f' }\n",
        "  }\n",
        "};\n",
        "Plotly(datos, layout);\n"
      ],
      "outputs": [
        {
          "output_type": "execute_result",
          "execution_count": 11,
          "data": {
            "application/vnd.plotly.v1+json": {
              "data": [
                {
                  "x": [
                    2506265.664160401,
                    2252252.2522522523,
                    2132196.1620469084,
                    4032258.064516129,
                    5952380.9523809515
                  ],
                  "y": [
                    -0.73,
                    -0.37,
                    -0.18,
                    -2.66,
                    -5.04
                  ],
                  "name": "Datos experimentales SODIO"
                },
                {
                  "x": [
                    5319148.936170212,
                    5494505.494505494,
                    5649717.514124294,
                    5847953.216374269,
                    5952380.9523809515
                  ],
                  "y": [
                    -0.2,
                    -0.4,
                    -0.6,
                    -0.8,
                    -1
                  ],
                  "name": "Datos experimentales PLATINO"
                },
                {
                  "x": [
                    2624671.9160104985,
                    2770083.1024930747,
                    2898550.7246376807,
                    3048780.487804878,
                    3174603.1746031744
                  ],
                  "y": [
                    -0.2,
                    -0.4,
                    -0.6,
                    -0.8,
                    -1
                  ],
                  "name": "Datos experimentales CALCIO"
                },
                {
                  "x": [
                    6944444.444444443,
                    3984063.74501992,
                    9259259.25925926,
                    5102040.816326531,
                    6250000
                  ],
                  "y": [
                    -4.27,
                    -0.47,
                    -7.12,
                    -1.96,
                    -3.4
                  ],
                  "name": "Datos experimentales ZINC"
                }
              ],
              "layout": {
                "title": "Representación gráfica",
                "xaxis": {
                  "title": "Inversa longitud de onda (1 / nanometros) ",
                  "titlefont": {
                    "family": "Courier New, monospace",
                    "size": 18,
                    "color": "#7f7f7f"
                  }
                },
                "yaxis": {
                  "title": "Voltajes ( Voltios) ",
                  "titlefont": {
                    "family": "Courier New, monospace",
                    "size": 18,
                    "color": "#7f7f7f"
                  }
                }
              }
            }
          },
          "metadata": {}
        }
      ],
      "execution_count": 11,
      "metadata": {
        "collapsed": true,
        "jupyter": {
          "source_hidden": false,
          "outputs_hidden": false
        },
        "nteract": {
          "transient": {
            "deleting": false
          }
        },
        "execution": {
          "shell.execute_reply": "2020-12-01T22:35:00.247Z",
          "iopub.status.busy": "2020-12-01T22:35:00.192Z",
          "iopub.execute_input": "2020-12-01T22:35:00.197Z",
          "iopub.status.idle": "2020-12-01T22:35:00.242Z"
        }
      }
    }
  ],
  "metadata": {
    "kernel_info": {
      "name": "node_nteract"
    },
    "language_info": {
      "name": "javascript",
      "version": "12.8.1",
      "mimetype": "application/javascript",
      "file_extension": ".js"
    },
    "kernelspec": {
      "argv": [
        "/Applications/nteract.app/Contents/MacOS/nteract",
        "/Applications/nteract.app/Contents/Resources/app.asar/node_modules/ijavascript/lib/kernel.js",
        "{connection_file}",
        "--protocol=5.0",
        "--hide-undefined"
      ],
      "display_name": "Node.js (nteract)",
      "env": {
        "ELECTRON_RUN_AS_NODE": "1",
        "NODE_PATH": "/Applications/nteract.app/Contents/Resources/app.asar/node_modules"
      },
      "language": "javascript",
      "name": "node_nteract"
    },
    "nteract": {
      "version": "0.26.0"
    }
  },
  "nbformat": 4,
  "nbformat_minor": 0
}